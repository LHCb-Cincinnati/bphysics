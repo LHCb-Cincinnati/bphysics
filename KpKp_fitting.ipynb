{
 "cells": [
  {
   "cell_type": "markdown",
   "metadata": {},
   "source": [
    "# $B+ -> \\Lambda_{bar} p K+ K+$"
   ]
  },
  {
   "cell_type": "code",
   "execution_count": 22,
   "metadata": {},
   "outputs": [],
   "source": [
    "import uproot\n",
    "import numpy as np\n",
    "import matplotlib.pyplot as plt\n",
    "import vector  ## added by mds\n",
    "import awkward as ak\n",
    "import iminuit\n",
    "from iminuit import Minuit\n",
    "from fit_classes import *\n",
    "from utils import *"
   ]
  },
  {
   "cell_type": "code",
   "execution_count": 23,
   "metadata": {},
   "outputs": [],
   "source": [
    "# ignore warnings\n",
    "import warnings\n",
    "warnings.filterwarnings('ignore')\n"
   ]
  },
  {
   "cell_type": "code",
   "execution_count": 24,
   "metadata": {},
   "outputs": [],
   "source": [
    "# Use LHCb style for plots\n",
    "#import mplhep as hep\n",
    "#plt.style.use(hep.style.CMS)\n",
    "#plt.rcParams[\"figure.figsize\"] = (8,6)\n",
    "#plt.rcParams['font.family'] = 'DejaVu Sans' # Change 'DejaVu Sans' to a font installed on your system\n"
   ]
  },
  {
   "attachments": {},
   "cell_type": "markdown",
   "metadata": {},
   "source": [
    "## All data "
   ]
  },
  {
   "cell_type": "code",
   "execution_count": 25,
   "metadata": {},
   "outputs": [
    {
     "name": "stdout",
     "output_type": "stream",
     "text": [
      "Available decay trees:\n",
      "1. B2L0pbarpippim\n",
      "2. B2L0pbarpippip\n",
      "3. B2L0pbarKmpip\n",
      "4. B2L0pbarKppip\n",
      "5. B2L0pbarKppim\n",
      "6. B2L0pbarKpKm\n",
      "7. B2L0pbarpp\n",
      "8. B2L0pbarKpKp\n",
      "Selected decay tree: B2L0pbarKpKp\n"
     ]
    }
   ],
   "source": [
    "available_trees = ['B2L0pbarpippim', 'B2L0pbarpippip', 'B2L0pbarKmpip', 'B2L0pbarKppip', \n",
    "                   'B2L0pbarKppim', 'B2L0pbarKpKm', 'B2L0pbarpp', 'B2L0pbarKpKp']\n",
    "\n",
    "# Show available decay trees\n",
    "print(\"Available decay trees:\")\n",
    "for idx, tree in enumerate(available_trees, 1):\n",
    "    print(f\"{idx}. {tree}\")\n",
    "\n",
    "# Get a physicist input for selected tree\n",
    "tree_idx = int(input(\"Please select the number of your desired decay tree: \")) - 1\n",
    "decay_tree = available_trees[tree_idx]\n",
    "\n",
    "base_path = '/share/lazy/Bu2LambdaPHH/NTuples/RD/'\n",
    "file_names = ['L0phh_18MU.root', 'L0phh_18MD.root', 'L0phh_17MU.root', 'L0phh_17MD.root', \n",
    "              'L0phh_16MU.root', 'L0phh_16MD.root', 'L0phh_15MU.root', 'L0phh_15MD.root']\n",
    "\n",
    "data = [f'{base_path}{file_name}:{decay_tree}/DecayTree' for file_name in file_names]\n",
    "\n",
    "# print what the user has selected\n",
    "print(f\"Selected decay tree: {decay_tree}\")"
   ]
  },
  {
   "attachments": {},
   "cell_type": "markdown",
   "metadata": {},
   "source": [
    "## Specific Data choice"
   ]
  },
  {
   "cell_type": "code",
   "execution_count": null,
   "metadata": {},
   "outputs": [
    {
     "name": "stdout",
     "output_type": "stream",
     "text": [
      "1. 15\n",
      "2. 16\n",
      "3. 17\n",
      "4. 18\n"
     ]
    },
    {
     "ename": "IndexError",
     "evalue": "list index out of range",
     "output_type": "error",
     "traceback": [
      "\u001b[0;31m---------------------------------------------------------------------------\u001b[0m",
      "\u001b[0;31mIndexError\u001b[0m                                Traceback (most recent call last)",
      "Cell \u001b[0;32mIn[175], line 12\u001b[0m\n\u001b[1;32m     10\u001b[0m     \u001b[39mprint\u001b[39m(\u001b[39mf\u001b[39m\u001b[39m\"\u001b[39m\u001b[39m{\u001b[39;00midx\u001b[39m}\u001b[39;00m\u001b[39m. \u001b[39m\u001b[39m{\u001b[39;00myear\u001b[39m}\u001b[39;00m\u001b[39m\"\u001b[39m)\n\u001b[1;32m     11\u001b[0m year_idx \u001b[39m=\u001b[39m \u001b[39mint\u001b[39m(\u001b[39minput\u001b[39m(\u001b[39m\"\u001b[39m\u001b[39mPlease select the year: \u001b[39m\u001b[39m\"\u001b[39m)) \u001b[39m-\u001b[39m \u001b[39m1\u001b[39m  \u001b[39m# Subtract 1 from user input\u001b[39;00m\n\u001b[0;32m---> 12\u001b[0m year \u001b[39m=\u001b[39m available_years[year_idx]\n\u001b[1;32m     15\u001b[0m \u001b[39m# show available magnet choices\u001b[39;00m\n\u001b[1;32m     16\u001b[0m \u001b[39mprint\u001b[39m(\u001b[39m\"\u001b[39m\u001b[39mAvailable magnet directions:\u001b[39m\u001b[39m\"\u001b[39m)\n",
      "\u001b[0;31mIndexError\u001b[0m: list index out of range"
     ]
    }
   ],
   "source": [
    "base_path = '/share/lazy/Bu2LambdaPHH/NTuples/RD/'\n",
    "\n",
    "available_trees = ['B2L0pbarpippim', 'B2L0pbarpippip', 'B2L0pbarKmpip', 'B2L0pbarKppip', \n",
    "                   'B2L0pbarKppim', 'B2L0pbarKpKm', 'B2L0pbarpp', 'B2L0pbarKpKp']\n",
    "\n",
    "available_years = ['15','16','17','18']\n",
    "available_magnet = ['MU', 'MD']\n",
    "\n",
    "for idx, year in enumerate(available_years, 1):\n",
    "    print(f\"{idx}. {year}\")\n",
    "year_idx = int(input(\"Please select the year: \")) - 1  # Subtract 1 from user input\n",
    "year = available_years[year_idx]\n",
    "\n",
    "\n",
    "# show available magnet choices\n",
    "print(\"Available magnet directions:\")\n",
    "for idx, magnet in enumerate(['MU', 'MD'], 1):\n",
    "    print(f\"{idx}. {magnet}\")\n",
    "magnet_idx = int(input(\"Please select the number of your desired magnet: \")) - 1  # Subtract 1 from user input\n",
    "magnet_direction = available_magnet[magnet_idx]\n",
    "\n",
    "# Show available decay trees\n",
    "print(\"Available decay trees:\")\n",
    "for idx, tree in enumerate(available_trees, 1):\n",
    "    print(f\"{idx}. {tree}\")\n",
    "\n",
    "# Get a physicist input for selected tree\n",
    "tree_idx = int(input(\"Please select the number of your desired decay tree: \")) - 1  # Subtract 1 from user input\n",
    "decay_tree = available_trees[tree_idx]\n",
    "\n",
    "file_name = get_file_name(year, magnet_direction)\n",
    "\n",
    "data = [f'{base_path}{file_name}:{decay_tree}/DecayTree']\n",
    "\n",
    "#print(f\"Selected decay tree: {decay_tree}\")\n",
    "#print(f\"Selected year: {year}\")\n",
    "#print(f\"Selected magnet direction: {magnet_direction}\")\n",
    "\n",
    "# combine the three print lines\n",
    "print(f\"You have chosen to analyse {decay_tree} for 20{year} data in the {magnet_direction} field.\")\n"
   ]
  },
  {
   "attachments": {},
   "cell_type": "markdown",
   "metadata": {},
   "source": [
    "Run the following regardless of data choice"
   ]
  },
  {
   "cell_type": "code",
   "execution_count": 26,
   "metadata": {},
   "outputs": [],
   "source": [
    "plots_dir = f'plots/{decay_tree}'\n",
    "if plots_dir is not None:\n",
    "    import os\n",
    "    os.makedirs(plots_dir, exist_ok=True)"
   ]
  },
  {
   "cell_type": "code",
   "execution_count": 27,
   "metadata": {},
   "outputs": [
    {
     "name": "stdout",
     "output_type": "stream",
     "text": [
      "Concantenated arrays are ready:\n",
      "Number of events: 11705\n"
     ]
    }
   ],
   "source": [
    "arrs = uproot.concatenate(data)\n",
    "print(\"Concantenated arrays are ready:\")\n",
    "print(f\"Number of events: {len(arrs)}\")\n",
    "#print(f\"Number of variables: {len(arrs[0])}\")\n"
   ]
  },
  {
   "cell_type": "code",
   "execution_count": 28,
   "metadata": {},
   "outputs": [],
   "source": [
    "h1_P = arrs['h1_P']\n",
    "h1_PT = arrs['h1_PT']\n",
    "h1_PE = arrs['h1_PE']\n",
    "h1_PX = arrs['h1_PX']\n",
    "h1_PY = arrs['h1_PY']\n",
    "h1_PZ = arrs['h1_PZ']\n",
    "h1_ID = arrs['h1_ID']\n",
    "h1_TRACK_Type = arrs['h1_TRACK_Type']\n",
    "h2_P = arrs['h2_P']\n",
    "h2_PT = arrs['h2_PT']\n",
    "h2_PE = arrs['h2_PE']\n",
    "h2_PX = arrs['h2_PX']\n",
    "h2_PY = arrs['h2_PY']\n",
    "h2_PZ = arrs['h2_PZ']\n",
    "h2_ID = arrs['h2_ID']\n",
    "h2_TRACK_Type = arrs['h2_TRACK_Type']\n",
    "p_P = arrs['p_P']\n",
    "p_PT = arrs['p_PT']\n",
    "p_PE = arrs['p_PE']\n",
    "p_PX = arrs['p_PX']\n",
    "p_PY = arrs['p_PY']\n",
    "p_PZ = arrs['p_PZ']\n",
    "p_ID = arrs['p_ID']\n",
    "p_TRACK_Type = arrs['p_TRACK_Type']\n",
    "Lp_P = arrs['Lp_P']\n",
    "Lp_PT = arrs['Lp_PT']\n",
    "Lp_PE = arrs['Lp_PE']\n",
    "Lp_PX = arrs['Lp_PX']\n",
    "Lp_PY = arrs['Lp_PY']\n",
    "Lp_PZ = arrs['Lp_PZ']\n",
    "Lp_ID = arrs['Lp_ID']\n",
    "Lp_TRACK_Type = arrs['Lp_TRACK_Type']\n",
    "Lp_ProbNNp = arrs['Lp_ProbNNp']\n",
    "\n",
    "LL = (3 == Lp_TRACK_Type)\n",
    "DD = (5 == Lp_TRACK_Type)\n",
    "Lpi_P = arrs['Lpi_P']\n",
    "Lpi_PT = arrs['Lpi_PT']\n",
    "Lpi_PE = arrs['Lpi_PE']\n",
    "Lpi_PX = arrs['Lpi_PX']\n",
    "Lpi_PY = arrs['Lpi_PY']\n",
    "Lpi_PZ = arrs['Lpi_PZ']\n",
    "Lpi_ID = arrs['Lpi_ID']\n",
    "Lpi_TRACK_Type = arrs['Lpi_TRACK_Type']\n",
    "Lpi_ProbNNpi = arrs['Lpi_ProbNNpi']\n",
    "L0_P = arrs['L0_P']\n",
    "L0_PT = arrs['L0_PT']\n",
    "L0_PE = arrs['L0_PE']\n",
    "L0_PX = arrs['L0_PX']\n",
    "L0_PY = arrs['L0_PY']\n",
    "L0_PZ = arrs['L0_PZ']\n",
    "L0_ID = arrs['L0_ID']\n",
    "L0_MM = arrs['L0_MM']\n",
    "L0_DOCA12 = arrs['L0_DOCA12']\n"
   ]
  },
  {
   "cell_type": "code",
   "execution_count": 29,
   "metadata": {},
   "outputs": [
    {
     "name": "stdout",
     "output_type": "stream",
     "text": [
      "Lp_ID =  [2212, 2212, 2212, 2212, -2212, -2212, ..., 2212, 2212, -2212, 2212, -2212]\n",
      "Lp is pi-/+ particles (that should come from Lambda)\n",
      "p_ID =  [-2212, -2212, -2212, -2212, 2212, 2212, ..., -2212, -2212, 2212, -2212, 2212]\n",
      "p is p-/+ particles\n",
      "h1_ID = [321, 321, 321, 321, -321, -321, 321, ..., -321, 321, 321, -321, 321, -321]\n",
      "h1 is K-/+ particles\n",
      "h2_ID = [321, 321, 321, 321, -321, -321, 321, ..., -321, 321, 321, -321, 321, -321]\n",
      "h2 is K-/+ particles\n",
      "Lpi_ID = [-211, -211, -211, -211, 211, 211, -211, ..., 211, -211, -211, 211, -211, 211]\n",
      "Lpi is pi-/+ particles (that should come from Lambda)\n",
      "L0_ID = [3122, 3122, 3122, 3122, -3122, -3122, ..., 3122, 3122, -3122, 3122, -3122]\n",
      "L0 is Lambda particles\n"
     ]
    }
   ],
   "source": [
    "print('Lp_ID = ',Lp_ID)\n",
    "if np.any(np.bitwise_or(Lp_ID == 2212, Lp_ID == -2212)):\n",
    "    print('Lp is pi-/+ particles (that should come from Lambda)')\n",
    "else:\n",
    "    print('Lp is not pi-/+ particles (that should come from Lambda)')    \n",
    "print('p_ID = ', p_ID)\n",
    "if np.any(np.bitwise_or(p_ID == 2212, p_ID == -2212)):\n",
    "    print('p is p-/+ particles')\n",
    "else:\n",
    "    print('p is not p-/+ particles. probably something went wrong')    \n",
    "print('h1_ID =', h1_ID)\n",
    "if np.any(np.bitwise_or(h1_ID == 211, h1_ID == -211)):\n",
    "    print('h1 is pi-/+ particles')\n",
    "elif np.any(np.bitwise_or(h1_ID == 321, h1_ID == -321)):\n",
    "    print('h1 is K-/+ particles')\n",
    "elif np.any(np.bitwise_or(h1_ID == 2212, h1_ID == -2212)):\n",
    "    print('h1 is p-/+ particles')    \n",
    "print('h2_ID =', h2_ID)\n",
    "if np.any(np.bitwise_or(h2_ID == 211, h2_ID == -211)):\n",
    "    print('h2 is pi-/+ particles')\n",
    "elif np.any(np.bitwise_or(h2_ID == 321, h2_ID == -321)):\n",
    "    print('h2 is K-/+ particles')\n",
    "elif np.any(np.bitwise_or(h2_ID == 2212, h2_ID == -2212)):\n",
    "    print('h2 is p-/+ particles')        \n",
    "print('Lpi_ID =', Lpi_ID)\n",
    "if np.any(np.bitwise_or(Lpi_ID == 211, Lpi_ID == -211)):\n",
    "    print('Lpi is pi-/+ particles (that should come from Lambda)')\n",
    "else:\n",
    "    print('Lpi is not pi-/+ particles (that should come from Lambda)')    \n",
    "print('L0_ID =', L0_ID)\n",
    "if np.any(np.bitwise_or(L0_ID == 3122, L0_ID == -3122)):\n",
    "    print('L0 is Lambda particles')\n",
    "else:\n",
    "    print('L0 is not Lambda particles. probably something went wrong')    \n"
   ]
  },
  {
   "cell_type": "code",
   "execution_count": 30,
   "metadata": {},
   "outputs": [],
   "source": [
    "Bu_FDCHI2_OWNPV = arrs['Bu_FDCHI2_OWNPV']\n",
    "L0_ENDVERTEX_X = arrs['L0_ENDVERTEX_X'] # The x coordinate of the L0 decay vertex\n",
    "L0_ENDVERTEX_Y = arrs['L0_ENDVERTEX_Y'] # The y coordinate of the L0 decay vertex\n",
    "L0_ENDVERTEX_Z = arrs['L0_ENDVERTEX_Z'] # The z coordinate of the L0 decay vertex\n",
    "L0_ENDVERTEX_XERR = arrs['L0_ENDVERTEX_XERR'] # The error on the x coordinate of the L0 decay vertex\n",
    "L0_ENDVERTEX_YERR = arrs['L0_ENDVERTEX_YERR'] # The error on the y coordinate of the L0 decay vertex\n",
    "L0_ENDVERTEX_ZERR = arrs['L0_ENDVERTEX_ZERR'] # The error on the z coordinate of the L0 decay vertex\n",
    "L0_OWNPV_Z = arrs['L0_OWNPV_Z'] # The z coordinate of the L0 production vertex\n",
    "L0_OWNPV_ZERR = arrs['L0_OWNPV_ZERR'] # The error on the z coordinate of the L0 production vertex\n",
    "\n",
    "L0_FD_OWNPV = arrs['L0_FD_OWNPV'] # The flight distance of the L0 decay vertex from the L0 production vertex\n",
    "L0_FDCHI2_OWNPV = arrs['L0_FDCHI2_OWNPV'] # The flight distance of the L0 decay vertex from the L0 production vertex, normalised by its uncertainty\n",
    "Bu_ENDVERTEX_X = arrs['Bu_ENDVERTEX_X'] # The x coordinate of the Bu decay vertex\n",
    "Bu_ENDVERTEX_Y = arrs['Bu_ENDVERTEX_Y'] # The y coordinate of the Bu decay vertex\n",
    "Bu_ENDVERTEX_Z = arrs['Bu_ENDVERTEX_Z'] # The z coordinate of the Bu decay vertex\n",
    "Bu_ENDVERTEX_XERR = arrs['Bu_ENDVERTEX_XERR'] # The error on the x coordinate of the Bu decay vertex\n",
    "Bu_ENDVERTEX_YERR = arrs['Bu_ENDVERTEX_YERR'] # The error on the y coordinate of the Bu decay vertex\n",
    "Bu_ENDVERTEX_ZERR = arrs['Bu_ENDVERTEX_ZERR'] # The error on the z coordinate of the Bu decay vertex\n",
    "Bu_IPCHI2_OWNPV = arrs['Bu_IPCHI2_OWNPV'] # The chi-square of the impact parameter (the distance of closest approach of the particle track to the primary vertex)\n",
    "Bu_MM = arrs['Bu_MM'] # The invariant mass of the Bu candidate\n",
    "Bu_DOCA12 = arrs['Bu_DOCA12'] # The distance of closest approach between the two daughters of the Bu candidate\n",
    "Delta_Z = L0_ENDVERTEX_Z - Bu_ENDVERTEX_Z # The difference in z coordinates between the L0 and Bu decay vertices\n",
    "Delta_X = L0_ENDVERTEX_X - Bu_ENDVERTEX_X # The difference in x coordinates between the L0 and Bu decay vertices\n",
    "Delta_Y = L0_ENDVERTEX_Y - Bu_ENDVERTEX_Y # The difference in y coordinates between the L0 and Bu decay vertices\n",
    "Delta_X_ERR = np.sqrt(np.square(Bu_ENDVERTEX_XERR)+np.square(L0_ENDVERTEX_XERR)) # The error on the difference in x coordinates between the L0 and Bu decay vertices\n",
    "Delta_Y_ERR = np.sqrt(np.square(Bu_ENDVERTEX_YERR)+np.square(L0_ENDVERTEX_YERR)) # The error on the difference in y coordinates between the L0 and Bu decay vertices\n",
    "Delta_Z_ERR = np.sqrt(np.square(Bu_ENDVERTEX_ZERR)+np.square(L0_ENDVERTEX_ZERR)) # The error on the difference in z coordinates between the L0 and Bu decay vertices\n",
    "Delta_X_ERR_sq = np.square(Delta_X_ERR)\n",
    "Delta_Y_ERR_sq = np.square(Delta_Y_ERR)\n",
    "Delta_Z_ERR_sq = np.square(Delta_Z_ERR)\n",
    "\n",
    "delta_x = np.divide(Delta_X,Delta_X_ERR) # The difference in x coordinates between the L0 and Bu decay vertices, normalised by its uncertainty\n",
    "delta_y = np.divide(Delta_Y,Delta_Y_ERR) # The difference in y coordinates between the L0 and Bu decay vertices, normalised by its uncertainty\n",
    "delta_z = np.divide(Delta_Z,Delta_Z_ERR) # The difference in z coordinates between the L0 and Bu decay vertices, normalised by its uncertainty\n",
    "L0_FD_CHISQ = np.square(delta_x) + np.square(delta_y) + np.square(delta_z) # The flight distance of the L0 decay vertex from the L0 production vertex, normalised by its uncertainty\n"
   ]
  },
  {
   "cell_type": "code",
   "execution_count": 31,
   "metadata": {},
   "outputs": [],
   "source": [
    "h1_probNNk = arrs['h1_MC15TuneV1_ProbNNk']\n",
    "h2_probNNk = arrs['h2_MC15TuneV1_ProbNNk']\n",
    "p_ProbNNp  = arrs['p_MC15TuneV1_ProbNNp']\n"
   ]
  },
  {
   "attachments": {},
   "cell_type": "markdown",
   "metadata": {},
   "source": [
    "# Lambda Fitting"
   ]
  },
  {
   "attachments": {},
   "cell_type": "markdown",
   "metadata": {},
   "source": [
    "In this section, we will try fitting different cuts and fits for `L0`, `LO0_LL` and `L0_DD`.\n",
    "\n",
    "First lets define some cuts that would be useful later"
   ]
  },
  {
   "cell_type": "code",
   "execution_count": 32,
   "metadata": {},
   "outputs": [],
   "source": [
    "\n",
    "\n",
    "good_Delta_Z = Delta_Z>0.\n",
    "good_Lambda_chisq_9 = L0_FD_CHISQ>9.\n",
    "good_Lambda_sep_9 =  good_Delta_Z & good_Lambda_chisq_9\n",
    "bad_Delta_Z = Delta_Z<0.\n",
    "bad_Lambda_chisq_9  = L0_FD_CHISQ<9.\n",
    "bad_Lambda_sep_9 =  bad_Delta_Z | bad_Lambda_chisq_9\n",
    "good_Delta_Z = Delta_Z>0.\n",
    "good_Lambda_chisq_100  = L0_FD_CHISQ>100.\n",
    "good_Lambda_sep_100 =  good_Delta_Z & good_Lambda_chisq_100\n",
    "\n",
    "\n",
    "\n",
    "ProbNNp_0p1_0p2 = (Lp_ProbNNp>0.1) & (Lp_ProbNNp<0.2)\n",
    "prodProbKK = np.multiply(h1_probNNk,h2_probNNk)\n",
    "\n",
    "B_region = (Bu_MM>5255.) & (Bu_MM<5305.)\n",
    "prodProbNNx = np.multiply(p_ProbNNp,prodProbKK)\n",
    "\n",
    "good_LambdaLL   = (Lp_ProbNNp>0.2) & (L0_MM>1111) & (L0_MM<1121) & good_Delta_Z & good_Lambda_chisq_100 & LL\n",
    "good_LambdaDD   = (Lp_ProbNNp>0.2) & (L0_MM>1111) & (L0_MM<1121) & DD\n",
    "good_Lambda     = good_LambdaLL | good_LambdaDD\n",
    "good_prompt     = (Lp_ProbNNp>0.2) & (L0_FD_CHISQ<9) & LL\n",
    "better_Lambda   = good_Lambda & (Bu_IPCHI2_OWNPV<6) \n",
    "better_LambdaLL = good_LambdaLL & (Bu_IPCHI2_OWNPV<6)\n",
    "better_LambdaDD = good_LambdaDD & (Bu_IPCHI2_OWNPV<6)\n",
    "\n",
    "temp_cut = good_Delta_Z & good_Lambda_chisq_100 & (Lp_ProbNNp>0.2)\n",
    "temp_cutLL = temp_cut & LL\n",
    "temp_cutDD = temp_cut & DD"
   ]
  },
  {
   "attachments": {},
   "cell_type": "markdown",
   "metadata": {},
   "source": [
    "### Lambda (Both LL & DD)"
   ]
  },
  {
   "attachments": {},
   "cell_type": "markdown",
   "metadata": {},
   "source": [
    "#### Fit using Double Gaussian and Exponential"
   ]
  },
  {
   "attachments": {},
   "cell_type": "markdown",
   "metadata": {},
   "source": [
    "The fit is for Lamdas with the following cuts \n",
    "\n",
    "- `good_LambdaLL`   = `(Lp_ProbNNp>0.2) & (L0_MM>1111) & (L0_MM<1121) & good_Delta_Z & good_Lambda_chisq_100 & LL`\n",
    "- `good_LambdaDD`   = `(Lp_ProbNNp>0.2) & (L0_MM>1111) & (L0_MM<1121) & DD`\n",
    "- `good_Lambda`     = `good_LambdaLL | good_LambdaDD`\n"
   ]
  },
  {
   "cell_type": "code",
   "execution_count": 33,
   "metadata": {},
   "outputs": [
    {
     "name": "stdout",
     "output_type": "stream",
     "text": [
      "Fitted parameters: <ValueView n_s=6449.002878031788 f=0.35424282931791323 n_b=-682.4043705329345 mu1=1115.7582678178858 mu2=1115.9911129908598 sigma1=1.14031988383195 sigma2=2.667966627563077 A=0.04 b=4.923682197822665>\n"
     ]
    },
    {
     "data": {
      "text/html": [
       "<table>\n",
       "    <tr>\n",
       "        <th colspan=\"2\" style=\"text-align:center\" title=\"Minimizer\"> Migrad </th>\n",
       "    </tr>\n",
       "    <tr>\n",
       "        <td style=\"text-align:left\" title=\"Minimum value of function\"> FCN = 19.02 </td>\n",
       "        <td style=\"text-align:center\" title=\"Total number of function and (optional) gradient evaluations\"> Nfcn = 1157 </td>\n",
       "    </tr>\n",
       "    <tr>\n",
       "        <td style=\"text-align:left\" title=\"Estimated distance to minimum and goal\"> EDM = 1.16e-05 (Goal: 0.0002) </td>\n",
       "        <td style=\"text-align:center\" title=\"Total run time of algorithms\">  </td>\n",
       "    </tr>\n",
       "    <tr>\n",
       "        <td style=\"text-align:center;background-color:#92CCA6;color:black\"> Valid Minimum </td>\n",
       "        <td style=\"text-align:center;background-color:#92CCA6;color:black\"> Below EDM threshold (goal x 10) </td>\n",
       "    </tr>\n",
       "    <tr>\n",
       "        <td style=\"text-align:center;background-color:#92CCA6;color:black\"> No parameters at limit </td>\n",
       "        <td style=\"text-align:center;background-color:#92CCA6;color:black\"> Below call limit </td>\n",
       "    </tr>\n",
       "    <tr>\n",
       "        <td style=\"text-align:center;background-color:#92CCA6;color:black\"> Hesse ok </td>\n",
       "        <td style=\"text-align:center;background-color:#92CCA6;color:black\"> Covariance accurate </td>\n",
       "    </tr>\n",
       "</table><table>\n",
       "    <tr>\n",
       "        <td></td>\n",
       "        <th title=\"Variable name\"> Name </th>\n",
       "        <th title=\"Value of parameter\"> Value </th>\n",
       "        <th title=\"Hesse error\"> Hesse Error </th>\n",
       "        <th title=\"Minos lower error\"> Minos Error- </th>\n",
       "        <th title=\"Minos upper error\"> Minos Error+ </th>\n",
       "        <th title=\"Lower limit of the parameter\"> Limit- </th>\n",
       "        <th title=\"Upper limit of the parameter\"> Limit+ </th>\n",
       "        <th title=\"Is the parameter fixed in the fit\"> Fixed </th>\n",
       "    </tr>\n",
       "    <tr>\n",
       "        <th> 0 </th>\n",
       "        <td> n_s </td>\n",
       "        <td> 6.45e3 </td>\n",
       "        <td> 0.10e3 </td>\n",
       "        <td>  </td>\n",
       "        <td>  </td>\n",
       "        <td>  </td>\n",
       "        <td>  </td>\n",
       "        <td>  </td>\n",
       "    </tr>\n",
       "    <tr>\n",
       "        <th> 1 </th>\n",
       "        <td> f </td>\n",
       "        <td> 0.35 </td>\n",
       "        <td> 0.07 </td>\n",
       "        <td>  </td>\n",
       "        <td>  </td>\n",
       "        <td> 0.0001 </td>\n",
       "        <td> 1 </td>\n",
       "        <td>  </td>\n",
       "    </tr>\n",
       "    <tr>\n",
       "        <th> 2 </th>\n",
       "        <td> n_b </td>\n",
       "        <td> -682.4 </td>\n",
       "        <td> 1.6 </td>\n",
       "        <td>  </td>\n",
       "        <td>  </td>\n",
       "        <td>  </td>\n",
       "        <td>  </td>\n",
       "        <td>  </td>\n",
       "    </tr>\n",
       "    <tr>\n",
       "        <th> 3 </th>\n",
       "        <td> mu1 </td>\n",
       "        <td> 1.11576e3 </td>\n",
       "        <td> 0.00005e3 </td>\n",
       "        <td>  </td>\n",
       "        <td>  </td>\n",
       "        <td>  </td>\n",
       "        <td>  </td>\n",
       "        <td>  </td>\n",
       "    </tr>\n",
       "    <tr>\n",
       "        <th> 4 </th>\n",
       "        <td> mu2 </td>\n",
       "        <td> 1.11599e3 </td>\n",
       "        <td> 0.00006e3 </td>\n",
       "        <td>  </td>\n",
       "        <td>  </td>\n",
       "        <td>  </td>\n",
       "        <td>  </td>\n",
       "        <td>  </td>\n",
       "    </tr>\n",
       "    <tr>\n",
       "        <th> 5 </th>\n",
       "        <td> sigma1 </td>\n",
       "        <td> 1.14 </td>\n",
       "        <td> 0.11 </td>\n",
       "        <td>  </td>\n",
       "        <td>  </td>\n",
       "        <td>  </td>\n",
       "        <td>  </td>\n",
       "        <td>  </td>\n",
       "    </tr>\n",
       "    <tr>\n",
       "        <th> 6 </th>\n",
       "        <td> sigma2 </td>\n",
       "        <td> 2.67 </td>\n",
       "        <td> 0.19 </td>\n",
       "        <td>  </td>\n",
       "        <td>  </td>\n",
       "        <td>  </td>\n",
       "        <td>  </td>\n",
       "        <td>  </td>\n",
       "    </tr>\n",
       "    <tr>\n",
       "        <th> 7 </th>\n",
       "        <td> A </td>\n",
       "        <td> 0.0 </td>\n",
       "        <td> 1.6 </td>\n",
       "        <td>  </td>\n",
       "        <td>  </td>\n",
       "        <td>  </td>\n",
       "        <td>  </td>\n",
       "        <td>  </td>\n",
       "    </tr>\n",
       "    <tr>\n",
       "        <th> 8 </th>\n",
       "        <td> b </td>\n",
       "        <td> 4.9 </td>\n",
       "        <td> 1.6 </td>\n",
       "        <td>  </td>\n",
       "        <td>  </td>\n",
       "        <td>  </td>\n",
       "        <td>  </td>\n",
       "        <td>  </td>\n",
       "    </tr>\n",
       "</table><table>\n",
       "    <tr>\n",
       "        <td></td>\n",
       "        <th> n_s </th>\n",
       "        <th> f </th>\n",
       "        <th> n_b </th>\n",
       "        <th> mu1 </th>\n",
       "        <th> mu2 </th>\n",
       "        <th> sigma1 </th>\n",
       "        <th> sigma2 </th>\n",
       "        <th> A </th>\n",
       "        <th> b </th>\n",
       "    </tr>\n",
       "    <tr>\n",
       "        <th> n_s </th>\n",
       "        <td> 9.39e+03 </td>\n",
       "        <td style=\"background-color:rgb(250,180,180);color:black\"> 3.131 <strong>(0.466)</strong> </td>\n",
       "        <td style=\"background-color:rgb(250,250,250);color:black\"> 0.0 </td>\n",
       "        <td style=\"background-color:rgb(250,219,219);color:black\"> 1.0626 <strong>(0.205)</strong> </td>\n",
       "        <td style=\"background-color:rgb(250,229,229);color:black\"> 0.857 <strong>(0.137)</strong> </td>\n",
       "        <td style=\"background-color:rgb(250,188,188);color:black\"> 4.245 <strong>(0.411)</strong> </td>\n",
       "        <td style=\"background-color:rgb(250,171,171);color:black\"> 9.73 <strong>(0.525)</strong> </td>\n",
       "        <td style=\"background-color:rgb(250,250,250);color:black\"> 0.0 </td>\n",
       "        <td style=\"background-color:rgb(250,250,250);color:black\"> 0.0 </td>\n",
       "    </tr>\n",
       "    <tr>\n",
       "        <th> f </th>\n",
       "        <td style=\"background-color:rgb(250,180,180);color:black\"> 3.131 <strong>(0.466)</strong> </td>\n",
       "        <td> 0.0048 </td>\n",
       "        <td style=\"background-color:rgb(250,250,250);color:black\"> 0.000 </td>\n",
       "        <td style=\"background-color:rgb(250,193,193);color:black\"> 0.0014 <strong>(0.382)</strong> </td>\n",
       "        <td style=\"background-color:rgb(250,201,201);color:black\"> 0.001 <strong>(0.325)</strong> </td>\n",
       "        <td style=\"background-color:rgb(250,110,110);color:black\"> 0.007 <strong>(0.935)</strong> </td>\n",
       "        <td style=\"background-color:rgb(250,109,109);color:black\"> 0.012 <strong>(0.942)</strong> </td>\n",
       "        <td style=\"background-color:rgb(250,250,250);color:black\"> 0.000 </td>\n",
       "        <td style=\"background-color:rgb(250,250,250);color:black\"> 0.000 </td>\n",
       "    </tr>\n",
       "    <tr>\n",
       "        <th> n_b </th>\n",
       "        <td style=\"background-color:rgb(250,250,250);color:black\"> 0.0 </td>\n",
       "        <td style=\"background-color:rgb(250,250,250);color:black\"> 0.000 </td>\n",
       "        <td> 2.48 </td>\n",
       "        <td style=\"background-color:rgb(250,250,250);color:black\"> 0.0000 </td>\n",
       "        <td style=\"background-color:rgb(250,250,250);color:black\"> 0.000 </td>\n",
       "        <td style=\"background-color:rgb(250,250,250);color:black\"> 0.000 </td>\n",
       "        <td style=\"background-color:rgb(250,250,250);color:black\"> 0.00 </td>\n",
       "        <td style=\"background-color:rgb(250,250,250);color:black\"> 0.0 </td>\n",
       "        <td style=\"background-color:rgb(250,250,250);color:black\"> 0.0 </td>\n",
       "    </tr>\n",
       "    <tr>\n",
       "        <th> mu1 </th>\n",
       "        <td style=\"background-color:rgb(250,219,219);color:black\"> 1.0626 <strong>(0.205)</strong> </td>\n",
       "        <td style=\"background-color:rgb(250,193,193);color:black\"> 0.0014 <strong>(0.382)</strong> </td>\n",
       "        <td style=\"background-color:rgb(250,250,250);color:black\"> 0.0000 </td>\n",
       "        <td> 0.00286 </td>\n",
       "        <td style=\"background-color:rgb(210,210,250);color:black\"> -0.0011 <strong>(-0.310)</strong> </td>\n",
       "        <td style=\"background-color:rgb(250,194,194);color:black\"> 0.0021 <strong>(0.371)</strong> </td>\n",
       "        <td style=\"background-color:rgb(250,191,191);color:black\"> 0.0040 <strong>(0.393)</strong> </td>\n",
       "        <td style=\"background-color:rgb(250,250,250);color:black\"> 0.0000 </td>\n",
       "        <td style=\"background-color:rgb(250,250,250);color:black\"> 0.0000 </td>\n",
       "    </tr>\n",
       "    <tr>\n",
       "        <th> mu2 </th>\n",
       "        <td style=\"background-color:rgb(250,229,229);color:black\"> 0.857 <strong>(0.137)</strong> </td>\n",
       "        <td style=\"background-color:rgb(250,201,201);color:black\"> 0.001 <strong>(0.325)</strong> </td>\n",
       "        <td style=\"background-color:rgb(250,250,250);color:black\"> 0.000 </td>\n",
       "        <td style=\"background-color:rgb(210,210,250);color:black\"> -0.0011 <strong>(-0.310)</strong> </td>\n",
       "        <td> 0.00416 </td>\n",
       "        <td style=\"background-color:rgb(250,205,205);color:black\"> 0.002 <strong>(0.303)</strong> </td>\n",
       "        <td style=\"background-color:rgb(250,206,206);color:black\"> 0.004 <strong>(0.291)</strong> </td>\n",
       "        <td style=\"background-color:rgb(250,250,250);color:black\"> 0.000 </td>\n",
       "        <td style=\"background-color:rgb(250,250,250);color:black\"> 0.000 </td>\n",
       "    </tr>\n",
       "    <tr>\n",
       "        <th> sigma1 </th>\n",
       "        <td style=\"background-color:rgb(250,188,188);color:black\"> 4.245 <strong>(0.411)</strong> </td>\n",
       "        <td style=\"background-color:rgb(250,110,110);color:black\"> 0.007 <strong>(0.935)</strong> </td>\n",
       "        <td style=\"background-color:rgb(250,250,250);color:black\"> 0.000 </td>\n",
       "        <td style=\"background-color:rgb(250,194,194);color:black\"> 0.0021 <strong>(0.371)</strong> </td>\n",
       "        <td style=\"background-color:rgb(250,205,205);color:black\"> 0.002 <strong>(0.303)</strong> </td>\n",
       "        <td> 0.0114 </td>\n",
       "        <td style=\"background-color:rgb(250,123,123);color:black\"> 0.017 <strong>(0.849)</strong> </td>\n",
       "        <td style=\"background-color:rgb(250,250,250);color:black\"> 0.000 </td>\n",
       "        <td style=\"background-color:rgb(250,250,250);color:black\"> 0.000 </td>\n",
       "    </tr>\n",
       "    <tr>\n",
       "        <th> sigma2 </th>\n",
       "        <td style=\"background-color:rgb(250,171,171);color:black\"> 9.73 <strong>(0.525)</strong> </td>\n",
       "        <td style=\"background-color:rgb(250,109,109);color:black\"> 0.012 <strong>(0.942)</strong> </td>\n",
       "        <td style=\"background-color:rgb(250,250,250);color:black\"> 0.00 </td>\n",
       "        <td style=\"background-color:rgb(250,191,191);color:black\"> 0.0040 <strong>(0.393)</strong> </td>\n",
       "        <td style=\"background-color:rgb(250,206,206);color:black\"> 0.004 <strong>(0.291)</strong> </td>\n",
       "        <td style=\"background-color:rgb(250,123,123);color:black\"> 0.017 <strong>(0.849)</strong> </td>\n",
       "        <td> 0.0366 </td>\n",
       "        <td style=\"background-color:rgb(250,250,250);color:black\"> 0.00 </td>\n",
       "        <td style=\"background-color:rgb(250,250,250);color:black\"> 0.00 </td>\n",
       "    </tr>\n",
       "    <tr>\n",
       "        <th> A </th>\n",
       "        <td style=\"background-color:rgb(250,250,250);color:black\"> 0.0 </td>\n",
       "        <td style=\"background-color:rgb(250,250,250);color:black\"> 0.000 </td>\n",
       "        <td style=\"background-color:rgb(250,250,250);color:black\"> 0.0 </td>\n",
       "        <td style=\"background-color:rgb(250,250,250);color:black\"> 0.0000 </td>\n",
       "        <td style=\"background-color:rgb(250,250,250);color:black\"> 0.000 </td>\n",
       "        <td style=\"background-color:rgb(250,250,250);color:black\"> 0.000 </td>\n",
       "        <td style=\"background-color:rgb(250,250,250);color:black\"> 0.00 </td>\n",
       "        <td> 2.48 </td>\n",
       "        <td style=\"background-color:rgb(250,250,250);color:black\"> 0.0 </td>\n",
       "    </tr>\n",
       "    <tr>\n",
       "        <th> b </th>\n",
       "        <td style=\"background-color:rgb(250,250,250);color:black\"> 0.0 </td>\n",
       "        <td style=\"background-color:rgb(250,250,250);color:black\"> 0.000 </td>\n",
       "        <td style=\"background-color:rgb(250,250,250);color:black\"> 0.0 </td>\n",
       "        <td style=\"background-color:rgb(250,250,250);color:black\"> 0.0000 </td>\n",
       "        <td style=\"background-color:rgb(250,250,250);color:black\"> 0.000 </td>\n",
       "        <td style=\"background-color:rgb(250,250,250);color:black\"> 0.000 </td>\n",
       "        <td style=\"background-color:rgb(250,250,250);color:black\"> 0.00 </td>\n",
       "        <td style=\"background-color:rgb(250,250,250);color:black\"> 0.0 </td>\n",
       "        <td> 2.48 </td>\n",
       "    </tr>\n",
       "</table>"
      ],
      "text/plain": [
       "┌─────────────────────────────────────────────────────────────────────────┐\n",
       "│                                Migrad                                   │\n",
       "├──────────────────────────────────┬──────────────────────────────────────┤\n",
       "│ FCN = 19.02                      │             Nfcn = 1157              │\n",
       "│ EDM = 1.16e-05 (Goal: 0.0002)    │                                      │\n",
       "├──────────────────────────────────┼──────────────────────────────────────┤\n",
       "│          Valid Minimum           │   Below EDM threshold (goal x 10)    │\n",
       "├──────────────────────────────────┼──────────────────────────────────────┤\n",
       "│      No parameters at limit      │           Below call limit           │\n",
       "├──────────────────────────────────┼──────────────────────────────────────┤\n",
       "│             Hesse ok             │         Covariance accurate          │\n",
       "└──────────────────────────────────┴──────────────────────────────────────┘\n",
       "┌───┬────────┬───────────┬───────────┬────────────┬────────────┬─────────┬─────────┬───────┐\n",
       "│   │ Name   │   Value   │ Hesse Err │ Minos Err- │ Minos Err+ │ Limit-  │ Limit+  │ Fixed │\n",
       "├───┼────────┼───────────┼───────────┼────────────┼────────────┼─────────┼─────────┼───────┤\n",
       "│ 0 │ n_s    │  6.45e3   │  0.10e3   │            │            │         │         │       │\n",
       "│ 1 │ f      │   0.35    │   0.07    │            │            │ 0.0001  │ 0.9999  │       │\n",
       "│ 2 │ n_b    │  -682.4   │    1.6    │            │            │         │         │       │\n",
       "│ 3 │ mu1    │ 1.11576e3 │ 0.00005e3 │            │            │         │         │       │\n",
       "│ 4 │ mu2    │ 1.11599e3 │ 0.00006e3 │            │            │         │         │       │\n",
       "│ 5 │ sigma1 │   1.14    │   0.11    │            │            │         │         │       │\n",
       "│ 6 │ sigma2 │   2.67    │   0.19    │            │            │         │         │       │\n",
       "│ 7 │ A      │    0.0    │    1.6    │            │            │         │         │       │\n",
       "│ 8 │ b      │    4.9    │    1.6    │            │            │         │         │       │\n",
       "└───┴────────┴───────────┴───────────┴────────────┴────────────┴─────────┴─────────┴───────┘\n",
       "┌────────┬──────────────────────────────────────────────────────────────────────────────────┐\n",
       "│        │      n_s        f      n_b      mu1      mu2   sigma1   sigma2        A        b │\n",
       "├────────┼──────────────────────────────────────────────────────────────────────────────────┤\n",
       "│    n_s │ 9.39e+03    3.131      0.0   1.0626    0.857    4.245     9.73      0.0      0.0 │\n",
       "│      f │    3.131   0.0048    0.000   0.0014    0.001    0.007    0.012    0.000    0.000 │\n",
       "│    n_b │      0.0    0.000     2.48   0.0000    0.000    0.000     0.00      0.0      0.0 │\n",
       "│    mu1 │   1.0626   0.0014   0.0000  0.00286  -0.0011   0.0021   0.0040   0.0000   0.0000 │\n",
       "│    mu2 │    0.857    0.001    0.000  -0.0011  0.00416    0.002    0.004    0.000    0.000 │\n",
       "│ sigma1 │    4.245    0.007    0.000   0.0021    0.002   0.0114    0.017    0.000    0.000 │\n",
       "│ sigma2 │     9.73    0.012     0.00   0.0040    0.004    0.017   0.0366     0.00     0.00 │\n",
       "│      A │      0.0    0.000      0.0   0.0000    0.000    0.000     0.00     2.48      0.0 │\n",
       "│      b │      0.0    0.000      0.0   0.0000    0.000    0.000     0.00      0.0     2.48 │\n",
       "└────────┴──────────────────────────────────────────────────────────────────────────────────┘"
      ]
     },
     "execution_count": 33,
     "metadata": {},
     "output_type": "execute_result"
    }
   ],
   "source": [
    "# Use the class:\n",
    "nCL, binsL, patches = plt.hist(L0_MM[good_Lambda], bins=60, range=(1100,1130))\n",
    "plt.close()\n",
    "\n",
    "# Set the initial parameter values and limits for the fit\n",
    "\n",
    "\n",
    "# DoubleGaussian_plus_Exp [n_s, f, n_b, mu1, mu2, sigma1, sigma2, A, b] \n",
    "init_pars_L = [10000., 0.6, 10., 1115., 1120., 10., 15., 0.04, 0.005] ## good_Lambda\n",
    "\n",
    "\n",
    "# DoubleGaussian_plus_linear [n_s, f, n_b, mu1, mu2, sigma1, sigma2, m, b]\n",
    "#init_pars_B = [1000, 0.5, 300, 1113, 1115, 13.0, 15.0, 0.0001, 0.0001]\n",
    "\n",
    "# DoubleGaussian_plust_parabola [n_s, f, n_b, mu1, mu2, sigma1, sigma2, a, b, c]\n",
    "#init_pars = [2000., 0.5, 20000., 5280., 5285., 10., 15., 0.01, 0.001, 0.01]\n",
    "\n",
    "\n",
    "# Gaussian_plus_Exp [n_s, n_b, mu, sigma, A, b]\n",
    "#init_pars = [1000., 800., 20000., 5280., 5285., 10., 15., 0.04, 0.005]\n",
    "\n",
    "# DoubleGaussian_plus_argus [n_s, f, n_b, mu1, mu2, sigma1, sigma2, m0, c, p]\n",
    "\n",
    "\n",
    "minuit_limits_L = {\n",
    "    \"f\": (0.0001, 0.9999),\n",
    "}\n",
    "fit_model_L = DoubleGaussian_plus_Exp(binsL, nCL, minuit_limits_L)\n",
    "\n",
    "fit_result_L = fit_model_L.fit(init_pars_L)\n",
    "\n",
    "# Print the fitted parameters\n",
    "print(\"Fitted parameters:\", fit_result_L.values)\n",
    "fit_result_L"
   ]
  },
  {
   "attachments": {},
   "cell_type": "markdown",
   "metadata": {},
   "source": [
    "We can actually try random search to get better inital guess"
   ]
  },
  {
   "cell_type": "code",
   "execution_count": 34,
   "metadata": {},
   "outputs": [
    {
     "name": "stdout",
     "output_type": "stream",
     "text": [
      "Best chi2: 2675.5857205384073\n",
      "Best initial parameters: {'n_s': 9941.437699801276, 'f': 0.038119904044326566, 'n_b': 34.469229348722784, 'mu1': 1114.9400975325982, 'mu2': 1112.2243925831424, 'sigma1': 17.857729117113852, 'sigma2': 11.19897926305869, 'A': 0.06738108346559732, 'b': -0.570821486256138}\n",
      "7004.333917791148, 0.42742017867304855, -8710.00336057432, 1115.7427684709469, 1116.4533519905722, -1.2529595704722498, 3.340738711176055, 656823.0632247351, -0.3908008778915304>\n"
     ]
    }
   ],
   "source": [
    "root_name = \"_LL\"\n",
    "\n",
    "# Define a dictionary to store your variables\n",
    "variables = {\n",
    "    \"nC\": None,\n",
    "    \"bins\": None,\n",
    "    \"patches\": None,\n",
    "    \"param_ranges\": None,\n",
    "    \"random_search\": None,\n",
    "    \"best_score\": None,\n",
    "    \"best_params\": None,\n",
    "    \"best_fit\": None,\n",
    "    \"best_fit_m\": None,\n",
    "    \"parsed_output\": None,\n",
    "}\n",
    "\n",
    "# Use the class:\n",
    "variables[\"nC\" + root_name], variables[\"bins\" + root_name], variables[\"patches\" + root_name] = plt.hist(L0_MM[good_Lambda], bins=60, range=(1100,1130))\n",
    "plt.close()\n",
    "\n",
    "variables[\"param_ranges\" + root_name] = {\n",
    "    \"n_s\": (1000, 10000),\n",
    "    \"f\": (0.001, 0.999),\n",
    "    \"n_b\": (10, 100),\n",
    "    \"mu1\": (1110, 1116),\n",
    "    \"mu2\": (1110, 1116),\n",
    "    \"sigma1\": (10, 20),\n",
    "    \"sigma2\": (10, 20),\n",
    "    \"A\": (-0.1, 0.1),\n",
    "    \"b\": (-1, 1),\n",
    "}\n",
    "\n",
    "variables[\"random_search\" + root_name] = RandomSearch(variables[\"bins\" + root_name], variables[\"nC\" + root_name], fit_class=DoubleGaussian_plus_Exp, search_ranges=variables[\"param_ranges\" + root_name], num_searches=100)\n",
    "\n",
    "# Perform the search\n",
    "variables[\"best_score\" + root_name], variables[\"best_params\" + root_name], variables[\"best_fit\" + root_name] = variables[\"random_search\" + root_name].perform_search()\n",
    "\n",
    "# Print the results\n",
    "print(\"Best chi2:\", variables[\"best_score\" + root_name])\n",
    "print(\"Best initial parameters:\", variables[\"best_params\" + root_name])\n",
    "\n",
    "# Fit the best_fit with the best_params\n",
    "best_params_list = [variables[\"best_params\" + root_name][param] for param in [\"n_s\", \"f\", \"n_b\", \"mu1\", \"mu2\", \"sigma1\", \"sigma2\", \"A\", \"b\"]]\n",
    "variables[\"best_fit_m\" + root_name] = variables[\"best_fit\" + root_name].fit(best_params_list)\n",
    "\n",
    "\n",
    "# Print the fitted parameters in a nice format to copy-paste\n",
    "variables[\"parsed_output\" + root_name] = parse_best_fit_parameters(variables[\"best_fit_m\" + root_name].values)\n",
    "print(variables[\"parsed_output\" + root_name])\n"
   ]
  },
  {
   "attachments": {},
   "cell_type": "markdown",
   "metadata": {},
   "source": [
    "Lets plot the histogram and fit superimposed on the hitsogram for lambda with same cuts but without the mass cut."
   ]
  },
  {
   "cell_type": "code",
   "execution_count": 35,
   "metadata": {},
   "outputs": [
    {
     "data": {
      "image/png": "[encoded data removed]",
      "text/plain": [
       "<Figure size 640x480 with 1 Axes>"
      ]
     },
     "metadata": {},
     "output_type": "display_data"
    }
   ],
   "source": [
    "fig, ax = fit_model_L.plot(fit_result_L, binsL, nCL, title='L0_MM with goodLambda ', xlabel='L0 Mass', ylabel='Entries per 0.5 MeV', vlines=[1114., 1118.], show_plot=False)\n",
    "ax.hist(L0_MM[temp_cut], bins=60, range=(1100, 1130), color='purple', alpha=0.5)\n",
    "ax.hist(L0_MM[good_Lambda], bins=60, range=(1100, 1130), color='g', alpha=0.5)\n",
    "\n",
    "plt.show()"
   ]
  },
  {
   "attachments": {},
   "cell_type": "markdown",
   "metadata": {},
   "source": [
    "### Lambda LL (L0_LL)"
   ]
  },
  {
   "attachments": {},
   "cell_type": "markdown",
   "metadata": {},
   "source": [
    "### Fit using Double Gaussian plus Explonential"
   ]
  },
  {
   "attachments": {},
   "cell_type": "markdown",
   "metadata": {},
   "source": [
    "Now lets do the random search / also use things in a better and (hacky) way. \n",
    "\n",
    "The fit is for L0 with the following cuts \n",
    "\n",
    "`good_LambdaLL`   = `(Lp_ProbNNp>0.2) & (L0_MM>1111) & (L0_MM<1121) & good_Delta_Z & good_Lambda_chisq_100 & LL`\n"
   ]
  },
  {
   "cell_type": "code",
   "execution_count": 36,
   "metadata": {},
   "outputs": [
    {
     "name": "stdout",
     "output_type": "stream",
     "text": [
      "Best chi2: 664.2769655531326\n",
      "Best initial parameters: {'n_s': 1385.0790385768166, 'f': 0.303591871056757, 'n_b': 87.88514506952558, 'mu1': 1113.81713770655, 'mu2': 1113.7663062500658, 'sigma1': 16.931615057093765, 'sigma2': 12.458653370834252, 'A': -0.05264451882539123, 'b': 0.6601807642333879}\n",
      "15143.11972876297, 0.9377466975004487, 87.23282942565672, 289.93323873512475, 1115.7899732798999, 1183.6386838910037, 1.4266750302187154, -0.05264451882539123, 78.73692196081359>\n"
     ]
    }
   ],
   "source": [
    "root_name = \"_LL\"\n",
    "\n",
    "# Define a dictionary to store your variables\n",
    "variables = {\n",
    "    \"nC\": None,\n",
    "    \"bins\": None,\n",
    "    \"patches\": None,\n",
    "    \"param_ranges\": None,\n",
    "    \"random_search\": None,\n",
    "    \"best_score\": None,\n",
    "    \"best_params\": None,\n",
    "    \"best_fit\": None,\n",
    "    \"best_fit_m\": None,\n",
    "    \"parsed_output\": None,\n",
    "}\n",
    "\n",
    "# Use the class:\n",
    "variables[\"nC\" + root_name], variables[\"bins\" + root_name], variables[\"patches\" + root_name] = plt.hist(L0_MM[good_LambdaLL], bins=60, range=(1100,1130))\n",
    "plt.close()\n",
    "\n",
    "variables[\"param_ranges\" + root_name] = {\n",
    "    \"n_s\": (1000, 10000),\n",
    "    \"f\": (0.001, 0.999),\n",
    "    \"n_b\": (10, 100),\n",
    "    \"mu1\": (1110, 1116),\n",
    "    \"mu2\": (1110, 1116),\n",
    "    \"sigma1\": (10, 20),\n",
    "    \"sigma2\": (10, 20),\n",
    "    \"A\": (-0.1, 0.1),\n",
    "    \"b\": (-1, 1),\n",
    "}\n",
    "\n",
    "variables[\"random_search\" + root_name] = RandomSearch(variables[\"bins\" + root_name], variables[\"nC\" + root_name], fit_class=DoubleGaussian_plus_Exp, search_ranges=variables[\"param_ranges\" + root_name], num_searches=100)\n",
    "\n",
    "# Perform the search\n",
    "variables[\"best_score\" + root_name], variables[\"best_params\" + root_name], variables[\"best_fit\" + root_name] = variables[\"random_search\" + root_name].perform_search()\n",
    "\n",
    "# Print the results\n",
    "print(\"Best chi2:\", variables[\"best_score\" + root_name])\n",
    "print(\"Best initial parameters:\", variables[\"best_params\" + root_name])\n",
    "\n",
    "# Fit the best_fit with the best_params\n",
    "best_params_list = [variables[\"best_params\" + root_name][param] for param in [\"n_s\", \"f\", \"n_b\", \"mu1\", \"mu2\", \"sigma1\", \"sigma2\", \"A\", \"b\"]]\n",
    "variables[\"best_fit_m\" + root_name] = variables[\"best_fit\" + root_name].fit(best_params_list)\n",
    "\n",
    "\n",
    "# Print the fitted parameters in a nice format to copy-paste\n",
    "variables[\"parsed_output\" + root_name] = parse_best_fit_parameters(variables[\"best_fit_m\" + root_name].values)\n",
    "print(variables[\"parsed_output\" + root_name])\n"
   ]
  },
  {
   "attachments": {},
   "cell_type": "markdown",
   "metadata": {},
   "source": [
    "We can use these values as a good initial guess list "
   ]
  },
  {
   "cell_type": "code",
   "execution_count": 37,
   "metadata": {},
   "outputs": [
    {
     "name": "stdout",
     "output_type": "stream",
     "text": [
      "Fitted parameters: <ValueView n_s=1034.1647357846027 f=0.65957633933352 n_b=-22732.45116034853 mu1=1115.7526609869326 mu2=1115.904218224469 sigma1=1.1037649568352879 sigma2=2.7614085299540334 A=-0.04194529869306367 b=-1.1448258842150598>\n"
     ]
    },
    {
     "data": {
      "text/html": [
       "<table>\n",
       "    <tr>\n",
       "        <th colspan=\"2\" style=\"text-align:center\" title=\"Minimizer\"> Migrad </th>\n",
       "    </tr>\n",
       "    <tr>\n",
       "        <td style=\"text-align:left\" title=\"Minimum value of function\"> FCN = 9.25 </td>\n",
       "        <td style=\"text-align:center\" title=\"Total number of function and (optional) gradient evaluations\"> Nfcn = 367 </td>\n",
       "    </tr>\n",
       "    <tr>\n",
       "        <td style=\"text-align:left\" title=\"Estimated distance to minimum and goal\"> EDM = 0.000174 (Goal: 0.0002) </td>\n",
       "        <td style=\"text-align:center\" title=\"Total run time of algorithms\">  </td>\n",
       "    </tr>\n",
       "    <tr>\n",
       "        <td style=\"text-align:center;background-color:#92CCA6;color:black\"> Valid Minimum </td>\n",
       "        <td style=\"text-align:center;background-color:#92CCA6;color:black\"> Below EDM threshold (goal x 10) </td>\n",
       "    </tr>\n",
       "    <tr>\n",
       "        <td style=\"text-align:center;background-color:#92CCA6;color:black\"> No parameters at limit </td>\n",
       "        <td style=\"text-align:center;background-color:#92CCA6;color:black\"> Below call limit </td>\n",
       "    </tr>\n",
       "    <tr>\n",
       "        <td style=\"text-align:center;background-color:#92CCA6;color:black\"> Hesse ok </td>\n",
       "        <td style=\"text-align:center;background-color:#92CCA6;color:black\"> Covariance accurate </td>\n",
       "    </tr>\n",
       "</table><table>\n",
       "    <tr>\n",
       "        <td></td>\n",
       "        <th title=\"Variable name\"> Name </th>\n",
       "        <th title=\"Value of parameter\"> Value </th>\n",
       "        <th title=\"Hesse error\"> Hesse Error </th>\n",
       "        <th title=\"Minos lower error\"> Minos Error- </th>\n",
       "        <th title=\"Minos upper error\"> Minos Error+ </th>\n",
       "        <th title=\"Lower limit of the parameter\"> Limit- </th>\n",
       "        <th title=\"Upper limit of the parameter\"> Limit+ </th>\n",
       "        <th title=\"Is the parameter fixed in the fit\"> Fixed </th>\n",
       "    </tr>\n",
       "    <tr>\n",
       "        <th> 0 </th>\n",
       "        <td> n_s </td>\n",
       "        <td> 1.034e3 </td>\n",
       "        <td> 0.034e3 </td>\n",
       "        <td>  </td>\n",
       "        <td>  </td>\n",
       "        <td>  </td>\n",
       "        <td>  </td>\n",
       "        <td>  </td>\n",
       "    </tr>\n",
       "    <tr>\n",
       "        <th> 1 </th>\n",
       "        <td> f </td>\n",
       "        <td> 0.66 </td>\n",
       "        <td> 0.10 </td>\n",
       "        <td>  </td>\n",
       "        <td>  </td>\n",
       "        <td> 0.0001 </td>\n",
       "        <td> 1 </td>\n",
       "        <td>  </td>\n",
       "    </tr>\n",
       "    <tr>\n",
       "        <th> 2 </th>\n",
       "        <td> n_b </td>\n",
       "        <td> -22.7325e3 </td>\n",
       "        <td> 0.0014e3 </td>\n",
       "        <td>  </td>\n",
       "        <td>  </td>\n",
       "        <td>  </td>\n",
       "        <td>  </td>\n",
       "        <td>  </td>\n",
       "    </tr>\n",
       "    <tr>\n",
       "        <th> 3 </th>\n",
       "        <td> mu1 </td>\n",
       "        <td> 1.11575e3 </td>\n",
       "        <td> 0.00006e3 </td>\n",
       "        <td>  </td>\n",
       "        <td>  </td>\n",
       "        <td>  </td>\n",
       "        <td>  </td>\n",
       "        <td>  </td>\n",
       "    </tr>\n",
       "    <tr>\n",
       "        <th> 4 </th>\n",
       "        <td> mu2 </td>\n",
       "        <td> 1.11590e3 </td>\n",
       "        <td> 0.00022e3 </td>\n",
       "        <td>  </td>\n",
       "        <td>  </td>\n",
       "        <td>  </td>\n",
       "        <td>  </td>\n",
       "        <td>  </td>\n",
       "    </tr>\n",
       "    <tr>\n",
       "        <th> 5 </th>\n",
       "        <td> sigma1 </td>\n",
       "        <td> 1.1 </td>\n",
       "        <td> 0.1 </td>\n",
       "        <td>  </td>\n",
       "        <td>  </td>\n",
       "        <td>  </td>\n",
       "        <td>  </td>\n",
       "        <td>  </td>\n",
       "    </tr>\n",
       "    <tr>\n",
       "        <th> 6 </th>\n",
       "        <td> sigma2 </td>\n",
       "        <td> 2.8 </td>\n",
       "        <td> 0.5 </td>\n",
       "        <td>  </td>\n",
       "        <td>  </td>\n",
       "        <td>  </td>\n",
       "        <td>  </td>\n",
       "        <td>  </td>\n",
       "    </tr>\n",
       "    <tr>\n",
       "        <th> 7 </th>\n",
       "        <td> A </td>\n",
       "        <td> -0.0 </td>\n",
       "        <td> 1.4 </td>\n",
       "        <td>  </td>\n",
       "        <td>  </td>\n",
       "        <td>  </td>\n",
       "        <td>  </td>\n",
       "        <td>  </td>\n",
       "    </tr>\n",
       "    <tr>\n",
       "        <th> 8 </th>\n",
       "        <td> b </td>\n",
       "        <td> -1.14 </td>\n",
       "        <td> 0.35 </td>\n",
       "        <td>  </td>\n",
       "        <td>  </td>\n",
       "        <td>  </td>\n",
       "        <td>  </td>\n",
       "        <td>  </td>\n",
       "    </tr>\n",
       "</table><table>\n",
       "    <tr>\n",
       "        <td></td>\n",
       "        <th> n_s </th>\n",
       "        <th> f </th>\n",
       "        <th> n_b </th>\n",
       "        <th> mu1 </th>\n",
       "        <th> mu2 </th>\n",
       "        <th> sigma1 </th>\n",
       "        <th> sigma2 </th>\n",
       "        <th> A </th>\n",
       "        <th> b </th>\n",
       "    </tr>\n",
       "    <tr>\n",
       "        <th> n_s </th>\n",
       "        <td> 1.18e+03 </td>\n",
       "        <td style=\"background-color:rgb(250,217,217);color:black\"> 0.744 <strong>(0.220)</strong> </td>\n",
       "        <td style=\"background-color:rgb(250,250,250);color:black\"> -0.0 <strong>(-0.000)</strong> </td>\n",
       "        <td style=\"background-color:rgb(250,236,236);color:black\"> 0.207 <strong>(0.095)</strong> </td>\n",
       "        <td style=\"background-color:rgb(242,242,250);color:black\"> -0.45 <strong>(-0.061)</strong> </td>\n",
       "        <td style=\"background-color:rgb(250,222,222);color:black\"> 0.665 <strong>(0.184)</strong> </td>\n",
       "        <td style=\"background-color:rgb(250,207,207);color:black\"> 4.97 <strong>(0.284)</strong> </td>\n",
       "        <td style=\"background-color:rgb(250,250,250);color:black\"> 0.0 </td>\n",
       "        <td style=\"background-color:rgb(226,226,250);color:black\"> -2.17 <strong>(-0.182)</strong> </td>\n",
       "    </tr>\n",
       "    <tr>\n",
       "        <th> f </th>\n",
       "        <td style=\"background-color:rgb(250,217,217);color:black\"> 0.744 <strong>(0.220)</strong> </td>\n",
       "        <td> 0.00967 </td>\n",
       "        <td style=\"background-color:rgb(250,250,250);color:black\"> -0.00 </td>\n",
       "        <td style=\"background-color:rgb(250,206,206);color:black\"> 0.002 <strong>(0.291)</strong> </td>\n",
       "        <td style=\"background-color:rgb(226,226,250);color:black\"> -0.004 <strong>(-0.185)</strong> </td>\n",
       "        <td style=\"background-color:rgb(250,117,117);color:black\"> 0.009 <strong>(0.888)</strong> </td>\n",
       "        <td style=\"background-color:rgb(250,115,115);color:black\"> 0.045 <strong>(0.898)</strong> </td>\n",
       "        <td style=\"background-color:rgb(250,250,250);color:black\"> 0.00 </td>\n",
       "        <td style=\"background-color:rgb(125,125,250);color:black\"> -0.033 <strong>(-0.958)</strong> </td>\n",
       "    </tr>\n",
       "    <tr>\n",
       "        <th> n_b </th>\n",
       "        <td style=\"background-color:rgb(250,250,250);color:black\"> -0.0 <strong>(-0.000)</strong> </td>\n",
       "        <td style=\"background-color:rgb(250,250,250);color:black\"> -0.00 </td>\n",
       "        <td> 2 </td>\n",
       "        <td style=\"background-color:rgb(250,250,250);color:black\"> -0.000 </td>\n",
       "        <td style=\"background-color:rgb(250,250,250);color:black\"> 0.00 </td>\n",
       "        <td style=\"background-color:rgb(250,250,250);color:black\"> -0.000 </td>\n",
       "        <td style=\"background-color:rgb(250,250,250);color:black\"> -0.00 </td>\n",
       "        <td style=\"background-color:rgb(250,250,250);color:black\"> -0 </td>\n",
       "        <td style=\"background-color:rgb(250,250,250);color:black\"> 0.00 </td>\n",
       "    </tr>\n",
       "    <tr>\n",
       "        <th> mu1 </th>\n",
       "        <td style=\"background-color:rgb(250,236,236);color:black\"> 0.207 <strong>(0.095)</strong> </td>\n",
       "        <td style=\"background-color:rgb(250,206,206);color:black\"> 0.002 <strong>(0.291)</strong> </td>\n",
       "        <td style=\"background-color:rgb(250,250,250);color:black\"> -0.000 </td>\n",
       "        <td> 0.00401 </td>\n",
       "        <td style=\"background-color:rgb(188,188,250);color:black\"> -0.007 <strong>(-0.475)</strong> </td>\n",
       "        <td style=\"background-color:rgb(250,207,207);color:black\"> 0.002 <strong>(0.289)</strong> </td>\n",
       "        <td style=\"background-color:rgb(250,202,202);color:black\"> 0.010 <strong>(0.319)</strong> </td>\n",
       "        <td style=\"background-color:rgb(250,250,250);color:black\"> 0.000 </td>\n",
       "        <td style=\"background-color:rgb(211,211,250);color:black\"> -0.007 <strong>(-0.304)</strong> </td>\n",
       "    </tr>\n",
       "    <tr>\n",
       "        <th> mu2 </th>\n",
       "        <td style=\"background-color:rgb(242,242,250);color:black\"> -0.45 <strong>(-0.061)</strong> </td>\n",
       "        <td style=\"background-color:rgb(226,226,250);color:black\"> -0.004 <strong>(-0.185)</strong> </td>\n",
       "        <td style=\"background-color:rgb(250,250,250);color:black\"> 0.00 </td>\n",
       "        <td style=\"background-color:rgb(188,188,250);color:black\"> -0.007 <strong>(-0.475)</strong> </td>\n",
       "        <td> 0.0468 </td>\n",
       "        <td style=\"background-color:rgb(230,230,250);color:black\"> -0.003 <strong>(-0.152)</strong> </td>\n",
       "        <td style=\"background-color:rgb(216,216,250);color:black\"> -0.03 <strong>(-0.261)</strong> </td>\n",
       "        <td style=\"background-color:rgb(250,250,250);color:black\"> -0.00 </td>\n",
       "        <td style=\"background-color:rgb(250,212,212);color:black\"> 0.02 <strong>(0.256)</strong> </td>\n",
       "    </tr>\n",
       "    <tr>\n",
       "        <th> sigma1 </th>\n",
       "        <td style=\"background-color:rgb(250,222,222);color:black\"> 0.665 <strong>(0.184)</strong> </td>\n",
       "        <td style=\"background-color:rgb(250,117,117);color:black\"> 0.009 <strong>(0.888)</strong> </td>\n",
       "        <td style=\"background-color:rgb(250,250,250);color:black\"> -0.000 </td>\n",
       "        <td style=\"background-color:rgb(250,207,207);color:black\"> 0.002 <strong>(0.289)</strong> </td>\n",
       "        <td style=\"background-color:rgb(230,230,250);color:black\"> -0.003 <strong>(-0.152)</strong> </td>\n",
       "        <td> 0.0111 </td>\n",
       "        <td style=\"background-color:rgb(250,134,134);color:black\"> 0.041 <strong>(0.771)</strong> </td>\n",
       "        <td style=\"background-color:rgb(250,250,250);color:black\"> 0.000 </td>\n",
       "        <td style=\"background-color:rgb(138,138,250);color:black\"> -0.032 <strong>(-0.865)</strong> </td>\n",
       "    </tr>\n",
       "    <tr>\n",
       "        <th> sigma2 </th>\n",
       "        <td style=\"background-color:rgb(250,207,207);color:black\"> 4.97 <strong>(0.284)</strong> </td>\n",
       "        <td style=\"background-color:rgb(250,115,115);color:black\"> 0.045 <strong>(0.898)</strong> </td>\n",
       "        <td style=\"background-color:rgb(250,250,250);color:black\"> -0.00 </td>\n",
       "        <td style=\"background-color:rgb(250,202,202);color:black\"> 0.010 <strong>(0.319)</strong> </td>\n",
       "        <td style=\"background-color:rgb(216,216,250);color:black\"> -0.03 <strong>(-0.261)</strong> </td>\n",
       "        <td style=\"background-color:rgb(250,134,134);color:black\"> 0.041 <strong>(0.771)</strong> </td>\n",
       "        <td> 0.261 </td>\n",
       "        <td style=\"background-color:rgb(250,250,250);color:black\"> 0.00 </td>\n",
       "        <td style=\"background-color:rgb(125,125,250);color:black\"> -0.17 <strong>(-0.965)</strong> </td>\n",
       "    </tr>\n",
       "    <tr>\n",
       "        <th> A </th>\n",
       "        <td style=\"background-color:rgb(250,250,250);color:black\"> 0.0 </td>\n",
       "        <td style=\"background-color:rgb(250,250,250);color:black\"> 0.00 </td>\n",
       "        <td style=\"background-color:rgb(250,250,250);color:black\"> -0 </td>\n",
       "        <td style=\"background-color:rgb(250,250,250);color:black\"> 0.000 </td>\n",
       "        <td style=\"background-color:rgb(250,250,250);color:black\"> -0.00 </td>\n",
       "        <td style=\"background-color:rgb(250,250,250);color:black\"> 0.000 </td>\n",
       "        <td style=\"background-color:rgb(250,250,250);color:black\"> 0.00 </td>\n",
       "        <td> 2 </td>\n",
       "        <td style=\"background-color:rgb(250,250,250);color:black\"> -0.00 </td>\n",
       "    </tr>\n",
       "    <tr>\n",
       "        <th> b </th>\n",
       "        <td style=\"background-color:rgb(226,226,250);color:black\"> -2.17 <strong>(-0.182)</strong> </td>\n",
       "        <td style=\"background-color:rgb(125,125,250);color:black\"> -0.033 <strong>(-0.958)</strong> </td>\n",
       "        <td style=\"background-color:rgb(250,250,250);color:black\"> 0.00 </td>\n",
       "        <td style=\"background-color:rgb(211,211,250);color:black\"> -0.007 <strong>(-0.304)</strong> </td>\n",
       "        <td style=\"background-color:rgb(250,212,212);color:black\"> 0.02 <strong>(0.256)</strong> </td>\n",
       "        <td style=\"background-color:rgb(138,138,250);color:black\"> -0.032 <strong>(-0.865)</strong> </td>\n",
       "        <td style=\"background-color:rgb(125,125,250);color:black\"> -0.17 <strong>(-0.965)</strong> </td>\n",
       "        <td style=\"background-color:rgb(250,250,250);color:black\"> -0.00 </td>\n",
       "        <td> 0.121 </td>\n",
       "    </tr>\n",
       "</table>"
      ],
      "text/plain": [
       "┌─────────────────────────────────────────────────────────────────────────┐\n",
       "│                                Migrad                                   │\n",
       "├──────────────────────────────────┬──────────────────────────────────────┤\n",
       "│ FCN = 9.25                       │              Nfcn = 367              │\n",
       "│ EDM = 0.000174 (Goal: 0.0002)    │                                      │\n",
       "├──────────────────────────────────┼──────────────────────────────────────┤\n",
       "│          Valid Minimum           │   Below EDM threshold (goal x 10)    │\n",
       "├──────────────────────────────────┼──────────────────────────────────────┤\n",
       "│      No parameters at limit      │           Below call limit           │\n",
       "├──────────────────────────────────┼──────────────────────────────────────┤\n",
       "│             Hesse ok             │         Covariance accurate          │\n",
       "└──────────────────────────────────┴──────────────────────────────────────┘\n",
       "┌───┬────────┬───────────┬───────────┬────────────┬────────────┬─────────┬─────────┬───────┐\n",
       "│   │ Name   │   Value   │ Hesse Err │ Minos Err- │ Minos Err+ │ Limit-  │ Limit+  │ Fixed │\n",
       "├───┼────────┼───────────┼───────────┼────────────┼────────────┼─────────┼─────────┼───────┤\n",
       "│ 0 │ n_s    │  1.034e3  │  0.034e3  │            │            │         │         │       │\n",
       "│ 1 │ f      │   0.66    │   0.10    │            │            │ 0.0001  │ 0.9999  │       │\n",
       "│ 2 │ n_b    │-22.7325e3 │ 0.0014e3  │            │            │         │         │       │\n",
       "│ 3 │ mu1    │ 1.11575e3 │ 0.00006e3 │            │            │         │         │       │\n",
       "│ 4 │ mu2    │ 1.11590e3 │ 0.00022e3 │            │            │         │         │       │\n",
       "│ 5 │ sigma1 │    1.1    │    0.1    │            │            │         │         │       │\n",
       "│ 6 │ sigma2 │    2.8    │    0.5    │            │            │         │         │       │\n",
       "│ 7 │ A      │   -0.0    │    1.4    │            │            │         │         │       │\n",
       "│ 8 │ b      │   -1.14   │   0.35    │            │            │         │         │       │\n",
       "└───┴────────┴───────────┴───────────┴────────────┴────────────┴─────────┴─────────┴───────┘\n",
       "┌────────┬──────────────────────────────────────────────────────────────────────────────────┐\n",
       "│        │      n_s        f      n_b      mu1      mu2   sigma1   sigma2        A        b │\n",
       "├────────┼──────────────────────────────────────────────────────────────────────────────────┤\n",
       "│    n_s │ 1.18e+03    0.744     -0.0    0.207    -0.45    0.665     4.97      0.0    -2.17 │\n",
       "│      f │    0.744  0.00967    -0.00    0.002   -0.004    0.009    0.045     0.00   -0.033 │\n",
       "│    n_b │     -0.0    -0.00        2   -0.000     0.00   -0.000    -0.00       -0     0.00 │\n",
       "│    mu1 │    0.207    0.002   -0.000  0.00401   -0.007    0.002    0.010    0.000   -0.007 │\n",
       "│    mu2 │    -0.45   -0.004     0.00   -0.007   0.0468   -0.003    -0.03    -0.00     0.02 │\n",
       "│ sigma1 │    0.665    0.009   -0.000    0.002   -0.003   0.0111    0.041    0.000   -0.032 │\n",
       "│ sigma2 │     4.97    0.045    -0.00    0.010    -0.03    0.041    0.261     0.00    -0.17 │\n",
       "│      A │      0.0     0.00       -0    0.000    -0.00    0.000     0.00        2    -0.00 │\n",
       "│      b │    -2.17   -0.033     0.00   -0.007     0.02   -0.032    -0.17    -0.00    0.121 │\n",
       "└────────┴──────────────────────────────────────────────────────────────────────────────────┘"
      ]
     },
     "execution_count": 37,
     "metadata": {},
     "output_type": "execute_result"
    }
   ],
   "source": [
    "root_name = \"_LL\"\n",
    "\n",
    "# Define a dictionary to store your variables\n",
    "variables = {\n",
    "    \"nC\": None,\n",
    "    \"bins\": None,\n",
    "    \"patches\": None,\n",
    "    \"init_pars\": None,\n",
    "    \"minuit_limits\": None,\n",
    "    \"fit_model\": None,\n",
    "    \"fit_result\": None,\n",
    "    \"fig\": None,\n",
    "    \"ax\": None,\n",
    "}\n",
    "\n",
    "# Use the class:\n",
    "variables[\"nC\" + root_name], variables[\"bins\" + root_name], variables[\"patches\" + root_name] = plt.hist(L0_MM[good_LambdaLL], bins=60, range=(1100,1130))\n",
    "plt.close()\n",
    "\n",
    "# DoubleGaussian_plus_Exp [n_s, f, n_b, mu1, mu2, sigma1, sigma2, A, b] \n",
    "variables[\"init_pars\" + root_name] = [1828.0599366650097, 0.4941768942938372, -22732.448819532376, 1115.813484591921, 1115.968219607668, 0.9105384655460779, 2.194006264575918, -0.04194529869310294, 1.5782139821288466] ## good_LambdaLL\n",
    "\n",
    "variables[\"minuit_limits\" + root_name] = {\n",
    "    \"f\": (0.0001, 0.9999),\n",
    "}\n",
    "\n",
    "variables[\"fit_model\" + root_name] = DoubleGaussian_plus_Exp(variables[\"bins\" + root_name], variables[\"nC\" + root_name], variables[\"minuit_limits\" + root_name])\n",
    "\n",
    "variables[\"fit_result\" + root_name] = variables[\"fit_model\" + root_name].fit(variables[\"init_pars\" + root_name])\n",
    "\n",
    "# Print the fitted parameters\n",
    "print(\"Fitted parameters:\", variables[\"fit_result\" + root_name].values)\n",
    "variables[\"fit_result\" + root_name]\n",
    "\n"
   ]
  },
  {
   "attachments": {},
   "cell_type": "markdown",
   "metadata": {},
   "source": [
    "again, lets plot the histogram and fit superimposed on the hitsogram for lambda with same cuts but without the mass cut."
   ]
  },
  {
   "cell_type": "code",
   "execution_count": 38,
   "metadata": {},
   "outputs": [
    {
     "data": {
      "image/png": "[encoded data removed]",
      "text/plain": [
       "<Figure size 640x480 with 1 Axes>"
      ]
     },
     "metadata": {},
     "output_type": "display_data"
    }
   ],
   "source": [
    "variables[\"fig\" + root_name], variables[\"ax\" + root_name] = variables[\"fit_model\" + root_name].plot(variables[\"fit_result\" + root_name], variables[\"bins\" + root_name], variables[\"nC\" + root_name], title='L0_MM with goodLambdaLL ', xlabel='L0 Mass', ylabel='Entries per 0.5 MeV', vlines=[1114., 1118.], show_plot=False)\n",
    "\n",
    "variables[\"ax\" + root_name].hist(L0_MM[temp_cutLL], bins=60, range=(1100, 1130), color='purple', alpha=0.5)\n",
    "variables[\"ax\" + root_name].hist(L0_MM[good_LambdaLL], bins=60, range=(1100, 1130), color='g', alpha=0.5)\n",
    "\n",
    "plt.show()\n"
   ]
  },
  {
   "attachments": {},
   "cell_type": "markdown",
   "metadata": {},
   "source": [
    "## Lambda DD (L0_DD)"
   ]
  },
  {
   "attachments": {},
   "cell_type": "markdown",
   "metadata": {},
   "source": [
    "### Fit using Double Gaussian plus Exponential"
   ]
  },
  {
   "attachments": {},
   "cell_type": "markdown",
   "metadata": {},
   "source": [
    "lets again, start with some random search to acquire good initial guess\n",
    "\n",
    "The fit is for L0 with the following cuts \n",
    "\n",
    "`good_LambdaDD`   = `(Lp_ProbNNp>0.2) & (L0_MM>1111) & (L0_MM<1121) & good_Delta_Z & good_Lambda_chisq_100 & DD`\n"
   ]
  },
  {
   "cell_type": "code",
   "execution_count": 39,
   "metadata": {},
   "outputs": [
    {
     "name": "stdout",
     "output_type": "stream",
     "text": [
      "Best chi2: 2064.8171551610058\n",
      "Best initial parameters: {'n_s': 9992.735064384671, 'f': 0.20411692821150057, 'n_b': 42.710590726528196, 'mu1': 1113.0995799749064, 'mu2': 1110.1352457790472, 'sigma1': 12.305281074560835, 'sigma2': 11.55497936481286, 'A': 0.061240134350778574, 'b': 0.17203374712124675}\n",
      "11545.550211000576, 0.4294665425788566, -12660.924959347747, 1115.8898342152625, 1172.0784596745332, -2.0123100321399265, 99.96705324026888, 0.06124013435044397, 5.022209886337525>\n"
     ]
    }
   ],
   "source": [
    "root_name = \"_DD\"\n",
    "\n",
    "# Define a dictionary to store your variables\n",
    "variables = {\n",
    "    \"nC\": None,\n",
    "    \"bins\": None,\n",
    "    \"patches\": None,\n",
    "    \"param_ranges\": None,\n",
    "    \"random_search\": None,\n",
    "    \"best_score\": None,\n",
    "    \"best_params\": None,\n",
    "    \"best_fit\": None,\n",
    "    \"best_fit_m\": None,\n",
    "    \"parsed_output\": None,\n",
    "}\n",
    "\n",
    "# Use the class:\n",
    "variables[\"nC\" + root_name], variables[\"bins\" + root_name], variables[\"patches\" + root_name] = plt.hist(L0_MM[good_LambdaDD], bins=60, range=(1100,1130))\n",
    "plt.close()\n",
    "\n",
    "variables[\"param_ranges\" + root_name] = {\n",
    "    \"n_s\": (1000, 10000),\n",
    "    \"f\": (0.001, 0.999),\n",
    "    \"n_b\": (10, 100),\n",
    "    \"mu1\": (1110, 1116),\n",
    "    \"mu2\": (1110, 1116),\n",
    "    \"sigma1\": (10, 20),\n",
    "    \"sigma2\": (10, 20),\n",
    "    \"A\": (-0.1, 0.1),\n",
    "    \"b\": (-1, 1),\n",
    "}\n",
    "\n",
    "variables[\"random_search\" + root_name] = RandomSearch(variables[\"bins\" + root_name], variables[\"nC\" + root_name], fit_class=DoubleGaussian_plus_Exp, search_ranges=variables[\"param_ranges\" + root_name], num_searches=100)\n",
    "\n",
    "# Perform the search\n",
    "variables[\"best_score\" + root_name], variables[\"best_params\" + root_name], variables[\"best_fit\" + root_name] = variables[\"random_search\" + root_name].perform_search()\n",
    "\n",
    "# Print the results\n",
    "print(\"Best chi2:\", variables[\"best_score\" + root_name])\n",
    "print(\"Best initial parameters:\", variables[\"best_params\" + root_name])\n",
    "\n",
    "# Fit the best_fit with the best_params\n",
    "best_params_list = [variables[\"best_params\" + root_name][param] for param in [\"n_s\", \"f\", \"n_b\", \"mu1\", \"mu2\", \"sigma1\", \"sigma2\", \"A\", \"b\"]]\n",
    "variables[\"best_fit_m\" + root_name] = variables[\"best_fit\" + root_name].fit(best_params_list)\n",
    "\n",
    "\n",
    "# Print the fitted parameters in a nice format to copy-paste\n",
    "variables[\"parsed_output\" + root_name] = parse_best_fit_parameters(variables[\"best_fit_m\" + root_name].values)\n",
    "print(variables[\"parsed_output\" + root_name])\n"
   ]
  },
  {
   "attachments": {},
   "cell_type": "markdown",
   "metadata": {},
   "source": [
    "Now we use this initial guess to do the fit "
   ]
  },
  {
   "attachments": {},
   "cell_type": "markdown",
   "metadata": {},
   "source": []
  },
  {
   "cell_type": "code",
   "execution_count": 40,
   "metadata": {},
   "outputs": [
    {
     "name": "stdout",
     "output_type": "stream",
     "text": [
      "Fitted parameters: <ValueView n_s=7545.3806909725745 f=0.5338891139097182 n_b=3431.6673953163054 mu1=1115.869620426922 mu2=1499.4428273473834 sigma1=1.6764477526703891 sigma2=-14.856448310640877 A=-0.042164952544651225 b=-0.00854861184985901>\n"
     ]
    },
    {
     "data": {
      "text/html": [
       "<table>\n",
       "    <tr>\n",
       "        <th colspan=\"2\" style=\"text-align:center\" title=\"Minimizer\"> Migrad </th>\n",
       "    </tr>\n",
       "    <tr>\n",
       "        <td style=\"text-align:left\" title=\"Minimum value of function\"> FCN = 30.05 </td>\n",
       "        <td style=\"text-align:center\" title=\"Total number of function and (optional) gradient evaluations\"> Nfcn = 719 </td>\n",
       "    </tr>\n",
       "    <tr>\n",
       "        <td style=\"text-align:left\" title=\"Estimated distance to minimum and goal\"> EDM = 3.47e-05 (Goal: 0.0002) </td>\n",
       "        <td style=\"text-align:center\" title=\"Total run time of algorithms\">  </td>\n",
       "    </tr>\n",
       "    <tr>\n",
       "        <td style=\"text-align:center;background-color:#92CCA6;color:black\"> Valid Minimum </td>\n",
       "        <td style=\"text-align:center;background-color:#92CCA6;color:black\"> Below EDM threshold (goal x 10) </td>\n",
       "    </tr>\n",
       "    <tr>\n",
       "        <td style=\"text-align:center;background-color:#92CCA6;color:black\"> No parameters at limit </td>\n",
       "        <td style=\"text-align:center;background-color:#92CCA6;color:black\"> Below call limit </td>\n",
       "    </tr>\n",
       "    <tr>\n",
       "        <td style=\"text-align:center;background-color:#92CCA6;color:black\"> Hesse ok </td>\n",
       "        <td style=\"text-align:center;background-color:#92CCA6;color:black\"> Covariance accurate </td>\n",
       "    </tr>\n",
       "</table><table>\n",
       "    <tr>\n",
       "        <td></td>\n",
       "        <th title=\"Variable name\"> Name </th>\n",
       "        <th title=\"Value of parameter\"> Value </th>\n",
       "        <th title=\"Hesse error\"> Hesse Error </th>\n",
       "        <th title=\"Minos lower error\"> Minos Error- </th>\n",
       "        <th title=\"Minos upper error\"> Minos Error+ </th>\n",
       "        <th title=\"Lower limit of the parameter\"> Limit- </th>\n",
       "        <th title=\"Upper limit of the parameter\"> Limit+ </th>\n",
       "        <th title=\"Is the parameter fixed in the fit\"> Fixed </th>\n",
       "    </tr>\n",
       "    <tr>\n",
       "        <th> 0 </th>\n",
       "        <td> n_s </td>\n",
       "        <td> 7.55e3 </td>\n",
       "        <td> 0.12e3 </td>\n",
       "        <td>  </td>\n",
       "        <td>  </td>\n",
       "        <td>  </td>\n",
       "        <td>  </td>\n",
       "        <td>  </td>\n",
       "    </tr>\n",
       "    <tr>\n",
       "        <th> 1 </th>\n",
       "        <td> f </td>\n",
       "        <td> 0.534 </td>\n",
       "        <td> 0.013 </td>\n",
       "        <td>  </td>\n",
       "        <td>  </td>\n",
       "        <td> 0.0001 </td>\n",
       "        <td> 1 </td>\n",
       "        <td>  </td>\n",
       "    </tr>\n",
       "    <tr>\n",
       "        <th> 2 </th>\n",
       "        <td> n_b </td>\n",
       "        <td> 3.43e3 </td>\n",
       "        <td> 0.35e3 </td>\n",
       "        <td>  </td>\n",
       "        <td>  </td>\n",
       "        <td>  </td>\n",
       "        <td>  </td>\n",
       "        <td>  </td>\n",
       "    </tr>\n",
       "    <tr>\n",
       "        <th> 3 </th>\n",
       "        <td> mu1 </td>\n",
       "        <td> 1.11587e3 </td>\n",
       "        <td> 0.00004e3 </td>\n",
       "        <td>  </td>\n",
       "        <td>  </td>\n",
       "        <td>  </td>\n",
       "        <td>  </td>\n",
       "        <td>  </td>\n",
       "    </tr>\n",
       "    <tr>\n",
       "        <th> 4 </th>\n",
       "        <td> mu2 </td>\n",
       "        <td> 1.4994e3 </td>\n",
       "        <td> 0.0014e3 </td>\n",
       "        <td>  </td>\n",
       "        <td>  </td>\n",
       "        <td>  </td>\n",
       "        <td>  </td>\n",
       "        <td>  </td>\n",
       "    </tr>\n",
       "    <tr>\n",
       "        <th> 5 </th>\n",
       "        <td> sigma1 </td>\n",
       "        <td> 1.68 </td>\n",
       "        <td> 0.05 </td>\n",
       "        <td>  </td>\n",
       "        <td>  </td>\n",
       "        <td>  </td>\n",
       "        <td>  </td>\n",
       "        <td>  </td>\n",
       "    </tr>\n",
       "    <tr>\n",
       "        <th> 6 </th>\n",
       "        <td> sigma2 </td>\n",
       "        <td> -0.01e3 </td>\n",
       "        <td> 0.23e3 </td>\n",
       "        <td>  </td>\n",
       "        <td>  </td>\n",
       "        <td>  </td>\n",
       "        <td>  </td>\n",
       "        <td>  </td>\n",
       "    </tr>\n",
       "    <tr>\n",
       "        <th> 7 </th>\n",
       "        <td> A </td>\n",
       "        <td> -0.0 </td>\n",
       "        <td> 1.4 </td>\n",
       "        <td>  </td>\n",
       "        <td>  </td>\n",
       "        <td>  </td>\n",
       "        <td>  </td>\n",
       "        <td>  </td>\n",
       "    </tr>\n",
       "    <tr>\n",
       "        <th> 8 </th>\n",
       "        <td> b </td>\n",
       "        <td> -0.009 </td>\n",
       "        <td> 0.016 </td>\n",
       "        <td>  </td>\n",
       "        <td>  </td>\n",
       "        <td>  </td>\n",
       "        <td>  </td>\n",
       "        <td>  </td>\n",
       "    </tr>\n",
       "</table><table>\n",
       "    <tr>\n",
       "        <td></td>\n",
       "        <th> n_s </th>\n",
       "        <th> f </th>\n",
       "        <th> n_b </th>\n",
       "        <th> mu1 </th>\n",
       "        <th> mu2 </th>\n",
       "        <th> sigma1 </th>\n",
       "        <th> sigma2 </th>\n",
       "        <th> A </th>\n",
       "        <th> b </th>\n",
       "    </tr>\n",
       "    <tr>\n",
       "        <th> n_s </th>\n",
       "        <td> 1.41e+04 </td>\n",
       "        <td style=\"background-color:rgb(250,199,199);color:black\"> 513.76e-3 <strong>(0.342)</strong> </td>\n",
       "        <td style=\"background-color:rgb(171,171,250);color:black\"> -0.025e6 <strong>(-0.607)</strong> </td>\n",
       "        <td style=\"background-color:rgb(245,245,250);color:black\"> -0.1696 <strong>(-0.036)</strong> </td>\n",
       "        <td style=\"background-color:rgb(250,250,250);color:black\"> 0.0 </td>\n",
       "        <td style=\"background-color:rgb(250,172,172);color:black\"> 3.0364 <strong>(0.519)</strong> </td>\n",
       "        <td style=\"background-color:rgb(250,250,250);color:black\"> -0 <strong>(-0.001)</strong> </td>\n",
       "        <td style=\"background-color:rgb(250,250,250);color:black\"> 0.0 </td>\n",
       "        <td style=\"background-color:rgb(232,232,250);color:black\"> -260.63e-3 <strong>(-0.135)</strong> </td>\n",
       "    </tr>\n",
       "    <tr>\n",
       "        <th> f </th>\n",
       "        <td style=\"background-color:rgb(250,199,199);color:black\"> 513.76e-3 <strong>(0.342)</strong> </td>\n",
       "        <td> 0.000161 </td>\n",
       "        <td style=\"background-color:rgb(154,154,250);color:black\"> -3.32010 <strong>(-0.741)</strong> </td>\n",
       "        <td style=\"background-color:rgb(247,247,250);color:black\"> -0.01e-3 <strong>(-0.020)</strong> </td>\n",
       "        <td style=\"background-color:rgb(250,250,250);color:black\"> 0 </td>\n",
       "        <td style=\"background-color:rgb(250,150,150);color:black\"> 0.42e-3 <strong>(0.665)</strong> </td>\n",
       "        <td style=\"background-color:rgb(250,250,250);color:black\"> -3.37e-3 <strong>(-0.001)</strong> </td>\n",
       "        <td style=\"background-color:rgb(250,250,250);color:black\"> 0 </td>\n",
       "        <td style=\"background-color:rgb(231,231,250);color:black\"> -0.03e-3 <strong>(-0.143)</strong> </td>\n",
       "    </tr>\n",
       "    <tr>\n",
       "        <th> n_b </th>\n",
       "        <td style=\"background-color:rgb(171,171,250);color:black\"> -0.025e6 <strong>(-0.607)</strong> </td>\n",
       "        <td style=\"background-color:rgb(154,154,250);color:black\"> -3.32010 <strong>(-0.741)</strong> </td>\n",
       "        <td> 1.25e+05 </td>\n",
       "        <td style=\"background-color:rgb(250,238,238);color:black\"> 1.0988 <strong>(0.077)</strong> </td>\n",
       "        <td style=\"background-color:rgb(250,250,250);color:black\"> 0.0 </td>\n",
       "        <td style=\"background-color:rgb(146,146,250);color:black\"> -13.9258 <strong>(-0.799)</strong> </td>\n",
       "        <td style=\"background-color:rgb(250,250,250);color:black\"> 0 <strong>(0.001)</strong> </td>\n",
       "        <td style=\"background-color:rgb(250,250,250);color:black\"> -0.0 </td>\n",
       "        <td style=\"background-color:rgb(250,210,210);color:black\"> 1.53413 <strong>(0.267)</strong> </td>\n",
       "    </tr>\n",
       "    <tr>\n",
       "        <th> mu1 </th>\n",
       "        <td style=\"background-color:rgb(245,245,250);color:black\"> -0.1696 <strong>(-0.036)</strong> </td>\n",
       "        <td style=\"background-color:rgb(247,247,250);color:black\"> -0.01e-3 <strong>(-0.020)</strong> </td>\n",
       "        <td style=\"background-color:rgb(250,238,238);color:black\"> 1.0988 <strong>(0.077)</strong> </td>\n",
       "        <td> 0.00162 </td>\n",
       "        <td style=\"background-color:rgb(250,250,250);color:black\"> 0.0000 </td>\n",
       "        <td style=\"background-color:rgb(250,250,250);color:black\"> -0.0000 </td>\n",
       "        <td style=\"background-color:rgb(250,250,250);color:black\"> -0.0074 <strong>(-0.001)</strong> </td>\n",
       "        <td style=\"background-color:rgb(250,250,250);color:black\"> 0.0000 </td>\n",
       "        <td style=\"background-color:rgb(250,166,166);color:black\"> 0.37e-3 <strong>(0.562)</strong> </td>\n",
       "    </tr>\n",
       "    <tr>\n",
       "        <th> mu2 </th>\n",
       "        <td style=\"background-color:rgb(250,250,250);color:black\"> 0.0 </td>\n",
       "        <td style=\"background-color:rgb(250,250,250);color:black\"> 0 </td>\n",
       "        <td style=\"background-color:rgb(250,250,250);color:black\"> 0.0 </td>\n",
       "        <td style=\"background-color:rgb(250,250,250);color:black\"> 0.0000 </td>\n",
       "        <td> 2 </td>\n",
       "        <td style=\"background-color:rgb(250,250,250);color:black\"> 0.0000 </td>\n",
       "        <td style=\"background-color:rgb(250,250,250);color:black\"> 0.0 </td>\n",
       "        <td style=\"background-color:rgb(250,250,250);color:black\"> 0 </td>\n",
       "        <td style=\"background-color:rgb(250,250,250);color:black\"> 0 </td>\n",
       "    </tr>\n",
       "    <tr>\n",
       "        <th> sigma1 </th>\n",
       "        <td style=\"background-color:rgb(250,172,172);color:black\"> 3.0364 <strong>(0.519)</strong> </td>\n",
       "        <td style=\"background-color:rgb(250,150,150);color:black\"> 0.42e-3 <strong>(0.665)</strong> </td>\n",
       "        <td style=\"background-color:rgb(146,146,250);color:black\"> -13.9258 <strong>(-0.799)</strong> </td>\n",
       "        <td style=\"background-color:rgb(250,250,250);color:black\"> -0.0000 </td>\n",
       "        <td style=\"background-color:rgb(250,250,250);color:black\"> 0.0000 </td>\n",
       "        <td> 0.00244 </td>\n",
       "        <td style=\"background-color:rgb(250,250,250);color:black\"> -0.0100 <strong>(-0.001)</strong> </td>\n",
       "        <td style=\"background-color:rgb(250,250,250);color:black\"> 0.0000 </td>\n",
       "        <td style=\"background-color:rgb(229,229,250);color:black\"> -0.13e-3 <strong>(-0.158)</strong> </td>\n",
       "    </tr>\n",
       "    <tr>\n",
       "        <th> sigma2 </th>\n",
       "        <td style=\"background-color:rgb(250,250,250);color:black\"> -0 <strong>(-0.001)</strong> </td>\n",
       "        <td style=\"background-color:rgb(250,250,250);color:black\"> -3.37e-3 <strong>(-0.001)</strong> </td>\n",
       "        <td style=\"background-color:rgb(250,250,250);color:black\"> 0 <strong>(0.001)</strong> </td>\n",
       "        <td style=\"background-color:rgb(250,250,250);color:black\"> -0.0074 <strong>(-0.001)</strong> </td>\n",
       "        <td style=\"background-color:rgb(250,250,250);color:black\"> 0.0 </td>\n",
       "        <td style=\"background-color:rgb(250,250,250);color:black\"> -0.0100 <strong>(-0.001)</strong> </td>\n",
       "        <td> 5.38e+04 </td>\n",
       "        <td style=\"background-color:rgb(250,250,250);color:black\"> -0.0 </td>\n",
       "        <td style=\"background-color:rgb(250,250,250);color:black\"> -4.09e-3 <strong>(-0.001)</strong> </td>\n",
       "    </tr>\n",
       "    <tr>\n",
       "        <th> A </th>\n",
       "        <td style=\"background-color:rgb(250,250,250);color:black\"> 0.0 </td>\n",
       "        <td style=\"background-color:rgb(250,250,250);color:black\"> 0 </td>\n",
       "        <td style=\"background-color:rgb(250,250,250);color:black\"> -0.0 </td>\n",
       "        <td style=\"background-color:rgb(250,250,250);color:black\"> 0.0000 </td>\n",
       "        <td style=\"background-color:rgb(250,250,250);color:black\"> 0 </td>\n",
       "        <td style=\"background-color:rgb(250,250,250);color:black\"> 0.0000 </td>\n",
       "        <td style=\"background-color:rgb(250,250,250);color:black\"> -0.0 </td>\n",
       "        <td> 2 </td>\n",
       "        <td style=\"background-color:rgb(250,250,250);color:black\"> 0 </td>\n",
       "    </tr>\n",
       "    <tr>\n",
       "        <th> b </th>\n",
       "        <td style=\"background-color:rgb(232,232,250);color:black\"> -260.63e-3 <strong>(-0.135)</strong> </td>\n",
       "        <td style=\"background-color:rgb(231,231,250);color:black\"> -0.03e-3 <strong>(-0.143)</strong> </td>\n",
       "        <td style=\"background-color:rgb(250,210,210);color:black\"> 1.53413 <strong>(0.267)</strong> </td>\n",
       "        <td style=\"background-color:rgb(250,166,166);color:black\"> 0.37e-3 <strong>(0.562)</strong> </td>\n",
       "        <td style=\"background-color:rgb(250,250,250);color:black\"> 0 </td>\n",
       "        <td style=\"background-color:rgb(229,229,250);color:black\"> -0.13e-3 <strong>(-0.158)</strong> </td>\n",
       "        <td style=\"background-color:rgb(250,250,250);color:black\"> -4.09e-3 <strong>(-0.001)</strong> </td>\n",
       "        <td style=\"background-color:rgb(250,250,250);color:black\"> 0 </td>\n",
       "        <td> 0.000264 </td>\n",
       "    </tr>\n",
       "</table>"
      ],
      "text/plain": [
       "┌─────────────────────────────────────────────────────────────────────────┐\n",
       "│                                Migrad                                   │\n",
       "├──────────────────────────────────┬──────────────────────────────────────┤\n",
       "│ FCN = 30.05                      │              Nfcn = 719              │\n",
       "│ EDM = 3.47e-05 (Goal: 0.0002)    │                                      │\n",
       "├──────────────────────────────────┼──────────────────────────────────────┤\n",
       "│          Valid Minimum           │   Below EDM threshold (goal x 10)    │\n",
       "├──────────────────────────────────┼──────────────────────────────────────┤\n",
       "│      No parameters at limit      │           Below call limit           │\n",
       "├──────────────────────────────────┼──────────────────────────────────────┤\n",
       "│             Hesse ok             │         Covariance accurate          │\n",
       "└──────────────────────────────────┴──────────────────────────────────────┘\n",
       "┌───┬────────┬───────────┬───────────┬────────────┬────────────┬─────────┬─────────┬───────┐\n",
       "│   │ Name   │   Value   │ Hesse Err │ Minos Err- │ Minos Err+ │ Limit-  │ Limit+  │ Fixed │\n",
       "├───┼────────┼───────────┼───────────┼────────────┼────────────┼─────────┼─────────┼───────┤\n",
       "│ 0 │ n_s    │  7.55e3   │  0.12e3   │            │            │         │         │       │\n",
       "│ 1 │ f      │   0.534   │   0.013   │            │            │ 0.0001  │ 0.9999  │       │\n",
       "│ 2 │ n_b    │  3.43e3   │  0.35e3   │            │            │         │         │       │\n",
       "│ 3 │ mu1    │ 1.11587e3 │ 0.00004e3 │            │            │         │         │       │\n",
       "│ 4 │ mu2    │ 1.4994e3  │ 0.0014e3  │            │            │         │         │       │\n",
       "│ 5 │ sigma1 │   1.68    │   0.05    │            │            │         │         │       │\n",
       "│ 6 │ sigma2 │  -0.01e3  │  0.23e3   │            │            │         │         │       │\n",
       "│ 7 │ A      │   -0.0    │    1.4    │            │            │         │         │       │\n",
       "│ 8 │ b      │  -0.009   │   0.016   │            │            │         │         │       │\n",
       "└───┴────────┴───────────┴───────────┴────────────┴────────────┴─────────┴─────────┴───────┘\n",
       "┌────────┬────────────────────────────────────────────────────────────────────────────────────────────────────┐\n",
       "│        │        n_s          f        n_b        mu1        mu2     sigma1     sigma2          A          b │\n",
       "├────────┼────────────────────────────────────────────────────────────────────────────────────────────────────┤\n",
       "│    n_s │   1.41e+04  513.76e-3   -0.025e6    -0.1696        0.0     3.0364         -0        0.0 -260.63e-3 │\n",
       "│      f │  513.76e-3   0.000161   -3.32010   -0.01e-3          0    0.42e-3   -3.37e-3          0   -0.03e-3 │\n",
       "│    n_b │   -0.025e6   -3.32010   1.25e+05     1.0988        0.0   -13.9258          0       -0.0    1.53413 │\n",
       "│    mu1 │    -0.1696   -0.01e-3     1.0988    0.00162     0.0000    -0.0000    -0.0074     0.0000    0.37e-3 │\n",
       "│    mu2 │        0.0          0        0.0     0.0000          2     0.0000        0.0          0          0 │\n",
       "│ sigma1 │     3.0364    0.42e-3   -13.9258    -0.0000     0.0000    0.00244    -0.0100     0.0000   -0.13e-3 │\n",
       "│ sigma2 │         -0   -3.37e-3          0    -0.0074        0.0    -0.0100   5.38e+04       -0.0   -4.09e-3 │\n",
       "│      A │        0.0          0       -0.0     0.0000          0     0.0000       -0.0          2          0 │\n",
       "│      b │ -260.63e-3   -0.03e-3    1.53413    0.37e-3          0   -0.13e-3   -4.09e-3          0   0.000264 │\n",
       "└────────┴────────────────────────────────────────────────────────────────────────────────────────────────────┘"
      ]
     },
     "execution_count": 40,
     "metadata": {},
     "output_type": "execute_result"
    }
   ],
   "source": [
    "root_name = \"_DD\"\n",
    "\n",
    "# Define a dictionary to store your variables\n",
    "variables = {\n",
    "    \"nC\": None,\n",
    "    \"bins\": None,\n",
    "    \"patches\": None,\n",
    "    \"init_pars\": None,\n",
    "    \"minuit_limits\": None,\n",
    "    \"fit_model\": None,\n",
    "    \"fit_result\": None,\n",
    "    \"fig\": None,\n",
    "    \"ax\": None,\n",
    "}\n",
    "\n",
    "# Use the class:\n",
    "variables[\"nC\" + root_name], variables[\"bins\" + root_name], variables[\"patches\" + root_name] = plt.hist(L0_MM[good_LambdaDD], bins=60, range=(1100,1130))\n",
    "plt.close()\n",
    "\n",
    "# DoubleGaussian_plus_Exp [n_s, f, n_b, mu1, mu2, sigma1, sigma2, A, b] \n",
    "variables[\"init_pars\" + root_name] = [9120.817313121128, 0.929509388491892, 6548.478148791116, 1115.7823039513255, 1499.4428273473834, 1.6580107105881836, 4.957241526156779, -0.030793060590727006, -0.050084638862231065] ## good_LambdaLL\n",
    "\n",
    "variables[\"minuit_limits\" + root_name] = {\n",
    "    \"f\": (0.0001, 0.9999),\n",
    "}\n",
    "\n",
    "variables[\"fit_model\" + root_name] = DoubleGaussian_plus_Exp(variables[\"bins\" + root_name], variables[\"nC\" + root_name], variables[\"minuit_limits\" + root_name])\n",
    "\n",
    "variables[\"fit_result\" + root_name] = variables[\"fit_model\" + root_name].fit(variables[\"init_pars\" + root_name])\n",
    "\n",
    "# Print the fitted parameters\n",
    "print(\"Fitted parameters:\", variables[\"fit_result\" + root_name].values)\n",
    "variables[\"fit_result\" + root_name]\n",
    "\n"
   ]
  },
  {
   "attachments": {},
   "cell_type": "markdown",
   "metadata": {},
   "source": [
    "and we do the same plots as before:"
   ]
  },
  {
   "cell_type": "code",
   "execution_count": 41,
   "metadata": {},
   "outputs": [
    {
     "data": {
      "image/png": "[encoded data removed]",
      "text/plain": [
       "<Figure size 640x480 with 1 Axes>"
      ]
     },
     "metadata": {},
     "output_type": "display_data"
    }
   ],
   "source": [
    "variables[\"fig\" + root_name], variables[\"ax\" + root_name] = variables[\"fit_model\" + root_name].plot(variables[\"fit_result\" + root_name], variables[\"bins\" + root_name], variables[\"nC\" + root_name], title='L0_MM with goodLambdaDD ', xlabel='L0 Mass', ylabel='Entries per 0.5 MeV', vlines=[1114., 1118.], show_plot=False)\n",
    "\n",
    "variables[\"ax\" + root_name].hist(L0_MM[temp_cutDD], bins=60, range=(1100, 1130), color='purple', alpha=0.5)\n",
    "variables[\"ax\" + root_name].hist(L0_MM[good_LambdaDD], bins=60, range=(1100, 1130), color='g', alpha=0.5)\n",
    "\n",
    "plt.show()\n"
   ]
  },
  {
   "attachments": {},
   "cell_type": "markdown",
   "metadata": {},
   "source": [
    "# B Fitting"
   ]
  },
  {
   "attachments": {},
   "cell_type": "markdown",
   "metadata": {},
   "source": [
    "First lets try to get a good B+ sample. we will try the following cuts\n",
    "\n",
    "- p_ProbNNp\n",
    "- good_Lambda\n",
    "- prodProbKK > 0.2\n",
    "- B_region"
   ]
  },
  {
   "cell_type": "code",
   "execution_count": 42,
   "metadata": {},
   "outputs": [],
   "source": [
    "\n",
    "good_b = good_Lambda & (prodProbKK > 0.4) & (p_ProbNNp > 0.5)  & B_region\n",
    "good_cand = good_Lambda & (prodProbKK > 0.4) & (p_ProbNNp > 0.5)\n",
    "better_b = good_b & (Bu_IPCHI2_OWNPV < 5)\n",
    "# add mass cut that Bu_MM is between 5200 and 5400\n",
    "good_b_mass = Bu_MM[good_b]\n"
   ]
  },
  {
   "cell_type": "code",
   "execution_count": 47,
   "metadata": {},
   "outputs": [
    {
     "data": {
      "image/png": "[encoded data removed]",
      "text/plain": [
       "<Figure size 640x480 with 1 Axes>"
      ]
     },
     "metadata": {},
     "output_type": "display_data"
    }
   ],
   "source": [
    "# Now lets plot the Bu_Mass for good_b\n",
    "\n",
    "plt.figure()\n",
    "plt.hist(Bu_MM[good_cand], bins=60, range=(5200, 5400), facecolor='g', edgecolor='g', alpha=0.8, label='good_cand')\n",
    "plt.hist(Bu_MM, bins=60, range=(5200, 5400), facecolor='r', edgecolor='r', alpha=0.2, label='All')\n",
    "plt.hist(good_b_mass, bins=60, range=(5200, 5400), facecolor='b', edgecolor='b', alpha=0.5, label='good_b_mass')\n",
    "plt.xlabel('Bu_MM')\n",
    "plt.ylabel('Entries per 5 MeV')\n",
    "plt.title('Bu_MM with good_b')\n",
    "plt.legend()\n",
    "plt.show()\n"
   ]
  },
  {
   "cell_type": "code",
   "execution_count": 54,
   "metadata": {},
   "outputs": [
    {
     "data": {
      "image/png": "[encoded data removed]",
      "text/plain": [
       "<Figure size 640x480 with 1 Axes>"
      ]
     },
     "metadata": {},
     "output_type": "display_data"
    }
   ],
   "source": [
    "# Now lets plot the Bu_Mass for good_b\n",
    "\n",
    "rejected = np.logical_not(good_cand)\n",
    "plt.figure()\n",
    "plt.hist(Bu_MM, bins=60, range=(5200, 5400), facecolor='r', edgecolor='r', alpha=0.2, label='All')\n",
    "plt.hist(Bu_MM[rejected], bins=60, range=(5200, 5400), facecolor='g', edgecolor='g', alpha=0.75, label='Rejected')\n",
    "plt.hist(Bu_MM[good_b], bins=60, range=(5200, 5400), facecolor='b', edgecolor='b', alpha=0.75, label='Accepted')\n",
    "plt.xlabel('Bu_MM')\n",
    "plt.ylabel('Entries per 5 MeV')\n",
    "plt.title('Bu_MM with good_b')\n",
    "plt.legend()\n",
    "plt.show()\n"
   ]
  },
  {
   "cell_type": "markdown",
   "metadata": {},
   "source": [
    "Now lets try to fit this plot. lets first try doublegaussian plus expoentnial"
   ]
  },
  {
   "cell_type": "code",
   "execution_count": 23,
   "metadata": {},
   "outputs": [
    {
     "name": "stdout",
     "output_type": "stream",
     "text": [
      "Fitted parameters: <ValueView n_s=177772.95199384468 f=0.07210772940673575 n_b=-24186.743876424727 mu1=5000.463754578035 mu2=5893.672347480994 sigma1=-143.060418163935 sigma2=220.8622086388042 A=0.03215102477516779 b=-2.8974940291873907>\n"
     ]
    },
    {
     "data": {
      "text/html": [
       "<table>\n",
       "    <tr>\n",
       "        <th colspan=\"2\" style=\"text-align:center\" title=\"Minimizer\"> Migrad </th>\n",
       "    </tr>\n",
       "    <tr>\n",
       "        <td style=\"text-align:left\" title=\"Minimum value of function\"> FCN = 259.1 </td>\n",
       "        <td style=\"text-align:center\" title=\"Total number of function and (optional) gradient evaluations\"> Nfcn = 1136 </td>\n",
       "    </tr>\n",
       "    <tr>\n",
       "        <td style=\"text-align:left\" title=\"Estimated distance to minimum and goal\"> EDM = 1.35e+13 (Goal: 0.0002) </td>\n",
       "        <td style=\"text-align:center\" title=\"Total run time of algorithms\">  </td>\n",
       "    </tr>\n",
       "    <tr>\n",
       "        <td style=\"text-align:center;background-color:#c15ef7;color:black\"> INVALID Minimum </td>\n",
       "        <td style=\"text-align:center;background-color:#c15ef7;color:black\"> ABOVE EDM threshold (goal x 10) </td>\n",
       "    </tr>\n",
       "    <tr>\n",
       "        <td style=\"text-align:center;background-color:#92CCA6;color:black\"> No parameters at limit </td>\n",
       "        <td style=\"text-align:center;background-color:#92CCA6;color:black\"> Below call limit </td>\n",
       "    </tr>\n",
       "    <tr>\n",
       "        <td style=\"text-align:center;background-color:#c15ef7;color:black\"> Hesse FAILED </td>\n",
       "        <td style=\"text-align:center;background-color:#c15ef7;color:black\"> Covariance NOT pos. def. </td>\n",
       "    </tr>\n",
       "</table><table>\n",
       "    <tr>\n",
       "        <td></td>\n",
       "        <th title=\"Variable name\"> Name </th>\n",
       "        <th title=\"Value of parameter\"> Value </th>\n",
       "        <th title=\"Hesse error\"> Hesse Error </th>\n",
       "        <th title=\"Minos lower error\"> Minos Error- </th>\n",
       "        <th title=\"Minos upper error\"> Minos Error+ </th>\n",
       "        <th title=\"Lower limit of the parameter\"> Limit- </th>\n",
       "        <th title=\"Upper limit of the parameter\"> Limit+ </th>\n",
       "        <th title=\"Is the parameter fixed in the fit\"> Fixed </th>\n",
       "    </tr>\n",
       "    <tr>\n",
       "        <th> 0 </th>\n",
       "        <td> n_s </td>\n",
       "        <td> 1.7777e5 </td>\n",
       "        <td> 0.0000e5 </td>\n",
       "        <td>  </td>\n",
       "        <td>  </td>\n",
       "        <td>  </td>\n",
       "        <td>  </td>\n",
       "        <td>  </td>\n",
       "    </tr>\n",
       "    <tr>\n",
       "        <th> 1 </th>\n",
       "        <td> f </td>\n",
       "        <td> 7.2108e-2 </td>\n",
       "        <td> 0.0000e-2 </td>\n",
       "        <td>  </td>\n",
       "        <td>  </td>\n",
       "        <td> 0.0001 </td>\n",
       "        <td> 1 </td>\n",
       "        <td>  </td>\n",
       "    </tr>\n",
       "    <tr>\n",
       "        <th> 2 </th>\n",
       "        <td> n_b </td>\n",
       "        <td> -2.4187e4 </td>\n",
       "        <td> 0.0000e4 </td>\n",
       "        <td>  </td>\n",
       "        <td>  </td>\n",
       "        <td>  </td>\n",
       "        <td>  </td>\n",
       "        <td>  </td>\n",
       "    </tr>\n",
       "    <tr>\n",
       "        <th> 3 </th>\n",
       "        <td> mu1 </td>\n",
       "        <td> 5.0005e3 </td>\n",
       "        <td> 0.0000e3 </td>\n",
       "        <td>  </td>\n",
       "        <td>  </td>\n",
       "        <td>  </td>\n",
       "        <td>  </td>\n",
       "        <td>  </td>\n",
       "    </tr>\n",
       "    <tr>\n",
       "        <th> 4 </th>\n",
       "        <td> mu2 </td>\n",
       "        <td> 5.8937e3 </td>\n",
       "        <td> 0.0000e3 </td>\n",
       "        <td>  </td>\n",
       "        <td>  </td>\n",
       "        <td>  </td>\n",
       "        <td>  </td>\n",
       "        <td>  </td>\n",
       "    </tr>\n",
       "    <tr>\n",
       "        <th> 5 </th>\n",
       "        <td> sigma1 </td>\n",
       "        <td> -1.4306e2 </td>\n",
       "        <td> 0.0000e2 </td>\n",
       "        <td>  </td>\n",
       "        <td>  </td>\n",
       "        <td>  </td>\n",
       "        <td>  </td>\n",
       "        <td>  </td>\n",
       "    </tr>\n",
       "    <tr>\n",
       "        <th> 6 </th>\n",
       "        <td> sigma2 </td>\n",
       "        <td> 2.2086e2 </td>\n",
       "        <td> 0.0000e2 </td>\n",
       "        <td>  </td>\n",
       "        <td>  </td>\n",
       "        <td>  </td>\n",
       "        <td>  </td>\n",
       "        <td>  </td>\n",
       "    </tr>\n",
       "    <tr>\n",
       "        <th> 7 </th>\n",
       "        <td> A </td>\n",
       "        <td> 3.2151e-2 </td>\n",
       "        <td> 0.0000e-2 </td>\n",
       "        <td>  </td>\n",
       "        <td>  </td>\n",
       "        <td>  </td>\n",
       "        <td>  </td>\n",
       "        <td>  </td>\n",
       "    </tr>\n",
       "    <tr>\n",
       "        <th> 8 </th>\n",
       "        <td> b </td>\n",
       "        <td> -2.8975 </td>\n",
       "        <td> 0.0000 </td>\n",
       "        <td>  </td>\n",
       "        <td>  </td>\n",
       "        <td>  </td>\n",
       "        <td>  </td>\n",
       "        <td>  </td>\n",
       "    </tr>\n",
       "</table>"
      ],
      "text/plain": [
       "┌─────────────────────────────────────────────────────────────────────────┐\n",
       "│                                Migrad                                   │\n",
       "├──────────────────────────────────┬──────────────────────────────────────┤\n",
       "│ FCN = 259.1                      │             Nfcn = 1136              │\n",
       "│ EDM = 1.35e+13 (Goal: 0.0002)    │                                      │\n",
       "├──────────────────────────────────┼──────────────────────────────────────┤\n",
       "│         INVALID Minimum          │   ABOVE EDM threshold (goal x 10)    │\n",
       "├──────────────────────────────────┼──────────────────────────────────────┤\n",
       "│      No parameters at limit      │           Below call limit           │\n",
       "├──────────────────────────────────┼──────────────────────────────────────┤\n",
       "│           Hesse FAILED           │       Covariance NOT pos. def.       │\n",
       "└──────────────────────────────────┴──────────────────────────────────────┘\n",
       "┌───┬────────┬───────────┬───────────┬────────────┬────────────┬─────────┬─────────┬───────┐\n",
       "│   │ Name   │   Value   │ Hesse Err │ Minos Err- │ Minos Err+ │ Limit-  │ Limit+  │ Fixed │\n",
       "├───┼────────┼───────────┼───────────┼────────────┼────────────┼─────────┼─────────┼───────┤\n",
       "│ 0 │ n_s    │ 1.7777e5  │ 0.0000e5  │            │            │         │         │       │\n",
       "│ 1 │ f      │ 7.2108e-2 │ 0.0000e-2 │            │            │ 0.0001  │ 0.9999  │       │\n",
       "│ 2 │ n_b    │ -2.4187e4 │ 0.0000e4  │            │            │         │         │       │\n",
       "│ 3 │ mu1    │ 5.0005e3  │ 0.0000e3  │            │            │         │         │       │\n",
       "│ 4 │ mu2    │ 5.8937e3  │ 0.0000e3  │            │            │         │         │       │\n",
       "│ 5 │ sigma1 │ -1.4306e2 │ 0.0000e2  │            │            │         │         │       │\n",
       "│ 6 │ sigma2 │ 2.2086e2  │ 0.0000e2  │            │            │         │         │       │\n",
       "│ 7 │ A      │ 3.2151e-2 │ 0.0000e-2 │            │            │         │         │       │\n",
       "│ 8 │ b      │  -2.8975  │  0.0000   │            │            │         │         │       │\n",
       "└───┴────────┴───────────┴───────────┴────────────┴────────────┴─────────┴─────────┴───────┘"
      ]
     },
     "execution_count": 23,
     "metadata": {},
     "output_type": "execute_result"
    }
   ],
   "source": [
    "root_name = \"_B\"\n",
    "\n",
    "# Define a dictionary to store your variables\n",
    "variables = {\n",
    "    \"nC\": None,\n",
    "    \"bins\": None,\n",
    "    \"patches\": None,\n",
    "    \"init_pars\": None,\n",
    "    \"minuit_limits\": None,\n",
    "    \"fit_model\": None,\n",
    "    \"fit_result\": None,\n",
    "    \"fig\": None,\n",
    "    \"ax\": None,\n",
    "}\n",
    "\n",
    "# Use the class:\n",
    "variables[\"nC\" + root_name], variables[\"bins\" + root_name], variables[\"patches\" + root_name] = plt.hist(good_b_mass, bins=40, range=(5240,5320))\n",
    "plt.close()\n",
    "\n",
    "# DoubleGaussian_plus_Exp [n_s, f, n_b, mu1, mu2, sigma1, sigma2, A, b] \n",
    "variables[\"init_pars\" + root_name] = [9000, 0.3050696413197713, 0.06, 5249.469752417054, 5297.090841788354, 43.980247470343194, 40.79790976237721, 0.03215102477516779, 0.662131351551057\n",
    "                                    ] ## good_LambdaLL\n",
    "\n",
    "variables[\"minuit_limits\" + root_name] = {\n",
    "    \"f\": (0.0001, 0.9999),\n",
    "}\n",
    "\n",
    "variables[\"fit_model\" + root_name] = DoubleGaussian_plus_Exp(variables[\"bins\" + root_name], variables[\"nC\" + root_name], variables[\"minuit_limits\" + root_name])\n",
    "\n",
    "variables[\"fit_result\" + root_name] = variables[\"fit_model\" + root_name].fit(variables[\"init_pars\" + root_name])\n",
    "\n",
    "# Print the fitted parameters\n",
    "print(\"Fitted parameters:\", variables[\"fit_result\" + root_name].values)\n",
    "variables[\"fit_result\" + root_name]\n",
    "\n"
   ]
  },
  {
   "cell_type": "markdown",
   "metadata": {},
   "source": [
    "Now lets plot the fit."
   ]
  },
  {
   "cell_type": "code",
   "execution_count": 24,
   "metadata": {},
   "outputs": [
    {
     "data": {
      "image/png": "[encoded data removed]",
      "text/plain": [
       "<Figure size 640x480 with 1 Axes>"
      ]
     },
     "metadata": {},
     "output_type": "display_data"
    }
   ],
   "source": [
    "root_name = \"_B\"\n",
    "\n",
    "variables[\"fig\" + root_name], variables[\"ax\" + root_name] = variables[\"fit_model\" + root_name].plot(variables[\"fit_result\" + root_name], variables[\"bins\" + root_name], variables[\"nC\" + root_name], title='Bu_MM with good_b ', xlabel='Bu Mass', ylabel='Entries per 0.5 MeV', vlines=[5275. , 5385.], show_plot=False)\n",
    "plt.show()\n"
   ]
  },
  {
   "cell_type": "markdown",
   "metadata": {},
   "source": [
    "It seems that I need some random search "
   ]
  },
  {
   "cell_type": "code",
   "execution_count": 25,
   "metadata": {},
   "outputs": [
    {
     "name": "stdout",
     "output_type": "stream",
     "text": [
      "Best chi2: 0.0\n",
      "Best initial parameters: {'n_s': 7412.671191609704, 'f': 0.9834982984406373, 'n_b': 50.95922152060035, 'mu1': 5266.780870970071, 'mu2': 5305.429027772824, 'sigma1': 40.375730770690105, 'sigma2': 48.38560858620107, 'A': 0.07209260914463328, 'b': 0.7373960681827059}\n",
      "7412.671191609704, 0.9834982984406373, 50.95922152060035, 5266.780870970071, 5305.429027772824, 40.375730770690105, 48.38560858620107, 0.07209260914463328, 0.7373960681827059>\n"
     ]
    }
   ],
   "source": [
    "root_name = \"_B\"\n",
    "\n",
    "# Define a dictionary to store your variables\n",
    "variables = {\n",
    "    \"nC\": None,\n",
    "    \"bins\": None,\n",
    "    \"patches\": None,\n",
    "    \"param_ranges\": None,\n",
    "    \"random_search\": None,\n",
    "    \"best_score\": None,\n",
    "    \"best_params\": None,\n",
    "    \"best_fit\": None,\n",
    "    \"best_fit_m\": None,\n",
    "    \"parsed_output\": None,\n",
    "}\n",
    "\n",
    "# Use the class:\n",
    "variables[\"nC\" + root_name], variables[\"bins\" + root_name], variables[\"patches\" + root_name] = plt.hist(good_b_mass, bins=60, range=(1100,1130))\n",
    "plt.close()\n",
    "\n",
    "variables[\"param_ranges\" + root_name] = {\n",
    "    \"n_s\": (1000, 10000),\n",
    "    \"f\": (0.001, 0.999),\n",
    "    \"n_b\": (10, 100),\n",
    "    \"mu1\": (5240,5320),\n",
    "    \"mu2\": (5240,5320),\n",
    "    \"sigma1\": (40, 50),\n",
    "    \"sigma2\": (50, 40),\n",
    "    \"A\": (-0.1, 0.1),\n",
    "    \"b\": (-1, 1),\n",
    "}\n",
    "\n",
    "variables[\"random_search\" + root_name] = RandomSearch(variables[\"bins\" + root_name], variables[\"nC\" + root_name], fit_class=DoubleGaussian_plus_Exp, search_ranges=variables[\"param_ranges\" + root_name], num_searches=100)\n",
    "\n",
    "# Perform the search\n",
    "variables[\"best_score\" + root_name], variables[\"best_params\" + root_name], variables[\"best_fit\" + root_name] = variables[\"random_search\" + root_name].perform_search()\n",
    "\n",
    "# Print the results\n",
    "print(\"Best chi2:\", variables[\"best_score\" + root_name])\n",
    "print(\"Best initial parameters:\", variables[\"best_params\" + root_name])\n",
    "\n",
    "# Fit the best_fit with the best_params\n",
    "best_params_list = [variables[\"best_params\" + root_name][param] for param in [\"n_s\", \"f\", \"n_b\", \"mu1\", \"mu2\", \"sigma1\", \"sigma2\", \"A\", \"b\"]]\n",
    "variables[\"best_fit_m\" + root_name] = variables[\"best_fit\" + root_name].fit(best_params_list)\n",
    "\n",
    "\n",
    "# Print the fitted parameters in a nice format to copy-paste\n",
    "variables[\"parsed_output\" + root_name] = parse_best_fit_parameters(variables[\"best_fit_m\" + root_name].values)\n",
    "print(variables[\"parsed_output\" + root_name])\n"
   ]
  },
  {
   "cell_type": "markdown",
   "metadata": {},
   "source": [
    "## Invariant Masses"
   ]
  },
  {
   "cell_type": "markdown",
   "metadata": {},
   "source": [
    "First, lets define the four momentums for our decay produces. we have different combinantions. the following table put a summary for that\n",
    "\n",
    "| Combination        | Possible Resonance       \n",
    "| ------------- |:-------------:| \n",
    "| K₁⁺ K₂⁺     |None\n",
    "| Λ₋p      | Nucleon Resonances     \n",
    "| Λ₋K₁⁺ | Hyperon Resonances     \n",
    "| Λ₋K₂⁺ | Hyperon Resonances      \n",
    "| pK₁⁺ | Hyperon Resonances     \n",
    "| pK₂⁺ | Hyperon Resonances      \n",
    "| Λ₋pK₁⁺ | Baryon Resonances      \n",
    "| Λ₋pK₂⁺ | Baryon Resonances      \n",
    "| pK₁⁺K₂⁺ | Baryon Resonances      \n",
    "| Λ₋K₁⁺K₂⁺ | Baryon Resonances"
   ]
  },
  {
   "cell_type": "code",
   "execution_count": 26,
   "metadata": {},
   "outputs": [],
   "source": [
    "K1_4vec  = vector.awk({\"x\":h1_PX, \"y\":h1_PY, \"z\":h1_PZ, \"t\":h1_PE}) # K+\n",
    "K2_4vec  = vector.awk({\"x\":h2_PX, \"y\":h2_PY, \"z\":h2_PZ, \"t\":h2_PE}) # K+\n",
    "p_4vec   = vector.awk({\"x\":p_PX,  \"y\":p_PY,  \"z\":p_PZ,  \"t\":p_PE}) # p\n",
    "L0_4vec  = vector.awk({\"x\":L0_PX,  \"y\":L0_PY,  \"z\":L0_PZ,  \"t\":L0_PE}) # L0\n",
    "\n",
    "KK_4vec  = K1_4vec+K2_4vec\n",
    "pKK_4vec = p_4vec+KK_4vec \n",
    "\n",
    "LbarpKp_4vec = L0_4vec + p_4vec + K2_4vec\n",
    "\n",
    "KK_mass  = np.sqrt(np.square(KK_4vec.t)  - np.square(KK_4vec.x)  - np.square(KK_4vec.y)  - np.square(KK_4vec.z))\n",
    "\n",
    "pKK_mass = np.sqrt(np.square(pKK_4vec.t) - np.square(pKK_4vec.x) - np.square(pKK_4vec.y) - np.square(pKK_4vec.z))\n",
    "\n",
    "LbarpKp_mass = np.sqrt(np.square(LbarpKp_4vec.t) - np.square(LbarpKp_4vec.x) - np.square(LbarpKp_4vec.y) - np.square(LbarpKp_4vec.z))"
   ]
  },
  {
   "cell_type": "code",
   "execution_count": 27,
   "metadata": {},
   "outputs": [
    {
     "name": "stdout",
     "output_type": "stream",
     "text": [
      "[{x: -2.3e+03, y: 664, z: 3.32e+04, t: 3.33e+04}, ..., {x: -3.42e+03, ...}]\n",
      "[{x: -2.5e+03, y: 2.74e+03, z: 5.38e+04, t: 5.39e+04}, ..., {x: -1.46e+03, ...}]\n"
     ]
    }
   ],
   "source": [
    "print(K1_4vec)\n",
    "print(K2_4vec)"
   ]
  },
  {
   "cell_type": "markdown",
   "metadata": {},
   "source": [
    "### Vector meson resonances"
   ]
  },
  {
   "cell_type": "markdown",
   "metadata": {},
   "source": [
    "#### K+K+"
   ]
  },
  {
   "cell_type": "code",
   "execution_count": 28,
   "metadata": {},
   "outputs": [
    {
     "data": {
      "image/png": "[encoded data removed]",
      "text/plain": [
       "<Figure size 640x480 with 1 Axes>"
      ]
     },
     "metadata": {},
     "output_type": "display_data"
    }
   ],
   "source": [
    "# plt the K+ K+ invaarint mass histogram\n",
    "plt.figure()\n",
    "plt.hist(KK_mass[good_b], bins=100, range=(900, 3000))\n",
    "plt.title(\"Invariant mass of K+ K+\")\n",
    "plt.xlabel(\"K+ K+ Invariant mass\")\n",
    "plt.ylabel(\"Entries per 31 MeV\")\n",
    "plt.show()"
   ]
  },
  {
   "cell_type": "markdown",
   "metadata": {},
   "source": [
    "### Hyperon resonances"
   ]
  },
  {
   "cell_type": "markdown",
   "metadata": {},
   "source": [
    "#### $\\Lambda_{\\bar{\\phantom{x}}}$ K+"
   ]
  },
  {
   "cell_type": "code",
   "execution_count": 29,
   "metadata": {},
   "outputs": [],
   "source": [
    "# define a four momentum for L0 K+ system (First K+)\n",
    "L0Kp_4vec = L0_4vec + K1_4vec\n",
    "    \n",
    "L0Kp1_M = np.sqrt(np.square(L0Kp_4vec.t) - np.square(L0Kp_4vec.x) - np.square(L0Kp_4vec.y) - np.square(L0Kp_4vec.z))    "
   ]
  },
  {
   "cell_type": "code",
   "execution_count": 30,
   "metadata": {},
   "outputs": [
    {
     "data": {
      "image/png": "[encoded data removed]",
      "text/plain": [
       "<Figure size 640x480 with 1 Axes>"
      ]
     },
     "metadata": {},
     "output_type": "display_data"
    }
   ],
   "source": [
    "# plt the L0 K+ invaarint mass histogram\n",
    "plt.figure()\n",
    "plt.hist(L0Kp1_M[good_b], bins=100, range=(1600, 3000))\n",
    "plt.title(r\"Invariant mass of $\\Lambda$̄ K+ (First K+)\")\n",
    "plt.xlabel(r\"$\\Lambda$̄ K+ Invariant mass\")\n",
    "plt.ylabel(\"Entries per 14 MeV\")\n",
    "plt.show()\n",
    "\n"
   ]
  },
  {
   "cell_type": "code",
   "execution_count": 31,
   "metadata": {},
   "outputs": [],
   "source": [
    "# define a four momentum for L0 K+ system (First K+)\n",
    "L0Kp_4vec = L0_4vec + K2_4vec\n",
    "    \n",
    "L0Kp2_M = np.sqrt(np.square(L0Kp_4vec.t) - np.square(L0Kp_4vec.x) - np.square(L0Kp_4vec.y) - np.square(L0Kp_4vec.z))    "
   ]
  },
  {
   "cell_type": "code",
   "execution_count": 32,
   "metadata": {},
   "outputs": [
    {
     "data": {
      "image/png": "[encoded data removed]",
      "text/plain": [
       "<Figure size 640x480 with 1 Axes>"
      ]
     },
     "metadata": {},
     "output_type": "display_data"
    }
   ],
   "source": [
    "# plt the L0 K+ invaarint mass histogram\n",
    "plt.figure()\n",
    "plt.hist(L0Kp2_M[good_b], bins=100, range=(1600, 3000))\n",
    "plt.title(r\"Invariant mass of $\\Lambda$̄ K+ (Seconds K+)\")\n",
    "plt.xlabel(r\"$\\Lambda$̄ K+ Invariant mass\")\n",
    "plt.ylabel(\"Entries per 14 MeV\")\n",
    "plt.show()\n",
    "\n"
   ]
  },
  {
   "cell_type": "markdown",
   "metadata": {},
   "source": [
    "### Excited Nucleons"
   ]
  },
  {
   "cell_type": "markdown",
   "metadata": {},
   "source": [
    "#### $\\Lambda_{\\bar{\\phantom{x}}}$ p"
   ]
  },
  {
   "cell_type": "markdown",
   "metadata": {},
   "source": [
    "Now, we study the excited nucleons from $\\Lambda_{\\bar{\\phantom{x}}}$ p"
   ]
  },
  {
   "cell_type": "code",
   "execution_count": 33,
   "metadata": {},
   "outputs": [],
   "source": [
    "# define a four momentum for L0 p system \n",
    "Lbarp_4vec = L0_4vec + p_4vec\n",
    "\n",
    "Lbarp_mass = np.sqrt(np.square(Lbarp_4vec.t) - np.square(Lbarp_4vec.x) - np.square(Lbarp_4vec.y) - np.square(Lbarp_4vec.z))\n"
   ]
  },
  {
   "cell_type": "code",
   "execution_count": 34,
   "metadata": {},
   "outputs": [
    {
     "data": {
      "image/png": "[encoded data removed]",
      "text/plain": [
       "<Figure size 640x480 with 1 Axes>"
      ]
     },
     "metadata": {},
     "output_type": "display_data"
    }
   ],
   "source": [
    "# plt the L0 K+ invaarint mass histogram\n",
    "plt.figure()\n",
    "plt.hist(Lbarp_mass[good_b], bins=100, range=(2100, 3000))\n",
    "plt.title(r\"Invariant mass of $\\Lambda$̄ p \")\n",
    "plt.xlabel(r\"$\\Lambda$̄ p Invariant mass\")\n",
    "plt.ylabel(\"Entries per 19 MeV\")\n",
    "plt.show()\n",
    "\n"
   ]
  },
  {
   "cell_type": "code",
   "execution_count": 35,
   "metadata": {},
   "outputs": [
    {
     "data": {
      "image/png": "[encoded data removed]",
      "text/plain": [
       "<Figure size 640x480 with 1 Axes>"
      ]
     },
     "metadata": {},
     "output_type": "display_data"
    }
   ],
   "source": [
    "# plt the L0 p invaarint mass histogram\n",
    "plt.figure()\n",
    "plt.hist(Lbarp_mass[good_b], bins=50, range=(2000, 2400))\n",
    "plt.title(r\"Invariant mass of $\\Lambda$̄ p \")\n",
    "plt.xlabel(r\"$\\Lambda$̄ p Invariant mass\")\n",
    "plt.ylabel(\"Entries per 8 MeV\")\n",
    "plt.show()\n",
    "\n"
   ]
  },
  {
   "cell_type": "markdown",
   "metadata": {},
   "source": [
    "### p K+"
   ]
  },
  {
   "cell_type": "code",
   "execution_count": 36,
   "metadata": {},
   "outputs": [],
   "source": [
    "# define a four momentum for p K+ system (First K+)\n",
    "\n",
    "pKp1_4vec = p_4vec + K1_4vec\n",
    "pKp1_mass = np.sqrt(np.square(pKp1_4vec.t) - np.square(pKp1_4vec.x) - np.square(pKp1_4vec.y) - np.square(pKp1_4vec.z))\n"
   ]
  },
  {
   "cell_type": "code",
   "execution_count": 37,
   "metadata": {},
   "outputs": [
    {
     "data": {
      "image/png": "[encoded data removed]",
      "text/plain": [
       "<Figure size 640x480 with 1 Axes>"
      ]
     },
     "metadata": {},
     "output_type": "display_data"
    }
   ],
   "source": [
    "# plt the p K+ invaarint mass histogram (First K+)\n",
    "\n",
    "plt.figure()\n",
    "plt.hist(pKp1_mass[good_b], bins=100, range=(2100, 3600))\n",
    "plt.title(r\"Invariant mass of p K+ (First K+)\")\n",
    "plt.xlabel(r\" p K+ Invariant mass\")\n",
    "plt.ylabel(\"Entries per 15 MeV\")\n",
    "plt.show()\n",
    "\n"
   ]
  },
  {
   "cell_type": "code",
   "execution_count": 38,
   "metadata": {},
   "outputs": [],
   "source": [
    "# define a four momentum for p K+ system (Seconds K+)\n",
    "pKp2_4vec = p_4vec + K2_4vec\n",
    "pKp2_mass = np.sqrt(np.square(pKp2_4vec.t) - np.square(pKp2_4vec.x) - np.square(pKp2_4vec.y) - np.square(pKp2_4vec.z))"
   ]
  },
  {
   "cell_type": "code",
   "execution_count": 39,
   "metadata": {},
   "outputs": [
    {
     "data": {
      "image/png": "[encoded data removed]",
      "text/plain": [
       "<Figure size 640x480 with 1 Axes>"
      ]
     },
     "metadata": {},
     "output_type": "display_data"
    }
   ],
   "source": [
    "# plt the p K+ invaarint mass histogram (Second K+)\n",
    "\n",
    "plt.figure()\n",
    "plt.hist(pKp2_mass[good_b], bins=100, range=(2100, 3600))\n",
    "plt.title(r\"Invariant mass of p K+ (Second K+)\")\n",
    "plt.xlabel(r\" p K+ Invariant mass\")\n",
    "plt.ylabel(\"Entries per 15 MeV\")\n",
    "plt.show()\n",
    "\n"
   ]
  },
  {
   "cell_type": "markdown",
   "metadata": {},
   "source": [
    "### Λ p K⁺"
   ]
  },
  {
   "cell_type": "code",
   "execution_count": 40,
   "metadata": {},
   "outputs": [],
   "source": [
    "# Now lets add the Λ₋pK₁⁺ system and define a four momentum for it (First K+)\n",
    "LbarpKp1_4vec = L0_4vec + p_4vec + K1_4vec\n",
    "LbarpKp1_mass = np.sqrt(np.square(LbarpKp1_4vec.t) - np.square(LbarpKp1_4vec.x) - np.square(LbarpKp1_4vec.y) - np.square(LbarpKp1_4vec.z))\n",
    "\n"
   ]
  },
  {
   "cell_type": "code",
   "execution_count": 49,
   "metadata": {},
   "outputs": [
    {
     "data": {
      "image/png": "[encoded data removed]",
      "text/plain": [
       "<Figure size 640x480 with 1 Axes>"
      ]
     },
     "metadata": {},
     "output_type": "display_data"
    }
   ],
   "source": [
    "plt.figure()\n",
    "plt.hist(LbarpKp1_mass[good_b], bins=100, range=(2600, 3600))\n",
    "plt.title(r\"Invariant mass of $\\Lambda$̄  p K+ (First K+)\")\n",
    "plt.xlabel(r\" $\\Lambda$ p K+ Invariant mass\")\n",
    "plt.ylabel(\"Entries per 10 MeV\")\n",
    "plt.show()\n"
   ]
  },
  {
   "cell_type": "code",
   "execution_count": 42,
   "metadata": {},
   "outputs": [],
   "source": [
    "# Now lets add the Λ₋pK₁⁺ system and define a four momentum for it (Second K+)\n",
    "LbarpKp2_4vec = L0_4vec + p_4vec + K2_4vec\n",
    "LbarpKp2_mass = np.sqrt(np.square(LbarpKp2_4vec.t) - np.square(LbarpKp2_4vec.x) - np.square(LbarpKp2_4vec.y) - np.square(LbarpKp2_4vec.z))"
   ]
  },
  {
   "cell_type": "code",
   "execution_count": 50,
   "metadata": {},
   "outputs": [
    {
     "data": {
      "image/png": "[encoded data removed]",
      "text/plain": [
       "<Figure size 640x480 with 1 Axes>"
      ]
     },
     "metadata": {},
     "output_type": "display_data"
    }
   ],
   "source": [
    "plt.figure()\n",
    "plt.hist(LbarpKp2_mass[good_b], bins=100, range=(2600, 3600))\n",
    "plt.title(r\"Invariant mass of $\\Lambda$̄  p K+ (Second K+)\")\n",
    "plt.xlabel(r\" $\\Lambda$̄   p K+ Invariant mass\")\n",
    "plt.ylabel(\"Entries per 10 MeV\")\n",
    "plt.show()\n"
   ]
  },
  {
   "cell_type": "markdown",
   "metadata": {},
   "source": [
    "#### Λ K⁺ K⁺"
   ]
  },
  {
   "cell_type": "code",
   "execution_count": 53,
   "metadata": {},
   "outputs": [],
   "source": [
    "# Lets define the four vector for the Λ K+ K+ system \n",
    "L0KpKp_4vec = L0_4vec + K1_4vec + K2_4vec\n",
    "L0KpKp_mass = np.sqrt(np.square(L0KpKp_4vec.t) - np.square(L0KpKp_4vec.x) - np.square(L0KpKp_4vec.y) - np.square(L0KpKp_4vec.z))"
   ]
  },
  {
   "cell_type": "code",
   "execution_count": 58,
   "metadata": {},
   "outputs": [
    {
     "data": {
      "image/png": "[encoded data removed]",
      "text/plain": [
       "<Figure size 640x480 with 1 Axes>"
      ]
     },
     "metadata": {},
     "output_type": "display_data"
    }
   ],
   "source": [
    "plt.figure()\n",
    "plt.hist(L0KpKp_mass[good_b], bins=100, range=(3250, 4250))\n",
    "plt.title(r\"Invariant mass of $\\Lambda$̄  K+ K+ \")\n",
    "plt.xlabel(r\" $\\Lambda$̄  K+ K+ Invariant mass\")\n",
    "plt.ylabel(\"Entries per 10 MeV\")\n",
    "plt.show()\n"
   ]
  },
  {
   "cell_type": "markdown",
   "metadata": {},
   "source": [
    "#### p K⁺ K⁺"
   ]
  },
  {
   "cell_type": "code",
   "execution_count": 59,
   "metadata": {},
   "outputs": [],
   "source": [
    "# Lets define the four vector for the  p K+ K+ system\n",
    "pKpKp_4vec = p_4vec + K1_4vec + K2_4vec\n",
    "pKpKp_mass = np.sqrt(np.square(pKpKp_4vec.t) - np.square(pKpKp_4vec.x) - np.square(pKpKp_4vec.y) - np.square(pKpKp_4vec.z))"
   ]
  },
  {
   "cell_type": "code",
   "execution_count": 64,
   "metadata": {},
   "outputs": [
    {
     "data": {
      "image/png": "[encoded data removed]",
      "text/plain": [
       "<Figure size 640x480 with 1 Axes>"
      ]
     },
     "metadata": {},
     "output_type": "display_data"
    }
   ],
   "source": [
    "plt.figure()\n",
    "plt.hist(pKpKp_mass[good_b], bins=100, range=(2200, 4200))\n",
    "plt.title(r\"Invariant mass of p K+ K+ \")\n",
    "plt.xlabel(r\" p K+ K+ Invariant mass\")\n",
    "plt.ylabel(\"Entries per 20 MeV\")\n",
    "plt.show()\n"
   ]
  }
 ],
 "metadata": {
  "kernelspec": {
   "display_name": "bphysics",
   "language": "python",
   "name": "python3"
  },
  "language_info": {
   "codemirror_mode": {
    "name": "ipython",
    "version": 3
   },
   "file_extension": ".py",
   "mimetype": "text/x-python",
   "name": "python",
   "nbconvert_exporter": "python",
   "pygments_lexer": "ipython3",
   "version": "3.10.12"
  },
  "orig_nbformat": 4
 },
 "nbformat": 4,
 "nbformat_minor": 2
}
