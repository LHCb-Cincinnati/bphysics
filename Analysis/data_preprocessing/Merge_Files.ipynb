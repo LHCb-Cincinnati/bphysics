{
 "cells": [
  {
   "cell_type": "code",
   "execution_count": 13,
   "id": "ae046a77",
   "metadata": {},
   "outputs": [],
   "source": [
    "import os\n",
    "import subprocess\n",
    "import uproot\n",
    "import numpy as np\n",
    "import awkward as ak\n",
    "import gc\n",
    "from multiprocessing import Pool, cpu_count\n",
    "from tqdm import tqdm"
   ]
  },
  {
   "cell_type": "code",
   "execution_count": 14,
   "id": "6ac2d0d0",
   "metadata": {},
   "outputs": [],
   "source": [
    "def concatenate_file(args):\n",
    "    file_path, branches, decay_tree_line = args\n",
    "    if not os.path.exists(file_path):\n",
    "        print(f\"File not found: {file_path}\")\n",
    "        return None\n",
    "\n",
    "    try:\n",
    "        fname = f\"{file_path}:{decay_tree_line}/DecayTree\"\n",
    "        return uproot.concatenate(fname, branches)\n",
    "    except Exception as e:\n",
    "        print(f\"Error processing file {file_path}: {e}\")\n",
    "        return None\n"
   ]
  },
  {
   "cell_type": "code",
   "execution_count": 15,
   "id": "440de840",
   "metadata": {},
   "outputs": [],
   "source": [
    "def concatenate_files(file_paths, branches, decay_tree_line, use_parallel):\n",
    "    \"\"\"\n",
    "    Concatenates files either in parallel or serially based on `use_parallel`.\n",
    "\n",
    "    :param file_paths: List of file paths to concatenate.\n",
    "    :param branches: Branches to read.\n",
    "    :param decay_tree_line: Decay tree line name.\n",
    "    :param use_parallel: Boolean to determine if parallel processing should be used.\n",
    "    :return: Concatenated array.\n",
    "    \"\"\"\n",
    "    if use_parallel:\n",
    "        with Pool(cpu_count()) as pool:\n",
    "            results = list(tqdm(pool.imap(concatenate_file, [(path, branches, decay_tree_line) for path in file_paths]),\n",
    "                                total=len(file_paths), desc=\"Concatenating files\"))\n",
    "    else:\n",
    "        results = [concatenate_file((path, branches, decay_tree_line)) for path in tqdm(file_paths, desc=\"Concatenating files\")]\n",
    "\n",
    "    # Filter out None results and concatenate\n",
    "    arrays = [arr for arr in results if arr is not None]\n",
    "    return ak.concatenate(arrays, axis=0) if arrays else None"
   ]
  },
  {
   "cell_type": "code",
   "execution_count": 16,
   "id": "607df4e8",
   "metadata": {},
   "outputs": [],
   "source": [
    "def parallel_concatenate_files(file_paths, branches, decay_tree_line):\n",
    "    \"\"\"\n",
    "    Concatenates files in parallel using multiprocessing.\n",
    "    \"\"\"\n",
    "    with Pool(cpu_count()) as pool:\n",
    "        # Wrap 'tqdm' around the 'pool.imap' for a progress bar\n",
    "        results = list(tqdm(pool.imap(concatenate_file, [(path, branches, decay_tree_line) for path in file_paths]),\n",
    "                            total=len(file_paths), desc=\"Concatenating files\"))\n",
    "\n",
    "    # Filter out None results and concatenate\n",
    "    arrays = [arr for arr in results if arr is not None]\n",
    "    return ak.concatenate(arrays, axis=0) if arrays else None"
   ]
  },
  {
   "cell_type": "code",
   "execution_count": 17,
   "id": "540c0738",
   "metadata": {},
   "outputs": [],
   "source": [
    "def get_file_paths_for_config(base_dir, decay_tree, year, magnet, ll_dd):\n",
    "    \"\"\"\n",
    "    Generate a list of file paths for a specific configuration.\n",
    "\n",
    "    :param base_dir: Base directory containing the data.\n",
    "    :param decay_tree: Name of the decay tree.\n",
    "    :param year: Specific year.\n",
    "    :param magnet: Magnet configuration ('MagUp', 'MagDown').\n",
    "    :param ll_dd: 'LL' or 'DD'.\n",
    "    :return: List of file paths.\n",
    "    \"\"\"\n",
    "    dir_path = os.path.join(base_dir, decay_tree, year, magnet, ll_dd)\n",
    "    return [os.path.join(dir_path, f) for f in os.listdir(dir_path) if f.endswith('.root')]"
   ]
  },
  {
   "cell_type": "code",
   "execution_count": 18,
   "id": "0fe8ff01",
   "metadata": {},
   "outputs": [],
   "source": [
    "def process_and_save_files_for_config(input_files, decay_tree_line, output_file, use_parallel):\n",
    "    \"\"\"\n",
    "    Process and save files for a specific configuration.\n",
    "\n",
    "    :param input_files: List of .root files to process.\n",
    "    :param decay_tree_line: Decay tree line name.\n",
    "    :param output_file: Output file path.\n",
    "    :param use_parallel: Boolean to determine if parallel processing should be used.\n",
    "    \"\"\"\n",
    "    if not input_files:\n",
    "        print(f\"No files to process for {output_file}\")\n",
    "        return\n",
    "\n",
    "    branches_to_read = ['Bu_MM', 'Bu_MMERR', 'Bu_ID', 'Bu_P', 'Bu_PT', 'Bu_PE', 'Bu_PX', 'Bu_PY', 'Bu_PZ', \n",
    "                    'h1_P', 'h1_PT','h1_PE', 'h1_PX', 'h1_PY', 'h1_PZ', \n",
    "                    'h1_ID', 'h1_TRACK_Type', 'h1_IPCHI2_OWNPV', 'h1_PIDK', 'h1_PIDp',\n",
    "                    'h2_P', 'h2_PT', 'h2_PE', 'h2_PX','h2_PY', 'h2_PZ', \n",
    "                    'h2_ID', 'h2_TRACK_Type', 'h2_IPCHI2_OWNPV', 'h2_PIDK', 'h2_PIDp',\n",
    "                    'p_P', 'p_PT', 'p_PE', 'p_PX', 'p_PY', 'p_PZ', \n",
    "                    'p_ID', 'p_TRACK_Type', 'p_IPCHI2_OWNPV', 'p_PIDK', 'p_PIDp',\n",
    "                    'Lp_P', 'Lp_PT', 'Lp_PE', 'Lp_PX', 'Lp_PY', 'Lp_PZ', 'Lp_ID', 'Lp_TRACK_Type', 'Lp_PIDK', 'Lp_PIDp', \n",
    "                    'L0_P',\n",
    "                    'L0_PT', 'L0_PE', 'L0_PX', 'L0_PY', 'L0_PZ', 'L0_ID', 'Lpi_P', 'Lpi_PT', 'Lpi_PE', 'Lpi_PX', 'Lpi_PY', \n",
    "                    'Lpi_PZ', 'Lpi_ID', 'Lpi_TRACK_Type', 'p_ProbNNp', 'Lpi_ProbNNpi', 'Lp_ProbNNp', 'h1_ProbNNk', 'h2_ProbNNk',\n",
    "                    'Bu_FDCHI2_OWNPV', 'Bu_IPCHI2_OWNPV', 'Bu_ENDVERTEX_X', 'Bu_ENDVERTEX_Y', 'Bu_ENDVERTEX_Z', 'Bu_ENDVERTEX_XERR', \n",
    "                    'Bu_ENDVERTEX_YERR', 'Bu_ENDVERTEX_ZERR', 'Bu_DTF_decayLength', 'Bu_DTF_decayLengthErr', 'Bu_DTF_ctau', \n",
    "                    'Bu_DTF_ctauErr', 'Bu_DTF_status', 'Bu_DTFL0_M', 'Bu_DTFL0_MERR', 'Bu_DTFL0_ctau', 'Bu_DTFL0_ctauErr', 'Bu_DTF_nPV',\n",
    "                    'Bu_DTF_chi2', 'Bu_DTF_nDOF', 'L0_ENDVERTEX_X', 'L0_ENDVERTEX_Y', 'L0_ENDVERTEX_Z', 'L0_ENDVERTEX_XERR', \n",
    "                    'L0_ENDVERTEX_YERR', 'L0_ENDVERTEX_ZERR', 'L0_MM', 'L0_OWNPV_Z', 'L0_OWNPV_ZERR', 'L0_FD_OWNPV', 'L0_FDCHI2_OWNPV',\n",
    "                    'Bu_L0Global_TIS', 'Bu_L0HadronDecision_TOS', 'Bu_Hlt1Global_TIS', 'Bu_Hlt1TrackMVADecision_TOS',\n",
    "                    'Bu_Hlt1TwoTrackMVADecision_TOS', 'Bu_Hlt2Topo2BodyDecision_TOS', 'Bu_Hlt2Topo3BodyDecision_TOS', 'Bu_Hlt2Topo4BodyDecision_TOS',\n",
    "                    'Bu_Hlt2Topo2BodyBBDTDecision_TOS', 'Bu_Hlt2Topo3BodyBBDTDecision_TOS', 'Bu_Hlt2Topo4BodyBBDTDecision_TOS',\n",
    "                    'h1_PIDK', 'h1_PIDp', 'h2_PIDK', 'h2_PIDp', 'p_PIDK', 'p_PIDp',\n",
    "                    'Bu_DTFL0_chi2', 'Bu_DTFL0_nDOF', 'Bu_DTFL0_status',\n",
    "                    'nCandidate','totCandidates', 'EventInSequence', 'runNumber', 'eventNumber','GpsTime',\n",
    "                    'Polarity', \n",
    "                    'Bu_DTFL0_Lambda0_M', 'Bu_DTFL0_Lambda0_ctau', 'Bu_DTFL0_Lambda0_ctauErr',\n",
    "                    'Bu_DTFL0_Lambda0_decayLength', 'Bu_DTFL0_Lambda0_decayLengthErr',\n",
    "                    'Lp_ProbNNghost', 'Lpi_ProbNNghost', 'p_ProbNNghost', 'h1_ProbNNghost', 'h2_ProbNNghost',\n",
    "                       ]\n",
    "\n",
    "    concatenated_array = concatenate_files(input_files, branches_to_read, decay_tree_line, use_parallel)\n",
    "\n",
    "    if concatenated_array is None or len(concatenated_array) == 0:\n",
    "        print(f\"No data to process for {output_file}\")\n",
    "        return\n",
    "\n",
    "    processed_data = process_data(concatenated_array)\n",
    "    save_to_root(output_file, processed_data)\n",
    "\n",
    "    del concatenated_array\n",
    "    gc.collect()"
   ]
  },
  {
   "cell_type": "code",
   "execution_count": 19,
   "id": "036f2905",
   "metadata": {},
   "outputs": [],
   "source": [
    "def process_data(arrs):\n",
    "        ## K+ in B+ --> Lambda_bar,p,K+,K-\n",
    "        h1_P   = arrs['h1_P']\n",
    "        h1_PT  = arrs['h1_PT']\n",
    "        h1_PE  = arrs['h1_PE']\n",
    "        h1_PX  = arrs['h1_PX']\n",
    "        h1_PY  = arrs['h1_PY']\n",
    "        h1_PZ  = arrs['h1_PZ']\n",
    "        h1_ID  = arrs[\"h1_ID\"]\n",
    "        h1_PIDK          = arrs['h1_PIDK']\n",
    "        h1_PIDp          = arrs['h1_PIDp']\n",
    "        h1_ProbNNk       = arrs[\"h1_ProbNNk\"]\n",
    "        h1_TRACK_Type    = arrs[\"h1_TRACK_Type\"]\n",
    "        h1_IPCHI2_OWNPV  = arrs['h1_IPCHI2_OWNPV']\n",
    "        h1_ProbNNghost   = arrs['h1_ProbNNghost']\n",
    "        ## K- in B+ --> Lambda_bar,p,K+,K-\n",
    "\n",
    "        h2_P   = arrs['h2_P']\n",
    "        h2_PT  = arrs['h2_PT']\n",
    "        h2_PE  = arrs['h2_PE']\n",
    "        h2_PX  = arrs['h2_PX']\n",
    "        h2_PY  = arrs['h2_PY']\n",
    "        h2_PZ  = arrs['h2_PZ']\n",
    "        h2_ID  = arrs[\"h2_ID\"]\n",
    "        h2_PIDK         = arrs['h2_PIDK']\n",
    "        h2_PIDp         = arrs['h2_PIDp']\n",
    "        h2_ProbNNk      = arrs[\"h2_ProbNNk\"]\n",
    "        h2_TRACK_Type   = arrs[\"h2_TRACK_Type\"]\n",
    "        h2_IPCHI2_OWNPV = arrs['h2_IPCHI2_OWNPV']\n",
    "        h2_ProbNNghost  = arrs['h2_ProbNNghost']\n",
    "        ## p in B+ --> Lambda_bar,p,K+,K-\n",
    "\n",
    "        p_P   = arrs['p_P']\n",
    "        p_PT  = arrs['p_PT']\n",
    "        p_PE  = arrs['p_PE']\n",
    "        p_PX  = arrs['p_PX']\n",
    "        p_PY  = arrs['p_PY']\n",
    "        p_PZ  = arrs['p_PZ']\n",
    "        p_ID  = arrs[\"p_ID\"]\n",
    "        p_PIDK         = arrs['p_PIDK']\n",
    "        p_PIDp         = arrs['p_PIDp']\n",
    "        p_TRACK_Type   = arrs[\"p_TRACK_Type\"]\n",
    "        p_ProbNNp      = arrs['p_ProbNNp']\n",
    "        p_IPCHI2_OWNPV = arrs['p_IPCHI2_OWNPV']\n",
    "        p_ProbNNghost  = arrs['p_ProbNNghost']        \n",
    "        ## proton in the Lambda_bar in B+ --> Lambda_bar,p,K+,K-\n",
    "\n",
    "        Lp_P   = arrs['Lp_P']\n",
    "        Lp_PT  = arrs['Lp_PT']\n",
    "        Lp_PE  = arrs['Lp_PE']\n",
    "        Lp_PX  = arrs['Lp_PX']\n",
    "        Lp_PY  = arrs['Lp_PY']\n",
    "        Lp_PZ  = arrs['Lp_PZ']\n",
    "        Lp_ID  = arrs[\"Lp_ID\"]\n",
    "        Lp_PIDK        = arrs['Lp_PIDK']\n",
    "        Lp_PIDp        = arrs['Lp_PIDp']\n",
    "        Lp_TRACK_Type  = arrs[\"Lp_TRACK_Type\"]\n",
    "        Lp_ProbNNp     = arrs['Lp_ProbNNp']\n",
    "        Lp_ProbNNghost = arrs['Lp_ProbNNghost']\n",
    "        LL = (3 == Lp_TRACK_Type)\n",
    "        DD = (5 == Lp_TRACK_Type)        \n",
    "        ## pion in the Lambda_bar in B+ --> Lambda_bar,p,K+,K-\n",
    "\n",
    "        Lpi_P   = arrs['Lpi_P']\n",
    "        Lpi_PT  = arrs['Lpi_PT']\n",
    "        Lpi_PE  = arrs['Lpi_PE']\n",
    "        Lpi_PX  = arrs['Lpi_PX']\n",
    "        Lpi_PY  = arrs['Lpi_PY']\n",
    "        Lpi_PZ  = arrs['Lpi_PZ']\n",
    "        Lpi_ID  = arrs[\"Lpi_ID\"]\n",
    "        Lpi_TRACK_Type  = arrs[\"Lpi_TRACK_Type\"]\n",
    "        Lpi_ProbNNpi    = arrs['Lpi_ProbNNpi']\n",
    "        Lpi_ProbNNghost = arrs['Lpi_ProbNNghost']\n",
    "        \n",
    "        \n",
    "        ## the Lambda_bar in B+ --> Lambda_bar,p,K+,K-\n",
    "        L0_P   = arrs['L0_P']\n",
    "        L0_PT  = arrs['L0_PT']\n",
    "        L0_PE  = arrs['L0_PE']\n",
    "        L0_PX  = arrs['L0_PX']\n",
    "        L0_PY  = arrs['L0_PY']\n",
    "        L0_PZ  = arrs['L0_PZ']\n",
    "        L0_ID  = arrs[\"L0_ID\"]\n",
    "        L0_MM  = arrs['L0_MM']\n",
    "        ##L0_DOCA12 = arrs[\"L0_DOCA12\"]\n",
    "        Bu_FDCHI2_OWNPV = arrs['Bu_FDCHI2_OWNPV']\n",
    "        L0_ENDVERTEX_X    = arrs[\"L0_ENDVERTEX_X\"]\n",
    "        L0_ENDVERTEX_Y    = arrs[\"L0_ENDVERTEX_Y\"]\n",
    "        L0_ENDVERTEX_Z    = arrs[\"L0_ENDVERTEX_Z\"]\n",
    "        L0_ENDVERTEX_XERR = arrs[\"L0_ENDVERTEX_XERR\"]\n",
    "        L0_ENDVERTEX_YERR = arrs[\"L0_ENDVERTEX_YERR\"]\n",
    "        L0_ENDVERTEX_ZERR = arrs[\"L0_ENDVERTEX_ZERR\"]\n",
    "        L0_OWNPV_Z = arrs[\"L0_OWNPV_Z\"]\n",
    "        L0_OWNPV_ZERR = arrs[\"L0_OWNPV_ZERR\"]\n",
    "\n",
    "        L0_FD_OWNPV = arrs[\"L0_FD_OWNPV\"]\n",
    "        L0_FDCHI2_OWNPV = arrs[\"L0_FDCHI2_OWNPV\"]        \n",
    "        Bu_ENDVERTEX_X     = arrs[\"Bu_ENDVERTEX_X\"]\n",
    "        Bu_ENDVERTEX_Y     = arrs[\"Bu_ENDVERTEX_Y\"]\n",
    "        Bu_ENDVERTEX_Z     = arrs[\"Bu_ENDVERTEX_Z\"]\n",
    "        Bu_ENDVERTEX_XERR  = arrs[\"Bu_ENDVERTEX_XERR\"]\n",
    "        Bu_ENDVERTEX_YERR  = arrs[\"Bu_ENDVERTEX_YERR\"]\n",
    "        Bu_ENDVERTEX_ZERR  = arrs[\"Bu_ENDVERTEX_YERR\"]\n",
    "        Bu_IPCHI2_OWNPV    = arrs[\"Bu_IPCHI2_OWNPV\"]\n",
    "        Bu_MM              = arrs['Bu_MM']\n",
    "        Bu_MMERR           = arrs['Bu_MMERR']\n",
    "        Bu_ID              = arrs['Bu_ID']\n",
    "        Bu_P               = arrs['Bu_P']\n",
    "        Bu_PT              = arrs['Bu_PT']\n",
    "        Bu_PE              = arrs['Bu_PE']\n",
    "        Bu_PX              = arrs['Bu_PX']\n",
    "        Bu_PY              = arrs['Bu_PY']\n",
    "        Bu_PZ              = arrs['Bu_PZ']  \n",
    "        Bu_DTF_nPV            = arrs['Bu_DTF_nPV'] ## not indexed\n",
    "\n",
    "        Bu_DTF_decayLength    = arrs['Bu_DTF_decayLength']\n",
    "        Bu_DTF_decayLength    = Bu_DTF_decayLength[0:,0]\n",
    "\n",
    "        Bu_DTF_decayLengthErr = arrs['Bu_DTF_decayLengthErr']\n",
    "        Bu_DTF_decayLengthErr = Bu_DTF_decayLengthErr[0:,0]\n",
    "\n",
    "        Bu_DTF_ctau           = arrs['Bu_DTF_ctau']\n",
    "        Bu_DTF_ctau           = Bu_DTF_ctau[0:,0]\n",
    "\n",
    "        Bu_DTF_ctauErr        = arrs['Bu_DTF_ctauErr']\n",
    "        Bu_DTF_ctauErr        = Bu_DTF_ctauErr[0:,0]\n",
    "\n",
    "        Bu_DTF_status         = arrs['Bu_DTF_status']\n",
    "        Bu_DTF_status         = Bu_DTF_status[0:,0]\n",
    "\n",
    "        Bu_DTF_chi2           = arrs['Bu_DTF_chi2']\n",
    "        Bu_DTF_chi2           = Bu_DTF_chi2[0:,0]\n",
    "\n",
    "        Bu_DTF_nDOF           = arrs['Bu_DTF_nDOF']\n",
    "        Bu_DTF_nDOF           = Bu_DTF_nDOF[0:,0]\n",
    "\n",
    "        Bu_DTFL0_M            = arrs['Bu_DTFL0_M']\n",
    "        Bu_DTFL0_M            = Bu_DTFL0_M[0:,0]\n",
    "\n",
    "        Bu_DTFL0_MERR         = arrs['Bu_DTFL0_MERR']\n",
    "        Bu_DTFL0_MERR         = Bu_DTFL0_MERR[0:,0]\n",
    "\n",
    "        Bu_DTFL0_ctau         = arrs['Bu_DTFL0_ctau']\n",
    "        Bu_DTFL0_ctau         = Bu_DTFL0_ctau[0:,0]\n",
    "\n",
    "        Bu_DTFL0_ctauErr      = arrs['Bu_DTFL0_ctauErr']\n",
    "        Bu_DTFL0_ctauErr      = Bu_DTFL0_ctauErr[0:,0]\n",
    "\n",
    "        Bu_DTFL0_chi2         = arrs['Bu_DTFL0_chi2']\n",
    "        Bu_DTFL0_chi2         = Bu_DTFL0_chi2[0:,0]\n",
    "\n",
    "        Bu_DTFL0_nDOF         = arrs['Bu_DTFL0_nDOF']\n",
    "        Bu_DTFL0_nDOF         = Bu_DTFL0_nDOF[0:,0]\n",
    "\n",
    "        Bu_DTFL0_status       = arrs['Bu_DTFL0_status']\n",
    "        Bu_DTFL0_status       = Bu_DTFL0_status[0:,0]\n",
    "\n",
    "        Bu_DTFL0_Lambda0_M    = arrs['Bu_DTFL0_Lambda0_M']\n",
    "        Bu_DTFL0_Lambda0_M    = Bu_DTFL0_Lambda0_M[0:,0]\n",
    "\n",
    "        Bu_DTFL0_Lambda0_ctau = arrs['Bu_DTFL0_Lambda0_ctau']\n",
    "        Bu_DTFL0_Lambda0_ctau = Bu_DTFL0_Lambda0_ctau[0:,0]\n",
    "\n",
    "        Bu_DTFL0_Lambda0_ctauErr = arrs['Bu_DTFL0_Lambda0_ctauErr']\n",
    "        Bu_DTFL0_Lambda0_ctauErr = Bu_DTFL0_Lambda0_ctauErr[0:,0]\n",
    "\n",
    "        Bu_DTFL0_Lambda0_decayLength = arrs['Bu_DTFL0_Lambda0_decayLength']\n",
    "        Bu_DTFL0_Lambda0_decayLength = Bu_DTFL0_Lambda0_decayLength[0:,0]\n",
    "\n",
    "        Bu_DTFL0_Lambda0_decayLengthErr = arrs['Bu_DTFL0_Lambda0_decayLengthErr']\n",
    "        Bu_DTFL0_Lambda0_decayLengthErr = Bu_DTFL0_Lambda0_decayLengthErr[0:,0]\n",
    "\n",
    "        Bu_L0Global_TIS                        = arrs['Bu_L0Global_TIS']\n",
    "        Bu_L0HadronDecision_TOS                = arrs['Bu_L0HadronDecision_TOS']\n",
    "        Bu_Hlt1Global_TIS                      = arrs['Bu_Hlt1Global_TIS']\n",
    "        Bu_Hlt1TrackMVADecision_TOS            = arrs['Bu_Hlt1TrackMVADecision_TOS']\n",
    "        Bu_Hlt1TwoTrackMVADecision_TOS         = arrs['Bu_Hlt1TwoTrackMVADecision_TOS']\n",
    "        Bu_Hlt2Topo2BodyDecision_TOS           = arrs['Bu_Hlt2Topo2BodyDecision_TOS']\n",
    "        Bu_Hlt2Topo3BodyDecision_TOS           = arrs['Bu_Hlt2Topo3BodyDecision_TOS']\n",
    "        Bu_Hlt2Topo4BodyDecision_TOS           = arrs['Bu_Hlt2Topo4BodyDecision_TOS']\n",
    "        Bu_Hlt2Topo2BodyBBDTDecision_TOS       = arrs['Bu_Hlt2Topo2BodyBBDTDecision_TOS']\n",
    "        Bu_Hlt2Topo3BodyBBDTDecision_TOS       = arrs['Bu_Hlt2Topo3BodyBBDTDecision_TOS']\n",
    "        Bu_Hlt2Topo4BodyBBDTDecision_TOS       = arrs['Bu_Hlt2Topo4BodyBBDTDecision_TOS']\n",
    "        nCandidate                             = arrs['nCandidate']\n",
    "        totCandidates                          = arrs['totCandidates']\n",
    "        EventInSequence                        = arrs['EventInSequence']\n",
    "        runNumber                              = arrs['runNumber']\n",
    "        eventNumber                            = arrs['eventNumber']\n",
    "        GpsTime                                = arrs['GpsTime']\n",
    "        Polarity                               = arrs['Polarity']        \n",
    "\n",
    "    # Apply any transformations or calculations here\n",
    "        Delta_Z = L0_ENDVERTEX_Z - Bu_ENDVERTEX_Z\n",
    "        Delta_X = L0_ENDVERTEX_X - Bu_ENDVERTEX_X\n",
    "        Delta_Y = L0_ENDVERTEX_Y - Bu_ENDVERTEX_Y\n",
    "        Delta_X_ERR = np.sqrt(np.square(Bu_ENDVERTEX_XERR)+np.square(L0_ENDVERTEX_XERR))\n",
    "        Delta_Y_ERR = np.sqrt(np.square(Bu_ENDVERTEX_YERR)+np.square(L0_ENDVERTEX_YERR))\n",
    "        Delta_Z_ERR = np.sqrt(np.square(Bu_ENDVERTEX_ZERR)+np.square(L0_ENDVERTEX_ZERR))\n",
    "\n",
    "        delta_x = np.divide(Delta_X,Delta_X_ERR)\n",
    "        delta_y = np.divide(Delta_Y,Delta_Y_ERR)\n",
    "        delta_z = np.divide(Delta_Z,Delta_Z_ERR)\n",
    "        L0_FD_CHISQ = np.square(delta_x) + np.square(delta_y) + np.square(delta_z)     \n",
    "        \n",
    "        \n",
    "        # Apply pre-selection\n",
    "        pre_select = (arrs['Bu_MM'] > 4500)\n",
    "\n",
    "    \n",
    "        processed_data = {'Bu_MM': Bu_MM[pre_select],\n",
    "                            'Bu_MMERR': Bu_MMERR[pre_select],\n",
    "                            'Bu_ID':  Bu_ID[pre_select],\n",
    "                            'Bu_P':   Bu_P[pre_select],\n",
    "                            'Bu_PT':  Bu_PT[pre_select],\n",
    "                            'Bu_PE':  Bu_PE[pre_select],\n",
    "                            'Bu_PX':  Bu_PX[pre_select],\n",
    "                            'Bu_PY':  Bu_PY[pre_select],\n",
    "                            'Bu_PZ':  Bu_PZ[pre_select],\n",
    "                            'h1_P':  h1_P[pre_select],\n",
    "                            'h1_PT': h1_PT[pre_select], \n",
    "                            'h1_PE': h1_PE[pre_select], \n",
    "                            'h1_PX': h1_PX[pre_select], \n",
    "                            'h1_PY': h1_PY[pre_select], \n",
    "                            'h1_PZ': h1_PZ[pre_select], \n",
    "                            'h1_ID': h1_ID[pre_select], \n",
    "                            'h1_TRACK_Type': h1_TRACK_Type[pre_select],\n",
    "                            'h1_IPCHI2_OWNPV': h1_IPCHI2_OWNPV[pre_select],\n",
    "                            'h1_PIDK':  h1_PIDK[pre_select],  \n",
    "                            'h1_PIDp':  h1_PIDp[pre_select],\n",
    "                            'h2_P':  h2_P[pre_select], \n",
    "                            'h2_PT': h2_PT[pre_select], \n",
    "                            'h2_PE': h2_PE[pre_select],\n",
    "                            'h2_PX': h2_PX[pre_select],\n",
    "                            'h2_PY': h2_PY[pre_select], \n",
    "                            'h2_PZ': h2_PZ[pre_select], \n",
    "                            'h2_ID': h2_ID[pre_select], \n",
    "                            'h2_TRACK_Type': h2_TRACK_Type[pre_select],\n",
    "                            'h2_IPCHI2_OWNPV': h2_IPCHI2_OWNPV[pre_select],\n",
    "                            'h2_PIDK':  h2_PIDK[pre_select],  \n",
    "                            'h2_PIDp':  h2_PIDp[pre_select],\n",
    "                            'p_P':  p_P[pre_select],\n",
    "                            'p_PT': p_PT[pre_select], \n",
    "                            'p_PE': p_PE[pre_select], \n",
    "                            'p_PX': p_PX[pre_select], \n",
    "                            'p_PY': p_PY[pre_select], \n",
    "                            'p_PZ': p_PZ[pre_select], \n",
    "                            'p_ID': p_ID[pre_select], \n",
    "                            'p_TRACK_Type': p_TRACK_Type[pre_select],\n",
    "                            'p_IPCHI2_OWNPV': p_IPCHI2_OWNPV[pre_select],\n",
    "                            'p_PIDK':  p_PIDK[pre_select],  \n",
    "                            'p_PIDp':  p_PIDp[pre_select],\n",
    "                            'Lp_P':  Lp_P[pre_select], \n",
    "                            'Lp_PT': Lp_PT[pre_select], \n",
    "                            'Lp_PE': Lp_PE[pre_select],\n",
    "                            'Lp_PX': Lp_PX[pre_select],\n",
    "                            'Lp_PY': Lp_PY[pre_select], \n",
    "                            'Lp_PZ': Lp_PZ[pre_select],\n",
    "                            'Lp_ID': Lp_ID[pre_select],\n",
    "                            'Lp_TRACK_Type': Lp_TRACK_Type[pre_select],\n",
    "                            'Lp_PIDK':  Lp_PIDK[pre_select],  \n",
    "                            'Lp_PIDp':  Lp_PIDp[pre_select],\n",
    "                            'L0_P':  L0_P[pre_select], \n",
    "                            'L0_PT': L0_PT[pre_select], \n",
    "                            'L0_PE': L0_PE[pre_select],\n",
    "                            'L0_PX': L0_PX[pre_select],\n",
    "                            'L0_PY': L0_PY[pre_select], \n",
    "                            'L0_PZ': L0_PZ[pre_select],\n",
    "                            'L0_ID': L0_ID[pre_select], \n",
    "                            'Lpi_P':  Lpi_P[pre_select], \n",
    "                            'Lpi_PT': Lpi_PT[pre_select], \n",
    "                            'Lpi_PE': Lpi_PE[pre_select],\n",
    "                            'Lpi_PX': Lpi_PX[pre_select],\n",
    "                            'Lpi_PY': Lpi_PY[pre_select], \n",
    "                            'Lpi_PZ': Lpi_PZ[pre_select], \n",
    "                            'Lpi_ID': Lpi_ID[pre_select], \n",
    "                            'Lpi_TRACK_Type': Lpi_TRACK_Type[pre_select],\n",
    "                            'p_ProbNNp':      p_ProbNNp[pre_select],    \n",
    "                            'Lpi_ProbNNpi':   Lpi_ProbNNpi[pre_select],   \n",
    "                            'Lp_ProbNNp':     Lp_ProbNNp[pre_select],\n",
    "                            'h1_ProbNNk':     h1_ProbNNk[pre_select],    \n",
    "                            'h2_ProbNNk':     h2_ProbNNk[pre_select],\n",
    "                            'p_ProbNNghost':      p_ProbNNghost[pre_select],    \n",
    "                            'Lpi_ProbNNghost':     Lpi_ProbNNghost[pre_select],   \n",
    "                            'Lp_ProbNNghost':      Lp_ProbNNghost[pre_select],\n",
    "                            'h1_ProbNNghost':      h1_ProbNNghost[pre_select],    \n",
    "                            'h2_ProbNNghost':      h2_ProbNNghost[pre_select],\n",
    "                            'Bu_FDCHI2_OWNPV':         Bu_FDCHI2_OWNPV[pre_select], \n",
    "                            'Bu_IPCHI2_OWNPV':         Bu_IPCHI2_OWNPV[pre_select],\n",
    "                            'Bu_ENDVERTEX_X':          Bu_ENDVERTEX_X[pre_select], \n",
    "                            'Bu_ENDVERTEX_Y':          Bu_ENDVERTEX_Y[pre_select], \n",
    "                            'Bu_ENDVERTEX_Z':          Bu_ENDVERTEX_Z[pre_select],\n",
    "                            'Bu_ENDVERTEX_XERR':       Bu_ENDVERTEX_XERR[pre_select], \n",
    "                            'Bu_ENDVERTEX_YERR':       Bu_ENDVERTEX_YERR[pre_select], \n",
    "                            'Bu_ENDVERTEX_ZERR':       Bu_ENDVERTEX_ZERR[pre_select],\n",
    "                            'Bu_DTF_decayLength':      Bu_DTF_decayLength[pre_select],\n",
    "                            'Bu_DTF_decayLengthErr':   Bu_DTF_decayLengthErr[pre_select],\n",
    "                            'Bu_DTF_ctau':             Bu_DTF_ctau[pre_select],\n",
    "                            'Bu_DTF_ctauErr':          Bu_DTF_ctauErr[pre_select],\n",
    "                            'Bu_DTF_status':           Bu_DTF_status[pre_select],\n",
    "                            'Bu_DTF_nPV':              Bu_DTF_nPV[pre_select],\n",
    "                            'Bu_DTF_chi2':             Bu_DTF_chi2[pre_select],\n",
    "                            'Bu_DTF_nDOF':             Bu_DTF_nDOF[pre_select],\n",
    "                            'Bu_DTFL0_M':              Bu_DTFL0_M[pre_select],\n",
    "                            'Bu_DTFL0_MERR':           Bu_DTFL0_MERR[pre_select],\n",
    "                            'Bu_DTFL0_ctau':           Bu_DTFL0_ctau[pre_select],\n",
    "                            'Bu_DTFL0_ctauErr':        Bu_DTFL0_ctauErr[pre_select],\n",
    "                            'Bu_DTFL0_chi2':           Bu_DTFL0_chi2[pre_select],\n",
    "                            'Bu_DTFL0_nDOF':           Bu_DTFL0_nDOF[pre_select],\n",
    "                            'Bu_DTFL0_status':         Bu_DTFL0_status[pre_select],\n",
    "                            'Bu_DTFL0_Lambda0_M':      Bu_DTFL0_Lambda0_M[pre_select],\n",
    "                            'Bu_DTFL0_Lambda0_ctau':   Bu_DTFL0_Lambda0_ctau[pre_select],\n",
    "                            'Bu_DTFL0_Lambda0_ctauErr':        Bu_DTFL0_Lambda0_ctauErr[pre_select],\n",
    "                            'Bu_DTFL0_Lambda0_decayLength':    Bu_DTFL0_Lambda0_decayLength[pre_select],\n",
    "                            'Bu_DTFL0_Lambda0_decayLengthErr': Bu_DTFL0_Lambda0_decayLengthErr[pre_select],\n",
    "                            'L0_ENDVERTEX_X':          L0_ENDVERTEX_X[pre_select], \n",
    "                            'L0_ENDVERTEX_Y':          L0_ENDVERTEX_Y[pre_select], \n",
    "                            'L0_ENDVERTEX_Z':          L0_ENDVERTEX_Z[pre_select],\n",
    "                            'L0_ENDVERTEX_XERR':       L0_ENDVERTEX_XERR[pre_select], \n",
    "                            'L0_ENDVERTEX_YERR':       L0_ENDVERTEX_YERR[pre_select], \n",
    "                            'L0_ENDVERTEX_ZERR':       L0_ENDVERTEX_ZERR[pre_select],\n",
    "                            'L0_MM':                   L0_MM[pre_select],\n",
    "                            'L0_OWNPV_Z':              L0_OWNPV_Z[pre_select],\n",
    "                            'L0_OWNPV_ZERR':           L0_OWNPV_ZERR[pre_select],\n",
    "                            'L0_FD_OWNPV':             L0_FD_OWNPV[pre_select],\n",
    "                            'L0_FDCHI2_OWNPV':         L0_FDCHI2_OWNPV[pre_select],\n",
    "                            'Bu_L0Global_TIS':         Bu_L0Global_TIS[pre_select],\n",
    "                            'Bu_L0HadronDecision_TOS': Bu_L0HadronDecision_TOS[pre_select],\n",
    "                            'Bu_Hlt1Global_TIS':       Bu_Hlt1Global_TIS[pre_select],\n",
    "                            'Bu_Hlt1TrackMVADecision_TOS':      Bu_Hlt1TrackMVADecision_TOS[pre_select],\n",
    "                            'Bu_Hlt1TwoTrackMVADecision_TOS':   Bu_Hlt1TwoTrackMVADecision_TOS[pre_select],\n",
    "                            'Bu_Hlt2Topo2BodyDecision_TOS':     Bu_Hlt2Topo2BodyDecision_TOS[pre_select],\n",
    "                            'Bu_Hlt2Topo3BodyDecision_TOS':     Bu_Hlt2Topo3BodyDecision_TOS[pre_select],\n",
    "                            'Bu_Hlt2Topo4BodyDecision_TOS':     Bu_Hlt2Topo4BodyDecision_TOS[pre_select],\n",
    "                            'Bu_Hlt2Topo2BodyBBDTDecision_TOS': Bu_Hlt2Topo2BodyBBDTDecision_TOS[pre_select],\n",
    "                            'Bu_Hlt2Topo3BodyBBDTDecision_TOS': Bu_Hlt2Topo3BodyBBDTDecision_TOS[pre_select],\n",
    "                            'Bu_Hlt2Topo4BodyBBDTDecision_TOS': Bu_Hlt2Topo4BodyBBDTDecision_TOS[pre_select],\n",
    "                            'nCandidate':                       nCandidate[pre_select],\n",
    "                            'totCandidates':                    totCandidates[pre_select],\n",
    "                            'EventInSequence':                  EventInSequence[pre_select],\n",
    "                            'eventNumber':                      eventNumber[pre_select],\n",
    "                            'runNumber':                        runNumber[pre_select],\n",
    "                            'GpsTime':                          GpsTime[pre_select],\n",
    "                            'Polarity':                         Polarity[pre_select],\n",
    "        }\n",
    "        return processed_data"
   ]
  },
  {
   "cell_type": "code",
   "execution_count": 20,
   "id": "74cca3a1",
   "metadata": {},
   "outputs": [],
   "source": [
    "def save_to_root(output_file, data):\n",
    "    with uproot.recreate(output_file) as outFile:\n",
    "        outFile[\"DecayTree\"] = data\n",
    "    print(\"Data saved to\", output_file)"
   ]
  },
  {
   "cell_type": "code",
   "execution_count": 23,
   "id": "cdd04368",
   "metadata": {},
   "outputs": [],
   "source": [
    "def main(base_dir, decay_trees, years, magnets, ll_or_dds, use_parallel):\n",
    "    for decay_tree in decay_trees:\n",
    "        for year in years:\n",
    "            for magnet in magnets:\n",
    "                for ll_dd in ll_or_dds:\n",
    "                    input_files = get_file_paths_for_config(base_dir, decay_tree, year, magnet, ll_dd)\n",
    "                    output_file = f\"{base_dir}/{decay_tree}_{year}_{magnet}_{ll_dd}.root\"\n",
    "                    print(f\"Processing: {decay_tree}, {year}, {magnet}, {ll_dd}\")\n",
    "                    process_and_save_files_for_config(input_files, f\"{decay_tree}_{ll_dd}\", output_file, use_parallel)\n",
    "                    \n",
    "                    # After processing each config, call garbage collector\n",
    "                    gc.collect()"
   ]
  },
  {
   "cell_type": "markdown",
   "id": "e200df85",
   "metadata": {},
   "source": [
    "## Run the Merge process"
   ]
  },
  {
   "cell_type": "markdown",
   "id": "8ed61d1e",
   "metadata": {},
   "source": [
    "### Merge B2L0barPKpKm "
   ]
  },
  {
   "cell_type": "markdown",
   "id": "bb19105c",
   "metadata": {},
   "source": [
    "#### 2016"
   ]
  },
  {
   "cell_type": "markdown",
   "id": "9f4793ac",
   "metadata": {},
   "source": [
    "##### MagDown"
   ]
  },
  {
   "cell_type": "code",
   "execution_count": 9,
   "id": "fd1e7087",
   "metadata": {},
   "outputs": [
    {
     "name": "stdout",
     "output_type": "stream",
     "text": [
      "Processing: B2L0barPKpKm, 2016, MagDown, DD\n"
     ]
    },
    {
     "name": "stderr",
     "output_type": "stream",
     "text": [
      "Concatenating files:  39%|███▉      | 641/1625 [00:46<01:11, 13.70it/s]"
     ]
    },
    {
     "name": "stdout",
     "output_type": "stream",
     "text": [
      "Error processing file /eos/lhcb/user/m/melashri/data/red_RD/B2L0barPKpKm/2016/MagDown/DD/datadata_2016MagDown_1590_reduced.root: index -1 is out of bounds for axis 0 with size 0\n"
     ]
    },
    {
     "name": "stderr",
     "output_type": "stream",
     "text": [
      "Concatenating files:  57%|█████▋    | 925/1625 [01:07<01:31,  7.68it/s]"
     ]
    },
    {
     "name": "stdout",
     "output_type": "stream",
     "text": [
      "Error processing file /eos/lhcb/user/m/melashri/data/red_RD/B2L0barPKpKm/2016/MagDown/DD/datadata_2016MagDown_392_reduced.root: entries in normal baskets (0) plus embedded baskets (0) don't add up to expected number of entries (172)\n",
      "in file /eos/lhcb/user/m/melashri/data/red_RD/B2L0barPKpKm/2016/MagDown/DD/datadata_2016MagDown_392_reduced.root\n"
     ]
    },
    {
     "name": "stderr",
     "output_type": "stream",
     "text": [
      "Concatenating files:  94%|█████████▎| 1521/1625 [01:48<00:07, 14.00it/s]"
     ]
    },
    {
     "name": "stdout",
     "output_type": "stream",
     "text": [
      "Error processing file /eos/lhcb/user/m/melashri/data/red_RD/B2L0barPKpKm/2016/MagDown/DD/datadata_2016MagDown_919_reduced.root: index -1 is out of bounds for axis 0 with size 0\n"
     ]
    },
    {
     "name": "stderr",
     "output_type": "stream",
     "text": [
      "Concatenating files: 100%|██████████| 1625/1625 [01:54<00:00, 14.23it/s]\n"
     ]
    },
    {
     "name": "stdout",
     "output_type": "stream",
     "text": [
      "Data saved to /eos/lhcb/user/m/melashri/data/red_RD/B2L0barPKpKm_2016_MagDown_DD.root\n",
      "Processing: B2L0barPKpKm, 2016, MagDown, LL\n"
     ]
    },
    {
     "name": "stderr",
     "output_type": "stream",
     "text": [
      "Concatenating files:  44%|████▍     | 717/1625 [00:52<00:59, 15.26it/s]"
     ]
    },
    {
     "name": "stdout",
     "output_type": "stream",
     "text": [
      "Error processing file /eos/lhcb/user/m/melashri/data/red_RD/B2L0barPKpKm/2016/MagDown/LL/datadata_2016MagDown_195_reduced.root: index -1 is out of bounds for axis 0 with size 0\n"
     ]
    },
    {
     "name": "stderr",
     "output_type": "stream",
     "text": [
      "Concatenating files:  46%|████▌     | 749/1625 [00:54<01:01, 14.32it/s]"
     ]
    },
    {
     "name": "stdout",
     "output_type": "stream",
     "text": [
      "Error processing file /eos/lhcb/user/m/melashri/data/red_RD/B2L0barPKpKm/2016/MagDown/LL/datadata_2016MagDown_226_reduced.root: index -1 is out of bounds for axis 0 with size 0\n"
     ]
    },
    {
     "name": "stderr",
     "output_type": "stream",
     "text": [
      "Concatenating files:  61%|██████    | 986/1625 [01:11<00:42, 14.88it/s]"
     ]
    },
    {
     "name": "stdout",
     "output_type": "stream",
     "text": [
      "Error processing file /eos/lhcb/user/m/melashri/data/red_RD/B2L0barPKpKm/2016/MagDown/LL/datadata_2016MagDown_438_reduced.root: index -1 is out of bounds for axis 0 with size 0\n"
     ]
    },
    {
     "name": "stderr",
     "output_type": "stream",
     "text": [
      "Concatenating files: 100%|██████████| 1625/1625 [01:56<00:00, 13.97it/s]\n"
     ]
    },
    {
     "name": "stdout",
     "output_type": "stream",
     "text": [
      "Data saved to /eos/lhcb/user/m/melashri/data/red_RD/B2L0barPKpKm_2016_MagDown_LL.root\n"
     ]
    }
   ],
   "source": [
    "if __name__ == \"__main__\":\n",
    "    base_dir = \"/eos/lhcb/user/m/melashri/data/red_RD\"\n",
    "    decay_trees = [\"B2L0barPKpKm\"]\n",
    "    years = [\"2016\"] # years = [\"2016\", \"2017\"]\n",
    "    magnets = [\"MagDown\"] # [\"MagDown\", \"MagUp\"] \n",
    "    ll_or_dds = [\"DD\", \"LL\"] # [\"DD\", \"LL\"]\n",
    "    use_parallel = True # Set to False to run in serial mode\n",
    "    main(base_dir, decay_trees, years, magnets, ll_or_dds, use_parallel)"
   ]
  },
  {
   "cell_type": "markdown",
   "id": "42b34056",
   "metadata": {},
   "source": [
    "##### MagUp"
   ]
  },
  {
   "cell_type": "code",
   "execution_count": 11,
   "id": "da249f9e",
   "metadata": {},
   "outputs": [
    {
     "name": "stdout",
     "output_type": "stream",
     "text": [
      "Processing: B2L0barPKpKm, 2016, MagUp, DD\n"
     ]
    },
    {
     "name": "stderr",
     "output_type": "stream",
     "text": [
      "Concatenating files:  13%|█▎        | 182/1454 [00:15<02:52,  7.38it/s]"
     ]
    },
    {
     "name": "stdout",
     "output_type": "stream",
     "text": [
      "Error processing file /eos/lhcb/user/m/melashri/data/red_RD/B2L0barPKpKm/2016/MagUp/DD/datadata_2016MagUp_1179_reduced.root: index -1 is out of bounds for axis 0 with size 0\n",
      "Error processing file /eos/lhcb/user/m/melashri/data/red_RD/B2L0barPKpKm/2016/MagUp/DD/datadata_2016MagUp_1194_reduced.root: index -1 is out of bounds for axis 0 with size 0\n"
     ]
    },
    {
     "name": "stderr",
     "output_type": "stream",
     "text": [
      "Concatenating files:  14%|█▍        | 202/1454 [00:17<01:34, 13.27it/s]"
     ]
    },
    {
     "name": "stdout",
     "output_type": "stream",
     "text": [
      "Error processing file /eos/lhcb/user/m/melashri/data/red_RD/B2L0barPKpKm/2016/MagUp/DD/datadata_2016MagUp_1204_reduced.root: index -1 is out of bounds for axis 0 with size 0\n"
     ]
    },
    {
     "name": "stderr",
     "output_type": "stream",
     "text": [
      "Concatenating files:  51%|█████     | 736/1454 [00:53<00:35, 20.12it/s]"
     ]
    },
    {
     "name": "stdout",
     "output_type": "stream",
     "text": [
      "Error processing file /eos/lhcb/user/m/melashri/data/red_RD/B2L0barPKpKm/2016/MagUp/DD/datadata_2016MagUp_367_reduced.root: index -1 is out of bounds for axis 0 with size 0\n"
     ]
    },
    {
     "name": "stderr",
     "output_type": "stream",
     "text": [
      "Concatenating files: 100%|██████████| 1454/1454 [01:42<00:00, 14.18it/s]\n"
     ]
    },
    {
     "name": "stdout",
     "output_type": "stream",
     "text": [
      "Data saved to /eos/lhcb/user/m/melashri/data/red_RD/B2L0barPKpKm_2016_MagUp_DD.root\n",
      "Processing: B2L0barPKpKm, 2016, MagUp, LL\n"
     ]
    },
    {
     "name": "stderr",
     "output_type": "stream",
     "text": [
      "Concatenating files:  17%|█▋        | 253/1454 [00:20<01:34, 12.73it/s]"
     ]
    },
    {
     "name": "stdout",
     "output_type": "stream",
     "text": [
      "Error processing file /eos/lhcb/user/m/melashri/data/red_RD/B2L0barPKpKm/2016/MagUp/LL/datadata_2016MagUp_1246_reduced.root: index -1 is out of bounds for axis 0 with size 0\n"
     ]
    },
    {
     "name": "stderr",
     "output_type": "stream",
     "text": [
      "Concatenating files:  78%|███████▊  | 1131/1454 [01:20<00:19, 16.59it/s]"
     ]
    },
    {
     "name": "stdout",
     "output_type": "stream",
     "text": [
      "Error processing file /eos/lhcb/user/m/melashri/data/red_RD/B2L0barPKpKm/2016/MagUp/LL/datadata_2016MagUp_725_reduced.root: index -1 is out of bounds for axis 0 with size 0\n"
     ]
    },
    {
     "name": "stderr",
     "output_type": "stream",
     "text": [
      "Concatenating files:  88%|████████▊ | 1276/1454 [01:31<00:13, 13.12it/s]"
     ]
    },
    {
     "name": "stdout",
     "output_type": "stream",
     "text": [
      "Error processing file /eos/lhcb/user/m/melashri/data/red_RD/B2L0barPKpKm/2016/MagUp/LL/datadata_2016MagUp_85_reduced.root: index -1 is out of bounds for axis 0 with size 0\n"
     ]
    },
    {
     "name": "stderr",
     "output_type": "stream",
     "text": [
      "Concatenating files: 100%|██████████| 1454/1454 [01:42<00:00, 14.24it/s]\n"
     ]
    },
    {
     "name": "stdout",
     "output_type": "stream",
     "text": [
      "Data saved to /eos/lhcb/user/m/melashri/data/red_RD/B2L0barPKpKm_2016_MagUp_LL.root\n"
     ]
    }
   ],
   "source": [
    "if __name__ == \"__main__\":\n",
    "    base_dir = \"/eos/lhcb/user/m/melashri/data/red_RD\"\n",
    "    decay_trees = [\"B2L0barPKpKm\"]\n",
    "    years = [\"2016\"] # years = [\"2016\", \"2017\"]\n",
    "    magnets = [\"MagUp\"] # [\"MagDown\", \"MagUp\"] \n",
    "    ll_or_dds = [\"DD\", \"LL\"] # [\"DD\", \"LL\"]\n",
    "    use_parallel = True # Set to False to run in serial mode\n",
    "    main(base_dir, decay_trees, years, magnets, ll_or_dds, use_parallel)"
   ]
  },
  {
   "cell_type": "markdown",
   "id": "63e0d904",
   "metadata": {},
   "source": [
    "#### 2017"
   ]
  },
  {
   "cell_type": "markdown",
   "id": "c764a8a1",
   "metadata": {},
   "source": [
    "##### MagDown"
   ]
  },
  {
   "cell_type": "code",
   "execution_count": 12,
   "id": "6ac6d4b9",
   "metadata": {
    "scrolled": true
   },
   "outputs": [
    {
     "name": "stdout",
     "output_type": "stream",
     "text": [
      "Processing: B2L0barPKpKm, 2017, MagDown, DD\n"
     ]
    },
    {
     "name": "stderr",
     "output_type": "stream",
     "text": [
      "Concatenating files:  61%|██████    | 872/1434 [01:04<01:24,  6.67it/s]"
     ]
    },
    {
     "name": "stdout",
     "output_type": "stream",
     "text": [
      "Error processing file /eos/lhcb/user/m/melashri/data/red_RD/B2L0barPKpKm/2017/MagDown/DD/datadata_2017MagDown_513_reduced.root: entries in normal baskets (0) plus embedded baskets (0) don't add up to expected number of entries (176)\n",
      "in file /eos/lhcb/user/m/melashri/data/red_RD/B2L0barPKpKm/2017/MagDown/DD/datadata_2017MagDown_513_reduced.rootError processing file /eos/lhcb/user/m/melashri/data/red_RD/B2L0barPKpKm/2017/MagDown/DD/datadata_2017MagDown_518_reduced.root: index -1 is out of bounds for axis 0 with size 0\n",
      "\n"
     ]
    },
    {
     "name": "stderr",
     "output_type": "stream",
     "text": [
      "Concatenating files:  72%|███████▏  | 1032/1434 [01:14<00:35, 11.24it/s]"
     ]
    },
    {
     "name": "stdout",
     "output_type": "stream",
     "text": [
      "Error processing file /eos/lhcb/user/m/melashri/data/red_RD/B2L0barPKpKm/2017/MagDown/DD/datadata_2017MagDown_659_reduced.root: index -1 is out of bounds for axis 0 with size 0"
     ]
    },
    {
     "name": "stderr",
     "output_type": "stream",
     "text": [
      "\r",
      "Concatenating files:  72%|███████▏  | 1038/1434 [01:15<00:25, 15.61it/s]"
     ]
    },
    {
     "name": "stdout",
     "output_type": "stream",
     "text": [
      "\n"
     ]
    },
    {
     "name": "stderr",
     "output_type": "stream",
     "text": [
      "Concatenating files:  73%|███████▎  | 1049/1434 [01:16<00:34, 11.08it/s]"
     ]
    },
    {
     "name": "stdout",
     "output_type": "stream",
     "text": [
      "Error processing file /eos/lhcb/user/m/melashri/data/red_RD/B2L0barPKpKm/2017/MagDown/DD/datadata_2017MagDown_683_reduced.root: index -1 is out of bounds for axis 0 with size 0\n"
     ]
    },
    {
     "name": "stderr",
     "output_type": "stream",
     "text": [
      "Concatenating files:  75%|███████▍  | 1070/1434 [01:17<00:16, 21.70it/s]"
     ]
    },
    {
     "name": "stdout",
     "output_type": "stream",
     "text": [
      "Error processing file /eos/lhcb/user/m/melashri/data/red_RD/B2L0barPKpKm/2017/MagDown/DD/datadata_2017MagDown_686_reduced.root: index -1 is out of bounds for axis 0 with size 0\n"
     ]
    },
    {
     "name": "stderr",
     "output_type": "stream",
     "text": [
      "Concatenating files:  90%|████████▉ | 1286/1434 [01:31<00:08, 18.06it/s]"
     ]
    },
    {
     "name": "stdout",
     "output_type": "stream",
     "text": [
      "Error processing file /eos/lhcb/user/m/melashri/data/red_RD/B2L0barPKpKm/2017/MagDown/DD/datadata_2017MagDown_882_reduced.root: index -1 is out of bounds for axis 0 with size 0\n"
     ]
    },
    {
     "name": "stderr",
     "output_type": "stream",
     "text": [
      "Concatenating files:  93%|█████████▎| 1335/1434 [01:35<00:05, 17.64it/s]"
     ]
    },
    {
     "name": "stdout",
     "output_type": "stream",
     "text": [
      "Error processing file /eos/lhcb/user/m/melashri/data/red_RD/B2L0barPKpKm/2017/MagDown/DD/datadata_2017MagDown_922_reduced.root: index -1 is out of bounds for axis 0 with size 0\n"
     ]
    },
    {
     "name": "stderr",
     "output_type": "stream",
     "text": [
      "Concatenating files:  95%|█████████▌| 1365/1434 [01:37<00:04, 16.12it/s]"
     ]
    },
    {
     "name": "stdout",
     "output_type": "stream",
     "text": [
      "Error processing file /eos/lhcb/user/m/melashri/data/red_RD/B2L0barPKpKm/2017/MagDown/DD/datadata_2017MagDown_963_reduced.root: index -1 is out of bounds for axis 0 with size 0\n"
     ]
    },
    {
     "name": "stderr",
     "output_type": "stream",
     "text": [
      "Concatenating files: 100%|██████████| 1434/1434 [01:41<00:00, 14.19it/s]\n"
     ]
    },
    {
     "name": "stdout",
     "output_type": "stream",
     "text": [
      "Data saved to /eos/lhcb/user/m/melashri/data/red_RD/B2L0barPKpKm_2017_MagDown_DD.root\n",
      "Processing: B2L0barPKpKm, 2017, MagDown, LL\n"
     ]
    },
    {
     "name": "stderr",
     "output_type": "stream",
     "text": [
      "Concatenating files:  13%|█▎        | 183/1434 [00:16<02:48,  7.42it/s]"
     ]
    },
    {
     "name": "stdout",
     "output_type": "stream",
     "text": [
      "Error processing file /eos/lhcb/user/m/melashri/data/red_RD/B2L0barPKpKm/2017/MagDown/LL/datadata_2017MagDown_1192_reduced.root: index -1 is out of bounds for axis 0 with size 0\n"
     ]
    },
    {
     "name": "stderr",
     "output_type": "stream",
     "text": [
      "Concatenating files:  31%|███▏      | 451/1434 [00:33<01:09, 14.24it/s]"
     ]
    },
    {
     "name": "stdout",
     "output_type": "stream",
     "text": [
      "Error processing file /eos/lhcb/user/m/melashri/data/red_RD/B2L0barPKpKm/2017/MagDown/LL/datadata_2017MagDown_1416_reduced.root: index -1 is out of bounds for axis 0 with size 0\n"
     ]
    },
    {
     "name": "stderr",
     "output_type": "stream",
     "text": [
      "Concatenating files:  58%|█████▊    | 831/1434 [01:00<00:32, 18.38it/s]"
     ]
    },
    {
     "name": "stdout",
     "output_type": "stream",
     "text": [
      "Error processing file /eos/lhcb/user/m/melashri/data/red_RD/B2L0barPKpKm/2017/MagDown/LL/datadata_2017MagDown_479_reduced.root: entries in normal baskets (182) plus embedded baskets (0) don't add up to expected number of entries (0)\n",
      "in file /eos/lhcb/user/m/melashri/data/red_RD/B2L0barPKpKm/2017/MagDown/LL/datadata_2017MagDown_479_reduced.root\n"
     ]
    },
    {
     "name": "stderr",
     "output_type": "stream",
     "text": [
      "Concatenating files:  72%|███████▏  | 1034/1434 [01:14<00:22, 17.54it/s]"
     ]
    },
    {
     "name": "stdout",
     "output_type": "stream",
     "text": [
      "Error processing file /eos/lhcb/user/m/melashri/data/red_RD/B2L0barPKpKm/2017/MagDown/LL/datadata_2017MagDown_655_reduced.root: index -1 is out of bounds for axis 0 with size 0\n"
     ]
    },
    {
     "name": "stderr",
     "output_type": "stream",
     "text": [
      "Concatenating files:  78%|███████▊  | 1118/1434 [01:20<00:19, 16.60it/s]"
     ]
    },
    {
     "name": "stdout",
     "output_type": "stream",
     "text": [
      "Error processing file /eos/lhcb/user/m/melashri/data/red_RD/B2L0barPKpKm/2017/MagDown/LL/datadata_2017MagDown_731_reduced.root: index -1 is out of bounds for axis 0 with size 0\n"
     ]
    },
    {
     "name": "stderr",
     "output_type": "stream",
     "text": [
      "Concatenating files: 100%|██████████| 1434/1434 [01:41<00:00, 14.13it/s]\n"
     ]
    },
    {
     "name": "stdout",
     "output_type": "stream",
     "text": [
      "Data saved to /eos/lhcb/user/m/melashri/data/red_RD/B2L0barPKpKm_2017_MagDown_LL.root\n"
     ]
    }
   ],
   "source": [
    "if __name__ == \"__main__\":\n",
    "    base_dir = \"/eos/lhcb/user/m/melashri/data/red_RD\"\n",
    "    decay_trees = [\"B2L0barPKpKm\"]\n",
    "    years = [\"2017\"] # years = [\"2016\", \"2017\"]\n",
    "    magnets = [\"MagDown\"] # [\"MagDown\", \"MagUp\"] \n",
    "    ll_or_dds = [\"DD\", \"LL\"] # [\"DD\", \"LL\"]\n",
    "    use_parallel = True # Set to False to run in serial mode\n",
    "    main(base_dir, decay_trees, years, magnets, ll_or_dds, use_parallel)"
   ]
  },
  {
   "cell_type": "markdown",
   "id": "040dfd3d",
   "metadata": {},
   "source": [
    "##### MagUp"
   ]
  },
  {
   "cell_type": "code",
   "execution_count": 26,
   "id": "960a5a82",
   "metadata": {},
   "outputs": [
    {
     "name": "stdout",
     "output_type": "stream",
     "text": [
      "Processing: B2L0barPKpKm, 2017, MagUp, DD\n"
     ]
    },
    {
     "name": "stderr",
     "output_type": "stream",
     "text": [
      "Concatenating files:   8%|▊         | 106/1364 [00:27<05:33,  3.77it/s]"
     ]
    },
    {
     "name": "stdout",
     "output_type": "stream",
     "text": [
      "Error processing file /eos/lhcb/user/m/melashri/data/red_RD/B2L0barPKpKm/2017/MagUp/DD/datadata_2017MagUp_1095_reduced.root: entries in normal baskets (0) plus embedded baskets (0) don't add up to expected number of entries (144)\n",
      "in file /eos/lhcb/user/m/melashri/data/red_RD/B2L0barPKpKm/2017/MagUp/DD/datadata_2017MagUp_1095_reduced.root\n"
     ]
    },
    {
     "name": "stderr",
     "output_type": "stream",
     "text": [
      "Concatenating files:  47%|████▋     | 637/1364 [02:46<03:10,  3.81it/s]"
     ]
    },
    {
     "name": "stdout",
     "output_type": "stream",
     "text": [
      "Error processing file /eos/lhcb/user/m/melashri/data/red_RD/B2L0barPKpKm/2017/MagUp/DD/datadata_2017MagUp_345_reduced.root: index -1 is out of bounds for axis 0 with size 0\n"
     ]
    },
    {
     "name": "stderr",
     "output_type": "stream",
     "text": [
      "Concatenating files:  51%|█████     | 691/1364 [03:14<02:49,  3.96it/s]"
     ]
    },
    {
     "name": "stdout",
     "output_type": "stream",
     "text": [
      "Error processing file /eos/lhcb/user/m/melashri/data/red_RD/B2L0barPKpKm/2017/MagUp/DD/datadata_2017MagUp_394_reduced.root: entries in normal baskets (0) plus embedded baskets (0) don't add up to expected number of entries (220)\n",
      "in file /eos/lhcb/user/m/melashri/data/red_RD/B2L0barPKpKm/2017/MagUp/DD/datadata_2017MagUp_394_reduced.root\n"
     ]
    },
    {
     "name": "stderr",
     "output_type": "stream",
     "text": [
      "Concatenating files:  55%|█████▌    | 751/1364 [03:30<02:23,  4.29it/s]"
     ]
    },
    {
     "name": "stdout",
     "output_type": "stream",
     "text": [
      "Error processing file /eos/lhcb/user/m/melashri/data/red_RD/B2L0barPKpKm/2017/MagUp/DD/datadata_2017MagUp_448_reduced.root: index -1 is out of bounds for axis 0 with size 0\n"
     ]
    },
    {
     "name": "stderr",
     "output_type": "stream",
     "text": [
      "Concatenating files:  59%|█████▉    | 803/1364 [03:43<02:32,  3.68it/s]"
     ]
    },
    {
     "name": "stdout",
     "output_type": "stream",
     "text": [
      "Error processing file /eos/lhcb/user/m/melashri/data/red_RD/B2L0barPKpKm/2017/MagUp/DD/datadata_2017MagUp_495_reduced.root: index -1 is out of bounds for axis 0 with size 0\n"
     ]
    },
    {
     "name": "stderr",
     "output_type": "stream",
     "text": [
      "Concatenating files:  70%|██████▉   | 954/1364 [04:28<01:47,  3.81it/s]"
     ]
    },
    {
     "name": "stdout",
     "output_type": "stream",
     "text": [
      "Error processing file /eos/lhcb/user/m/melashri/data/red_RD/B2L0barPKpKm/2017/MagUp/DD/datadata_2017MagUp_630_reduced.root: index -1 is out of bounds for axis 0 with size 0\n"
     ]
    },
    {
     "name": "stderr",
     "output_type": "stream",
     "text": [
      "Concatenating files:  77%|███████▋  | 1046/1364 [04:54<01:25,  3.73it/s]"
     ]
    },
    {
     "name": "stdout",
     "output_type": "stream",
     "text": [
      "Error processing file /eos/lhcb/user/m/melashri/data/red_RD/B2L0barPKpKm/2017/MagUp/DD/datadata_2017MagUp_713_reduced.root: index -1 is out of bounds for axis 0 with size 0\n"
     ]
    },
    {
     "name": "stderr",
     "output_type": "stream",
     "text": [
      "Concatenating files:  77%|███████▋  | 1048/1364 [04:54<01:21,  3.90it/s]"
     ]
    },
    {
     "name": "stdout",
     "output_type": "stream",
     "text": [
      "Error processing file /eos/lhcb/user/m/melashri/data/red_RD/B2L0barPKpKm/2017/MagUp/DD/datadata_2017MagUp_715_reduced.root: index -1 is out of bounds for axis 0 with size 0\n"
     ]
    },
    {
     "name": "stderr",
     "output_type": "stream",
     "text": [
      "Concatenating files:  81%|████████▏ | 1110/1364 [05:11<01:04,  3.93it/s]"
     ]
    },
    {
     "name": "stdout",
     "output_type": "stream",
     "text": [
      "Error processing file /eos/lhcb/user/m/melashri/data/red_RD/B2L0barPKpKm/2017/MagUp/DD/datadata_2017MagUp_771_reduced.root: index -1 is out of bounds for axis 0 with size 0\n"
     ]
    },
    {
     "name": "stderr",
     "output_type": "stream",
     "text": [
      "Concatenating files: 100%|██████████| 1364/1364 [06:18<00:00,  3.60it/s]\n"
     ]
    },
    {
     "name": "stdout",
     "output_type": "stream",
     "text": [
      "Data saved to /eos/lhcb/user/m/melashri/data/red_RD/B2L0barPKpKm_2017_MagUp_DD.root\n",
      "Processing: B2L0barPKpKm, 2017, MagUp, LL\n"
     ]
    },
    {
     "name": "stderr",
     "output_type": "stream",
     "text": [
      "Concatenating files:   0%|          | 6/1364 [00:01<06:18,  3.59it/s]"
     ]
    },
    {
     "name": "stdout",
     "output_type": "stream",
     "text": [
      "Error processing file /eos/lhcb/user/m/melashri/data/red_RD/B2L0barPKpKm/2017/MagUp/LL/datadata_2017MagUp_1004_reduced.root: index -1 is out of bounds for axis 0 with size 0\n"
     ]
    },
    {
     "name": "stderr",
     "output_type": "stream",
     "text": [
      "Concatenating files:   9%|▉         | 122/1364 [00:32<05:29,  3.77it/s]"
     ]
    },
    {
     "name": "stdout",
     "output_type": "stream",
     "text": [
      "Error processing file /eos/lhcb/user/m/melashri/data/red_RD/B2L0barPKpKm/2017/MagUp/LL/datadata_2017MagUp_1109_reduced.root: index -1 is out of bounds for axis 0 with size 0\n"
     ]
    },
    {
     "name": "stderr",
     "output_type": "stream",
     "text": [
      "Concatenating files:  12%|█▏        | 161/1364 [00:42<04:45,  4.21it/s]"
     ]
    },
    {
     "name": "stdout",
     "output_type": "stream",
     "text": [
      "Error processing file /eos/lhcb/user/m/melashri/data/red_RD/B2L0barPKpKm/2017/MagUp/LL/datadata_2017MagUp_1144_reduced.root: index -1 is out of bounds for axis 0 with size 0\n"
     ]
    },
    {
     "name": "stderr",
     "output_type": "stream",
     "text": [
      "Concatenating files:  20%|█▉        | 267/1364 [01:09<04:11,  4.36it/s]"
     ]
    },
    {
     "name": "stdout",
     "output_type": "stream",
     "text": [
      "Error processing file /eos/lhcb/user/m/melashri/data/red_RD/B2L0barPKpKm/2017/MagUp/LL/datadata_2017MagUp_123_reduced.root: entries in normal baskets (0) plus embedded baskets (0) don't add up to expected number of entries (185)\n",
      "in file /eos/lhcb/user/m/melashri/data/red_RD/B2L0barPKpKm/2017/MagUp/LL/datadata_2017MagUp_123_reduced.root\n"
     ]
    },
    {
     "name": "stderr",
     "output_type": "stream",
     "text": [
      "Concatenating files:  25%|██▌       | 341/1364 [01:29<04:52,  3.50it/s]"
     ]
    },
    {
     "name": "stdout",
     "output_type": "stream",
     "text": [
      "Error processing file /eos/lhcb/user/m/melashri/data/red_RD/B2L0barPKpKm/2017/MagUp/LL/datadata_2017MagUp_1306_reduced.root: index -1 is out of bounds for axis 0 with size 0\n"
     ]
    },
    {
     "name": "stderr",
     "output_type": "stream",
     "text": [
      "Concatenating files:  26%|██▌       | 357/1364 [01:33<04:42,  3.56it/s]"
     ]
    },
    {
     "name": "stdout",
     "output_type": "stream",
     "text": [
      "Error processing file /eos/lhcb/user/m/melashri/data/red_RD/B2L0barPKpKm/2017/MagUp/LL/datadata_2017MagUp_1320_reduced.root: index -1 is out of bounds for axis 0 with size 0\n"
     ]
    },
    {
     "name": "stderr",
     "output_type": "stream",
     "text": [
      "Concatenating files: 100%|██████████| 1364/1364 [05:58<00:00,  3.81it/s]\n"
     ]
    },
    {
     "name": "stdout",
     "output_type": "stream",
     "text": [
      "Data saved to /eos/lhcb/user/m/melashri/data/red_RD/B2L0barPKpKm_2017_MagUp_LL.root\n"
     ]
    }
   ],
   "source": [
    "if __name__ == \"__main__\":\n",
    "    base_dir = \"/eos/lhcb/user/m/melashri/data/red_RD\"\n",
    "    decay_trees = [\"B2L0barPKpKm\"]\n",
    "    years = [\"2017\"]\n",
    "    magnets = [\"MagUp\"]\n",
    "    ll_or_dds = [\"DD\", \"LL\"]\n",
    "    use_parallel = False # Set to False to run in serial mode\n",
    "    main(base_dir, decay_trees, years, magnets, ll_or_dds, use_parallel)"
   ]
  },
  {
   "cell_type": "markdown",
   "id": "2d359ede",
   "metadata": {},
   "source": [
    "### Merge B2L0PbarKpKp "
   ]
  },
  {
   "cell_type": "code",
   "execution_count": 27,
   "id": "6c167f5e",
   "metadata": {},
   "outputs": [
    {
     "name": "stdout",
     "output_type": "stream",
     "text": [
      "Processing: B2L0PbarKpKp, 2016, MagDown, DD\n"
     ]
    },
    {
     "name": "stderr",
     "output_type": "stream",
     "text": [
      "Concatenating files:  13%|█▎        | 212/1625 [00:54<05:32,  4.25it/s]"
     ]
    },
    {
     "name": "stdout",
     "output_type": "stream",
     "text": [
      "Error processing file /eos/lhcb/user/m/melashri/data/red_RD/B2L0PbarKpKp/2016/MagDown/DD/datadata_2016MagDown_1190_reduced.root: index -1 is out of bounds for axis 0 with size 0\n"
     ]
    },
    {
     "name": "stderr",
     "output_type": "stream",
     "text": [
      "Concatenating files:  13%|█▎        | 217/1625 [00:56<06:09,  3.81it/s]"
     ]
    },
    {
     "name": "stdout",
     "output_type": "stream",
     "text": [
      "Error processing file /eos/lhcb/user/m/melashri/data/red_RD/B2L0PbarKpKp/2016/MagDown/DD/datadata_2016MagDown_1195_reduced.root: index -1 is out of bounds for axis 0 with size 0\n"
     ]
    },
    {
     "name": "stderr",
     "output_type": "stream",
     "text": [
      "Concatenating files:  14%|█▍        | 235/1625 [01:00<05:56,  3.90it/s]"
     ]
    },
    {
     "name": "stdout",
     "output_type": "stream",
     "text": [
      "Error processing file /eos/lhcb/user/m/melashri/data/red_RD/B2L0PbarKpKp/2016/MagDown/DD/datadata_2016MagDown_1210_reduced.root: index -1 is out of bounds for axis 0 with size 0\n"
     ]
    },
    {
     "name": "stderr",
     "output_type": "stream",
     "text": [
      "Concatenating files:  17%|█▋        | 284/1625 [01:13<05:34,  4.01it/s]"
     ]
    },
    {
     "name": "stdout",
     "output_type": "stream",
     "text": [
      "Error processing file /eos/lhcb/user/m/melashri/data/red_RD/B2L0PbarKpKp/2016/MagDown/DD/datadata_2016MagDown_1255_reduced.root: index -1 is out of bounds for axis 0 with size 0\n"
     ]
    },
    {
     "name": "stderr",
     "output_type": "stream",
     "text": [
      "Concatenating files:  32%|███▏      | 515/1625 [02:15<04:21,  4.25it/s]"
     ]
    },
    {
     "name": "stdout",
     "output_type": "stream",
     "text": [
      "Error processing file /eos/lhcb/user/m/melashri/data/red_RD/B2L0PbarKpKp/2016/MagDown/DD/datadata_2016MagDown_1464_reduced.root: while reading\n",
      "\n",
      "    TTree version 13366 as uproot.dynamic.Model_TTree_v20 (929980213 bytes)\n",
      "        (base): <TNamed '\\x00' at 0x7ff4b62efdf0>\n",
      "        (base): <TAttLine (version 2) at 0x7ff41b6e8160>\n",
      "        TAttFill version 2 as uproot.dynamic.Model_TAttFill_v2 (12 bytes)\n",
      "            fFillColor: 602\n",
      "            fFillStyle: 1\n",
      "Members for TAttFill: (fFillColor), (fFillStyle)\n",
      "\n",
      "expected 12 bytes but cursor moved by 10 bytes (through TAttFill)\n",
      "in file /eos/lhcb/user/m/melashri/data/red_RD/B2L0PbarKpKp/2016/MagDown/DD/datadata_2016MagDown_1464_reduced.root\n",
      "in object /B2L0PbarKpKp_DD/DecayTree;1\n"
     ]
    },
    {
     "name": "stderr",
     "output_type": "stream",
     "text": [
      "Concatenating files:  42%|████▏     | 676/1625 [02:57<04:05,  3.86it/s]"
     ]
    },
    {
     "name": "stdout",
     "output_type": "stream",
     "text": [
      "Error processing file /eos/lhcb/user/m/melashri/data/red_RD/B2L0PbarKpKp/2016/MagDown/DD/datadata_2016MagDown_1608_reduced.root: dict of arrays in ak.Array constructor must have arrays of equal length (61 vs 0)\n",
      "\n",
      "(https://github.com/scikit-hep/awkward-1.0/blob/1.10.3/src/awkward/highlevel.py#L239)\n"
     ]
    },
    {
     "name": "stderr",
     "output_type": "stream",
     "text": [
      "Concatenating files:  76%|███████▌  | 1228/1625 [05:26<01:47,  3.71it/s]"
     ]
    },
    {
     "name": "stdout",
     "output_type": "stream",
     "text": [
      "Error processing file /eos/lhcb/user/m/melashri/data/red_RD/B2L0PbarKpKp/2016/MagDown/DD/datadata_2016MagDown_641_reduced.root: index -1 is out of bounds for axis 0 with size 0\n"
     ]
    },
    {
     "name": "stderr",
     "output_type": "stream",
     "text": [
      "Concatenating files: 100%|██████████| 1625/1625 [07:10<00:00,  3.78it/s]\n"
     ]
    },
    {
     "name": "stdout",
     "output_type": "stream",
     "text": [
      "Data saved to /eos/lhcb/user/m/melashri/data/red_RD/B2L0PbarKpKp_2016_MagDown_DD.root\n",
      "Processing: B2L0PbarKpKp, 2016, MagDown, LL\n"
     ]
    },
    {
     "name": "stderr",
     "output_type": "stream",
     "text": [
      "Concatenating files:  17%|█▋        | 282/1625 [01:11<05:04,  4.42it/s]"
     ]
    },
    {
     "name": "stdout",
     "output_type": "stream",
     "text": [
      "Error processing file /eos/lhcb/user/m/melashri/data/red_RD/B2L0PbarKpKp/2016/MagDown/LL/datadata_2016MagDown_1253_reduced.root: index -1 is out of bounds for axis 0 with size 0\n"
     ]
    },
    {
     "name": "stderr",
     "output_type": "stream",
     "text": [
      "Concatenating files:  23%|██▎       | 377/1625 [01:36<04:55,  4.23it/s]"
     ]
    },
    {
     "name": "stdout",
     "output_type": "stream",
     "text": [
      "Error processing file /eos/lhcb/user/m/melashri/data/red_RD/B2L0PbarKpKp/2016/MagDown/LL/datadata_2016MagDown_1339_reduced.root: index -1 is out of bounds for axis 0 with size 0\n"
     ]
    },
    {
     "name": "stderr",
     "output_type": "stream",
     "text": [
      "Concatenating files:  40%|████      | 652/1625 [02:46<03:49,  4.24it/s]"
     ]
    },
    {
     "name": "stdout",
     "output_type": "stream",
     "text": [
      "Error processing file /eos/lhcb/user/m/melashri/data/red_RD/B2L0PbarKpKp/2016/MagDown/LL/datadata_2016MagDown_1588_reduced.root: not found: 'DecayTree' (with any cycle number)\n",
      "\n",
      "    Available keys: (none!)\n",
      "\n",
      "in file /eos/lhcb/user/m/melashri/data/red_RD/B2L0PbarKpKp/2016/MagDown/LL/datadata_2016MagDown_1588_reduced.root\n"
     ]
    },
    {
     "name": "stderr",
     "output_type": "stream",
     "text": [
      "Concatenating files:  72%|███████▏  | 1173/1625 [05:02<01:56,  3.88it/s]"
     ]
    },
    {
     "name": "stdout",
     "output_type": "stream",
     "text": [
      "Error processing file /eos/lhcb/user/m/melashri/data/red_RD/B2L0PbarKpKp/2016/MagDown/LL/datadata_2016MagDown_592_reduced.root: index -1 is out of bounds for axis 0 with size 0\n"
     ]
    },
    {
     "name": "stderr",
     "output_type": "stream",
     "text": [
      "Concatenating files:  73%|███████▎  | 1185/1625 [05:05<01:49,  4.04it/s]"
     ]
    },
    {
     "name": "stdout",
     "output_type": "stream",
     "text": [
      "Error processing file /eos/lhcb/user/m/melashri/data/red_RD/B2L0PbarKpKp/2016/MagDown/LL/datadata_2016MagDown_602_reduced.root: index -1 is out of bounds for axis 0 with size 0\n"
     ]
    },
    {
     "name": "stderr",
     "output_type": "stream",
     "text": [
      "Concatenating files:  81%|████████  | 1317/1625 [05:40<01:19,  3.85it/s]"
     ]
    },
    {
     "name": "stdout",
     "output_type": "stream",
     "text": [
      "Error processing file /eos/lhcb/user/m/melashri/data/red_RD/B2L0PbarKpKp/2016/MagDown/LL/datadata_2016MagDown_721_reduced.root: index -1 is out of bounds for axis 0 with size 0\n"
     ]
    },
    {
     "name": "stderr",
     "output_type": "stream",
     "text": [
      "Concatenating files:  83%|████████▎ | 1354/1625 [05:49<01:07,  3.99it/s]"
     ]
    },
    {
     "name": "stdout",
     "output_type": "stream",
     "text": [
      "Error processing file /eos/lhcb/user/m/melashri/data/red_RD/B2L0PbarKpKp/2016/MagDown/LL/datadata_2016MagDown_755_reduced.root: index -1 is out of bounds for axis 0 with size 0\n"
     ]
    },
    {
     "name": "stderr",
     "output_type": "stream",
     "text": [
      "Concatenating files:  89%|████████▉ | 1449/1625 [06:14<00:43,  4.05it/s]"
     ]
    },
    {
     "name": "stdout",
     "output_type": "stream",
     "text": [
      "Error processing file /eos/lhcb/user/m/melashri/data/red_RD/B2L0PbarKpKp/2016/MagDown/LL/datadata_2016MagDown_840_reduced.root: index -1 is out of bounds for axis 0 with size 0\n"
     ]
    },
    {
     "name": "stderr",
     "output_type": "stream",
     "text": [
      "Concatenating files:  92%|█████████▏| 1502/1625 [06:28<00:32,  3.78it/s]"
     ]
    },
    {
     "name": "stdout",
     "output_type": "stream",
     "text": [
      "Error processing file /eos/lhcb/user/m/melashri/data/red_RD/B2L0PbarKpKp/2016/MagDown/LL/datadata_2016MagDown_889_reduced.root: index -1 is out of bounds for axis 0 with size 0\n"
     ]
    },
    {
     "name": "stderr",
     "output_type": "stream",
     "text": [
      "Concatenating files:  93%|█████████▎| 1516/1625 [06:32<00:31,  3.43it/s]"
     ]
    },
    {
     "name": "stdout",
     "output_type": "stream",
     "text": [
      "Error processing file /eos/lhcb/user/m/melashri/data/red_RD/B2L0PbarKpKp/2016/MagDown/LL/datadata_2016MagDown_900_reduced.root: index -1 is out of bounds for axis 0 with size 0\n"
     ]
    },
    {
     "name": "stderr",
     "output_type": "stream",
     "text": [
      "Concatenating files:  94%|█████████▎| 1523/1625 [06:33<00:30,  3.38it/s]"
     ]
    },
    {
     "name": "stdout",
     "output_type": "stream",
     "text": [
      "Error processing file /eos/lhcb/user/m/melashri/data/red_RD/B2L0PbarKpKp/2016/MagDown/LL/datadata_2016MagDown_907_reduced.root: index -1 is out of bounds for axis 0 with size 0\n"
     ]
    },
    {
     "name": "stderr",
     "output_type": "stream",
     "text": [
      "Concatenating files: 100%|██████████| 1625/1625 [07:00<00:00,  3.87it/s]\n"
     ]
    },
    {
     "name": "stdout",
     "output_type": "stream",
     "text": [
      "Data saved to /eos/lhcb/user/m/melashri/data/red_RD/B2L0PbarKpKp_2016_MagDown_LL.root\n",
      "Processing: B2L0PbarKpKp, 2016, MagUp, DD\n"
     ]
    },
    {
     "name": "stderr",
     "output_type": "stream",
     "text": [
      "Concatenating files:  11%|█         | 163/1454 [00:40<05:07,  4.20it/s]"
     ]
    },
    {
     "name": "stdout",
     "output_type": "stream",
     "text": [
      "Error processing file /eos/lhcb/user/m/melashri/data/red_RD/B2L0PbarKpKp/2016/MagUp/DD/datadata_2016MagUp_1146_reduced.root: index -1 is out of bounds for axis 0 with size 0\n"
     ]
    },
    {
     "name": "stderr",
     "output_type": "stream",
     "text": [
      "Concatenating files:  12%|█▏        | 173/1454 [00:43<05:16,  4.05it/s]"
     ]
    },
    {
     "name": "stdout",
     "output_type": "stream",
     "text": [
      "Error processing file /eos/lhcb/user/m/melashri/data/red_RD/B2L0PbarKpKp/2016/MagUp/DD/datadata_2016MagUp_1155_reduced.root: index -1 is out of bounds for axis 0 with size 0\n"
     ]
    },
    {
     "name": "stderr",
     "output_type": "stream",
     "text": [
      "Concatenating files:  24%|██▍       | 352/1454 [01:28<04:04,  4.50it/s]"
     ]
    },
    {
     "name": "stdout",
     "output_type": "stream",
     "text": [
      "Error processing file /eos/lhcb/user/m/melashri/data/red_RD/B2L0PbarKpKp/2016/MagUp/DD/datadata_2016MagUp_1316_reduced.root: index -1 is out of bounds for axis 0 with size 0\n"
     ]
    },
    {
     "name": "stderr",
     "output_type": "stream",
     "text": [
      "Concatenating files:  30%|██▉       | 435/1454 [01:49<04:18,  3.94it/s]"
     ]
    },
    {
     "name": "stdout",
     "output_type": "stream",
     "text": [
      "Error processing file /eos/lhcb/user/m/melashri/data/red_RD/B2L0PbarKpKp/2016/MagUp/DD/datadata_2016MagUp_1391_reduced.root: index -1 is out of bounds for axis 0 with size 0\n"
     ]
    },
    {
     "name": "stderr",
     "output_type": "stream",
     "text": [
      "Concatenating files:  39%|███▉      | 570/1454 [02:24<03:32,  4.16it/s]"
     ]
    },
    {
     "name": "stdout",
     "output_type": "stream",
     "text": [
      "Error processing file /eos/lhcb/user/m/melashri/data/red_RD/B2L0PbarKpKp/2016/MagUp/DD/datadata_2016MagUp_202_reduced.root: index -1 is out of bounds for axis 0 with size 0\n"
     ]
    },
    {
     "name": "stderr",
     "output_type": "stream",
     "text": [
      "Concatenating files:  50%|█████     | 730/1454 [03:07<03:45,  3.21it/s]"
     ]
    },
    {
     "name": "stdout",
     "output_type": "stream",
     "text": [
      "Error processing file /eos/lhcb/user/m/melashri/data/red_RD/B2L0PbarKpKp/2016/MagUp/DD/datadata_2016MagUp_347_reduced.root: index -1 is out of bounds for axis 0 with size 0\n"
     ]
    },
    {
     "name": "stderr",
     "output_type": "stream",
     "text": [
      "Concatenating files:  52%|█████▏    | 763/1454 [03:15<02:35,  4.44it/s]"
     ]
    },
    {
     "name": "stdout",
     "output_type": "stream",
     "text": [
      "Error processing file /eos/lhcb/user/m/melashri/data/red_RD/B2L0PbarKpKp/2016/MagUp/DD/datadata_2016MagUp_377_reduced.root: index -1 is out of bounds for axis 0 with size 0\n"
     ]
    },
    {
     "name": "stderr",
     "output_type": "stream",
     "text": [
      "Concatenating files:  65%|██████▌   | 946/1454 [04:04<01:59,  4.23it/s]"
     ]
    },
    {
     "name": "stdout",
     "output_type": "stream",
     "text": [
      "Error processing file /eos/lhcb/user/m/melashri/data/red_RD/B2L0PbarKpKp/2016/MagUp/DD/datadata_2016MagUp_542_reduced.root: index -1 is out of bounds for axis 0 with size 0\n"
     ]
    },
    {
     "name": "stderr",
     "output_type": "stream",
     "text": [
      "Concatenating files: 100%|██████████| 1454/1454 [06:15<00:00,  3.87it/s]\n"
     ]
    },
    {
     "name": "stdout",
     "output_type": "stream",
     "text": [
      "Data saved to /eos/lhcb/user/m/melashri/data/red_RD/B2L0PbarKpKp_2016_MagUp_DD.root\n",
      "Processing: B2L0PbarKpKp, 2016, MagUp, LL\n"
     ]
    },
    {
     "name": "stderr",
     "output_type": "stream",
     "text": [
      "Concatenating files:  35%|███▍      | 508/1454 [02:47<03:32,  4.45it/s]"
     ]
    },
    {
     "name": "stdout",
     "output_type": "stream",
     "text": [
      "Error processing file /eos/lhcb/user/m/melashri/data/red_RD/B2L0PbarKpKp/2016/MagUp/LL/datadata_2016MagUp_147_reduced.root: index -1 is out of bounds for axis 0 with size 0\n"
     ]
    },
    {
     "name": "stderr",
     "output_type": "stream",
     "text": [
      "Concatenating files:  43%|████▎     | 626/1454 [03:18<03:16,  4.22it/s]"
     ]
    },
    {
     "name": "stdout",
     "output_type": "stream",
     "text": [
      "Error processing file /eos/lhcb/user/m/melashri/data/red_RD/B2L0PbarKpKp/2016/MagUp/LL/datadata_2016MagUp_253_reduced.root: while reading\n",
      "\n",
      "    TBasket version None as uproot.models.TBasket.Model_TBasket (? bytes)\n",
      "\n",
      "attempting to get bytes 128659:128677\n",
      "outside expected range 128659:128659 for this Chunk\n",
      "in file /eos/lhcb/user/m/melashri/data/red_RD/B2L0PbarKpKp/2016/MagUp/LL/datadata_2016MagUp_253_reduced.root\n"
     ]
    },
    {
     "name": "stderr",
     "output_type": "stream",
     "text": [
      "Concatenating files:  56%|█████▌    | 813/1454 [04:06<02:39,  4.03it/s]"
     ]
    },
    {
     "name": "stdout",
     "output_type": "stream",
     "text": [
      "Error processing file /eos/lhcb/user/m/melashri/data/red_RD/B2L0PbarKpKp/2016/MagUp/LL/datadata_2016MagUp_422_reduced.root: index -1 is out of bounds for axis 0 with size 0\n"
     ]
    },
    {
     "name": "stderr",
     "output_type": "stream",
     "text": [
      "Concatenating files:  63%|██████▎   | 920/1454 [04:34<02:14,  3.98it/s]"
     ]
    },
    {
     "name": "stdout",
     "output_type": "stream",
     "text": [
      "Error processing file /eos/lhcb/user/m/melashri/data/red_RD/B2L0PbarKpKp/2016/MagUp/LL/datadata_2016MagUp_519_reduced.root: index -1 is out of bounds for axis 0 with size 0\n"
     ]
    },
    {
     "name": "stderr",
     "output_type": "stream",
     "text": [
      "Concatenating files:  70%|██████▉   | 1014/1454 [04:58<01:48,  4.06it/s]"
     ]
    },
    {
     "name": "stdout",
     "output_type": "stream",
     "text": [
      "Error processing file /eos/lhcb/user/m/melashri/data/red_RD/B2L0PbarKpKp/2016/MagUp/LL/datadata_2016MagUp_603_reduced.root: index -1 is out of bounds for axis 0 with size 0\n"
     ]
    },
    {
     "name": "stderr",
     "output_type": "stream",
     "text": [
      "Concatenating files:  70%|███████   | 1023/1454 [05:00<01:49,  3.94it/s]"
     ]
    },
    {
     "name": "stdout",
     "output_type": "stream",
     "text": [
      "Error processing file /eos/lhcb/user/m/melashri/data/red_RD/B2L0PbarKpKp/2016/MagUp/LL/datadata_2016MagUp_611_reduced.root: index -1 is out of bounds for axis 0 with size 0\n"
     ]
    },
    {
     "name": "stderr",
     "output_type": "stream",
     "text": [
      "Concatenating files:  95%|█████████▌| 1384/1454 [06:35<00:19,  3.52it/s]"
     ]
    },
    {
     "name": "stdout",
     "output_type": "stream",
     "text": [
      "Error processing file /eos/lhcb/user/m/melashri/data/red_RD/B2L0PbarKpKp/2016/MagUp/LL/datadata_2016MagUp_937_reduced.root: index -1 is out of bounds for axis 0 with size 0\n"
     ]
    },
    {
     "name": "stderr",
     "output_type": "stream",
     "text": [
      "Concatenating files: 100%|██████████| 1454/1454 [06:52<00:00,  3.52it/s]\n"
     ]
    },
    {
     "name": "stdout",
     "output_type": "stream",
     "text": [
      "Data saved to /eos/lhcb/user/m/melashri/data/red_RD/B2L0PbarKpKp_2016_MagUp_LL.root\n",
      "Processing: B2L0PbarKpKp, 2017, MagDown, DD\n"
     ]
    },
    {
     "name": "stderr",
     "output_type": "stream",
     "text": [
      "Concatenating files:   9%|▉         | 126/1434 [00:31<05:53,  3.70it/s]"
     ]
    },
    {
     "name": "stdout",
     "output_type": "stream",
     "text": [
      "Error processing file /eos/lhcb/user/m/melashri/data/red_RD/B2L0PbarKpKp/2017/MagDown/DD/datadata_2017MagDown_1112_reduced.root: index -1 is out of bounds for axis 0 with size 0\n"
     ]
    },
    {
     "name": "stderr",
     "output_type": "stream",
     "text": [
      "Concatenating files:   9%|▉         | 131/1434 [00:32<04:57,  4.38it/s]"
     ]
    },
    {
     "name": "stdout",
     "output_type": "stream",
     "text": [
      "Error processing file /eos/lhcb/user/m/melashri/data/red_RD/B2L0PbarKpKp/2017/MagDown/DD/datadata_2017MagDown_1117_reduced.root: index -1 is out of bounds for axis 0 with size 0\n"
     ]
    },
    {
     "name": "stderr",
     "output_type": "stream",
     "text": [
      "Concatenating files:  44%|████▍     | 634/1434 [02:52<03:10,  4.20it/s]  "
     ]
    },
    {
     "name": "stdout",
     "output_type": "stream",
     "text": [
      "Error processing file /eos/lhcb/user/m/melashri/data/red_RD/B2L0PbarKpKp/2017/MagDown/DD/datadata_2017MagDown_27_reduced.root: entries in normal baskets (0) plus embedded baskets (0) don't add up to expected number of entries (94)\n",
      "in file /eos/lhcb/user/m/melashri/data/red_RD/B2L0PbarKpKp/2017/MagDown/DD/datadata_2017MagDown_27_reduced.root\n"
     ]
    },
    {
     "name": "stderr",
     "output_type": "stream",
     "text": [
      "Concatenating files:  58%|█████▊    | 826/1434 [03:42<02:39,  3.81it/s]"
     ]
    },
    {
     "name": "stdout",
     "output_type": "stream",
     "text": [
      "Error processing file /eos/lhcb/user/m/melashri/data/red_RD/B2L0PbarKpKp/2017/MagDown/DD/datadata_2017MagDown_452_reduced.root: index -1 is out of bounds for axis 0 with size 0\n"
     ]
    },
    {
     "name": "stderr",
     "output_type": "stream",
     "text": [
      "Concatenating files:  71%|███████▏  | 1023/1434 [04:33<01:40,  4.11it/s]"
     ]
    },
    {
     "name": "stdout",
     "output_type": "stream",
     "text": [
      "Error processing file /eos/lhcb/user/m/melashri/data/red_RD/B2L0PbarKpKp/2017/MagDown/DD/datadata_2017MagDown_62_reduced.root: index -1 is out of bounds for axis 0 with size 0\n"
     ]
    },
    {
     "name": "stderr",
     "output_type": "stream",
     "text": [
      "Concatenating files:  96%|█████████▋| 1383/1434 [06:12<00:11,  4.27it/s]"
     ]
    },
    {
     "name": "stdout",
     "output_type": "stream",
     "text": [
      "Error processing file /eos/lhcb/user/m/melashri/data/red_RD/B2L0PbarKpKp/2017/MagDown/DD/datadata_2017MagDown_954_reduced.root: index -1 is out of bounds for axis 0 with size 0\n"
     ]
    },
    {
     "name": "stderr",
     "output_type": "stream",
     "text": [
      "Concatenating files: 100%|██████████| 1434/1434 [06:26<00:00,  3.71it/s]\n"
     ]
    },
    {
     "name": "stdout",
     "output_type": "stream",
     "text": [
      "Data saved to /eos/lhcb/user/m/melashri/data/red_RD/B2L0PbarKpKp_2017_MagDown_DD.root\n",
      "Processing: B2L0PbarKpKp, 2017, MagDown, LL\n"
     ]
    },
    {
     "name": "stderr",
     "output_type": "stream",
     "text": [
      "Concatenating files:   4%|▍         | 62/1434 [00:15<05:48,  3.94it/s]"
     ]
    },
    {
     "name": "stdout",
     "output_type": "stream",
     "text": [
      "Error processing file /eos/lhcb/user/m/melashri/data/red_RD/B2L0PbarKpKp/2017/MagDown/LL/datadata_2017MagDown_1055_reduced.root: index -1 is out of bounds for axis 0 with size 0\n"
     ]
    },
    {
     "name": "stderr",
     "output_type": "stream",
     "text": [
      "Concatenating files:   6%|▌         | 87/1434 [00:21<05:05,  4.41it/s]"
     ]
    },
    {
     "name": "stdout",
     "output_type": "stream",
     "text": [
      "Error processing file /eos/lhcb/user/m/melashri/data/red_RD/B2L0PbarKpKp/2017/MagDown/LL/datadata_2017MagDown_1078_reduced.root: index -1 is out of bounds for axis 0 with size 0\n"
     ]
    },
    {
     "name": "stderr",
     "output_type": "stream",
     "text": [
      "Concatenating files:  12%|█▏        | 173/1434 [00:42<05:44,  3.66it/s]"
     ]
    },
    {
     "name": "stdout",
     "output_type": "stream",
     "text": [
      "Error processing file /eos/lhcb/user/m/melashri/data/red_RD/B2L0PbarKpKp/2017/MagDown/LL/datadata_2017MagDown_1155_reduced.root: index -1 is out of bounds for axis 0 with size 0\n"
     ]
    },
    {
     "name": "stderr",
     "output_type": "stream",
     "text": [
      "Concatenating files:  15%|█▍        | 213/1434 [00:53<04:59,  4.08it/s]"
     ]
    },
    {
     "name": "stdout",
     "output_type": "stream",
     "text": [
      "Error processing file /eos/lhcb/user/m/melashri/data/red_RD/B2L0PbarKpKp/2017/MagDown/LL/datadata_2017MagDown_1191_reduced.root: index -1 is out of bounds for axis 0 with size 0\n"
     ]
    },
    {
     "name": "stderr",
     "output_type": "stream",
     "text": [
      "Concatenating files:  31%|███       | 448/1434 [01:52<04:26,  3.70it/s]"
     ]
    },
    {
     "name": "stdout",
     "output_type": "stream",
     "text": [
      "Error processing file /eos/lhcb/user/m/melashri/data/red_RD/B2L0PbarKpKp/2017/MagDown/LL/datadata_2017MagDown_1402_reduced.root: index -1 is out of bounds for axis 0 with size 0\n"
     ]
    },
    {
     "name": "stderr",
     "output_type": "stream",
     "text": [
      "Concatenating files:  52%|█████▏    | 740/1434 [03:08<02:41,  4.29it/s]"
     ]
    },
    {
     "name": "stdout",
     "output_type": "stream",
     "text": [
      "Error processing file /eos/lhcb/user/m/melashri/data/red_RD/B2L0PbarKpKp/2017/MagDown/LL/datadata_2017MagDown_375_reduced.root: index -1 is out of bounds for axis 0 with size 0\n"
     ]
    },
    {
     "name": "stderr",
     "output_type": "stream",
     "text": [
      "Concatenating files:  68%|██████▊   | 975/1434 [04:11<02:01,  3.78it/s]"
     ]
    },
    {
     "name": "stdout",
     "output_type": "stream",
     "text": [
      "Error processing file /eos/lhcb/user/m/melashri/data/red_RD/B2L0PbarKpKp/2017/MagDown/LL/datadata_2017MagDown_587_reduced.root: index -1 is out of bounds for axis 0 with size 0\n"
     ]
    },
    {
     "name": "stderr",
     "output_type": "stream",
     "text": [
      "Concatenating files:  71%|███████   | 1019/1434 [04:22<01:42,  4.03it/s]"
     ]
    },
    {
     "name": "stdout",
     "output_type": "stream",
     "text": [
      "Error processing file /eos/lhcb/user/m/melashri/data/red_RD/B2L0PbarKpKp/2017/MagDown/LL/datadata_2017MagDown_626_reduced.root: index -1 is out of bounds for axis 0 with size 0\n"
     ]
    },
    {
     "name": "stderr",
     "output_type": "stream",
     "text": [
      "Concatenating files: 100%|██████████| 1434/1434 [06:08<00:00,  3.89it/s]\n"
     ]
    },
    {
     "name": "stdout",
     "output_type": "stream",
     "text": [
      "Data saved to /eos/lhcb/user/m/melashri/data/red_RD/B2L0PbarKpKp_2017_MagDown_LL.root\n",
      "Processing: B2L0PbarKpKp, 2017, MagUp, DD\n"
     ]
    },
    {
     "name": "stderr",
     "output_type": "stream",
     "text": [
      "Concatenating files:   0%|          | 2/1364 [00:00<05:44,  3.95it/s]"
     ]
    },
    {
     "name": "stdout",
     "output_type": "stream",
     "text": [
      "Error processing file /eos/lhcb/user/m/melashri/data/red_RD/B2L0PbarKpKp/2017/MagUp/DD/datadata_2017MagUp_1000_reduced.root: index -1 is out of bounds for axis 0 with size 0\n"
     ]
    },
    {
     "name": "stderr",
     "output_type": "stream",
     "text": [
      "Concatenating files:   1%|          | 7/1364 [00:01<06:00,  3.77it/s]"
     ]
    },
    {
     "name": "stdout",
     "output_type": "stream",
     "text": [
      "Error processing file /eos/lhcb/user/m/melashri/data/red_RD/B2L0PbarKpKp/2017/MagUp/DD/datadata_2017MagUp_1005_reduced.root: index -1 is out of bounds for axis 0 with size 0\n"
     ]
    },
    {
     "name": "stderr",
     "output_type": "stream",
     "text": [
      "Concatenating files:   4%|▍         | 59/1364 [00:15<05:39,  3.85it/s]"
     ]
    },
    {
     "name": "stdout",
     "output_type": "stream",
     "text": [
      "Error processing file /eos/lhcb/user/m/melashri/data/red_RD/B2L0PbarKpKp/2017/MagUp/DD/datadata_2017MagUp_1052_reduced.root: while reading\n",
      "\n",
      "    TBasket version None as uproot.models.TBasket.Model_TBasket (? bytes)\n",
      "\n",
      "attempting to get bytes 119923:119941\n",
      "outside expected range 119923:119923 for this Chunk\n",
      "in file /eos/lhcb/user/m/melashri/data/red_RD/B2L0PbarKpKp/2017/MagUp/DD/datadata_2017MagUp_1052_reduced.root\n"
     ]
    },
    {
     "name": "stderr",
     "output_type": "stream",
     "text": [
      "Concatenating files:   8%|▊         | 103/1364 [00:27<05:15,  3.99it/s]"
     ]
    },
    {
     "name": "stdout",
     "output_type": "stream",
     "text": [
      "Error processing file /eos/lhcb/user/m/melashri/data/red_RD/B2L0PbarKpKp/2017/MagUp/DD/datadata_2017MagUp_1092_reduced.root: index -1 is out of bounds for axis 0 with size 0\n"
     ]
    },
    {
     "name": "stderr",
     "output_type": "stream",
     "text": [
      "Concatenating files:  21%|██        | 284/1364 [01:12<04:18,  4.19it/s]"
     ]
    },
    {
     "name": "stdout",
     "output_type": "stream",
     "text": [
      "Error processing file /eos/lhcb/user/m/melashri/data/red_RD/B2L0PbarKpKp/2017/MagUp/DD/datadata_2017MagUp_1255_reduced.root: index -1 is out of bounds for axis 0 with size 0\n"
     ]
    },
    {
     "name": "stderr",
     "output_type": "stream",
     "text": [
      "Concatenating files:  59%|█████▉    | 806/1364 [03:28<02:25,  3.84it/s]"
     ]
    },
    {
     "name": "stdout",
     "output_type": "stream",
     "text": [
      "Error processing file /eos/lhcb/user/m/melashri/data/red_RD/B2L0PbarKpKp/2017/MagUp/DD/datadata_2017MagUp_498_reduced.root: index -1 is out of bounds for axis 0 with size 0\n"
     ]
    },
    {
     "name": "stderr",
     "output_type": "stream",
     "text": [
      "Concatenating files:  67%|██████▋   | 920/1364 [03:57<01:48,  4.11it/s]"
     ]
    },
    {
     "name": "stdout",
     "output_type": "stream",
     "text": [
      "Error processing file /eos/lhcb/user/m/melashri/data/red_RD/B2L0PbarKpKp/2017/MagUp/DD/datadata_2017MagUp_5_reduced.root: index -1 is out of bounds for axis 0 with size 0\n"
     ]
    },
    {
     "name": "stderr",
     "output_type": "stream",
     "text": [
      "Concatenating files:  71%|███████   | 963/1364 [04:08<01:46,  3.78it/s]"
     ]
    },
    {
     "name": "stdout",
     "output_type": "stream",
     "text": [
      "Error processing file /eos/lhcb/user/m/melashri/data/red_RD/B2L0PbarKpKp/2017/MagUp/DD/datadata_2017MagUp_639_reduced.root: index -1 is out of bounds for axis 0 with size 0\n"
     ]
    },
    {
     "name": "stderr",
     "output_type": "stream",
     "text": [
      "Concatenating files:  95%|█████████▍| 1294/1364 [05:35<00:18,  3.71it/s]"
     ]
    },
    {
     "name": "stdout",
     "output_type": "stream",
     "text": [
      "Error processing file /eos/lhcb/user/m/melashri/data/red_RD/B2L0PbarKpKp/2017/MagUp/DD/datadata_2017MagUp_937_reduced.root: index -1 is out of bounds for axis 0 with size 0\n"
     ]
    },
    {
     "name": "stderr",
     "output_type": "stream",
     "text": [
      "Concatenating files: 100%|██████████| 1364/1364 [05:53<00:00,  3.86it/s]\n"
     ]
    },
    {
     "name": "stdout",
     "output_type": "stream",
     "text": [
      "Data saved to /eos/lhcb/user/m/melashri/data/red_RD/B2L0PbarKpKp_2017_MagUp_DD.root\n",
      "Processing: B2L0PbarKpKp, 2017, MagUp, LL\n"
     ]
    },
    {
     "name": "stderr",
     "output_type": "stream",
     "text": [
      "Concatenating files:  17%|█▋        | 230/1364 [00:58<04:35,  4.12it/s]"
     ]
    },
    {
     "name": "stdout",
     "output_type": "stream",
     "text": [
      "Error processing file /eos/lhcb/user/m/melashri/data/red_RD/B2L0PbarKpKp/2017/MagUp/LL/datadata_2017MagUp_1206_reduced.root: index -1 is out of bounds for axis 0 with size 0\n"
     ]
    },
    {
     "name": "stderr",
     "output_type": "stream",
     "text": [
      "Concatenating files:  34%|███▎      | 460/1364 [01:55<03:56,  3.83it/s]"
     ]
    },
    {
     "name": "stdout",
     "output_type": "stream",
     "text": [
      "Error processing file /eos/lhcb/user/m/melashri/data/red_RD/B2L0PbarKpKp/2017/MagUp/LL/datadata_2017MagUp_186_reduced.root: index -1 is out of bounds for axis 0 with size 0\n"
     ]
    },
    {
     "name": "stderr",
     "output_type": "stream",
     "text": [
      "Concatenating files:  80%|████████  | 1095/1364 [04:40<01:17,  3.48it/s]"
     ]
    },
    {
     "name": "stdout",
     "output_type": "stream",
     "text": [
      "Error processing file /eos/lhcb/user/m/melashri/data/red_RD/B2L0PbarKpKp/2017/MagUp/LL/datadata_2017MagUp_758_reduced.root: index -1 is out of bounds for axis 0 with size 0\n"
     ]
    },
    {
     "name": "stderr",
     "output_type": "stream",
     "text": [
      "Concatenating files:  86%|████████▋ | 1179/1364 [05:01<00:42,  4.32it/s]"
     ]
    },
    {
     "name": "stdout",
     "output_type": "stream",
     "text": [
      "Error processing file /eos/lhcb/user/m/melashri/data/red_RD/B2L0PbarKpKp/2017/MagUp/LL/datadata_2017MagUp_833_reduced.root: index -1 is out of bounds for axis 0 with size 0\n"
     ]
    },
    {
     "name": "stderr",
     "output_type": "stream",
     "text": [
      "Concatenating files:  92%|█████████▏| 1250/1364 [05:19<00:26,  4.35it/s]"
     ]
    },
    {
     "name": "stdout",
     "output_type": "stream",
     "text": [
      "Error processing file /eos/lhcb/user/m/melashri/data/red_RD/B2L0PbarKpKp/2017/MagUp/LL/datadata_2017MagUp_898_reduced.root: index -1 is out of bounds for axis 0 with size 0\n"
     ]
    },
    {
     "name": "stderr",
     "output_type": "stream",
     "text": [
      "Concatenating files:  99%|█████████▉| 1355/1364 [05:46<00:02,  4.31it/s]"
     ]
    },
    {
     "name": "stdout",
     "output_type": "stream",
     "text": [
      "Error processing file /eos/lhcb/user/m/melashri/data/red_RD/B2L0PbarKpKp/2017/MagUp/LL/datadata_2017MagUp_992_reduced.root: index -1 is out of bounds for axis 0 with size 0\n"
     ]
    },
    {
     "name": "stderr",
     "output_type": "stream",
     "text": [
      "Concatenating files: 100%|██████████| 1364/1364 [05:48<00:00,  3.91it/s]\n"
     ]
    },
    {
     "name": "stdout",
     "output_type": "stream",
     "text": [
      "Data saved to /eos/lhcb/user/m/melashri/data/red_RD/B2L0PbarKpKp_2017_MagUp_LL.root\n"
     ]
    }
   ],
   "source": [
    "if __name__ == \"__main__\":\n",
    "    base_dir = \"/eos/lhcb/user/m/melashri/data/red_RD\"\n",
    "    decay_trees = [\"B2L0PbarKpKp\"]\n",
    "    years = [\"2016\", \"2017\"]\n",
    "    magnets = [\"MagDown\", \"MagUp\"]\n",
    "    ll_or_dds = [\"DD\", \"LL\"]\n",
    "    use_parallel = False  # Set to False to run in serial mode\n",
    "    main(base_dir, decay_trees, years, magnets, ll_or_dds, use_parallel)"
   ]
  },
  {
   "cell_type": "code",
   "execution_count": null,
   "id": "f1ad8102",
   "metadata": {},
   "outputs": [],
   "source": []
  }
 ],
 "metadata": {
  "@webio": {
   "lastCommId": null,
   "lastKernelId": null
  },
  "kernelspec": {
   "display_name": "Python 3",
   "language": "python",
   "name": "python3"
  },
  "language_info": {
   "codemirror_mode": {
    "name": "ipython",
    "version": 3
   },
   "file_extension": ".py",
   "mimetype": "text/x-python",
   "name": "python",
   "nbconvert_exporter": "python",
   "pygments_lexer": "ipython3",
   "version": "3.9.12"
  }
 },
 "nbformat": 4,
 "nbformat_minor": 5
}
